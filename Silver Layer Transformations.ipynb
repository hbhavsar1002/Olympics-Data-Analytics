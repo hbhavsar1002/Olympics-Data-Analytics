{
 "cells": [
  {
   "cell_type": "code",
   "execution_count": 0,
   "metadata": {
    "application/vnd.databricks.v1+cell": {
     "cellMetadata": {
      "byteLimit": 2048000,
      "rowLimit": 10000
     },
     "inputWidgets": {},
     "nuid": "ac3c93c3-fa92-44ca-a457-5f3c9e3b2212",
     "showTitle": false,
     "tableResultSettingsMap": {},
     "title": ""
    }
   },
   "outputs": [],
   "source": [
    "from pyspark.sql.functions import col, sum, expr, regexp_replace,split, when, size, trim"
   ]
  },
  {
   "cell_type": "code",
   "execution_count": 0,
   "metadata": {
    "application/vnd.databricks.v1+cell": {
     "cellMetadata": {
      "byteLimit": 2048000,
      "rowLimit": 10000
     },
     "inputWidgets": {},
     "nuid": "110a342a-311f-4fce-bdf7-757139b8d2ee",
     "showTitle": false,
     "tableResultSettingsMap": {},
     "title": ""
    }
   },
   "outputs": [],
   "source": [
    "\n",
    "configs = {\"fs.azure.account.auth.type\": \"OAuth\",\n",
    "\"fs.azure.account.oauth.provider.type\": \"org.apache.hadoop.fs.azurebfs.oauth2.ClientCredsTokenProvider\",\n",
    "\"fs.azure.account.oauth2.client.id\": \"<client_id>\",\n",
    "\"fs.azure.account.oauth2.client.secret\": \"<secret_key>\",\n",
    "\"fs.azure.account.oauth2.client.endpoint\": \"https://login.microsoftonline.com/tenant-id/oauth2/token\"}\n",
    "\n",
    "\n",
    "dbutils.fs.mount(\n",
    "source = \"abfss://olympic@olyharsh.dfs.core.windows.net\", # contrainer@storageacc\n",
    "mount_point = \"/mnt/olympic\",\n",
    "extra_configs = configs)\n",
    "  "
   ]
  },
  {
   "cell_type": "code",
   "execution_count": 0,
   "metadata": {
    "application/vnd.databricks.v1+cell": {
     "cellMetadata": {
      "byteLimit": 2048000,
      "rowLimit": 10000
     },
     "inputWidgets": {},
     "nuid": "deab5dbb-7e1d-4c9d-8a79-d65abaeca007",
     "showTitle": false,
     "tableResultSettingsMap": {},
     "title": ""
    }
   },
   "outputs": [
    {
     "data": {
      "text/html": [
       "<style scoped>\n",
       "  .table-result-container {\n",
       "    max-height: 300px;\n",
       "    overflow: auto;\n",
       "  }\n",
       "  table, th, td {\n",
       "    border: 1px solid black;\n",
       "    border-collapse: collapse;\n",
       "  }\n",
       "  th, td {\n",
       "    padding: 5px;\n",
       "  }\n",
       "  th {\n",
       "    text-align: left;\n",
       "  }\n",
       "</style><div class='table-result-container'><table class='table-result'><thead style='background-color: white'><tr><th>path</th><th>name</th><th>size</th><th>modificationTime</th></tr></thead><tbody><tr><td>dbfs:/mnt/olympic/raw/</td><td>raw/</td><td>0</td><td>1740612934000</td></tr><tr><td>dbfs:/mnt/olympic/transformed/</td><td>transformed/</td><td>0</td><td>1740612943000</td></tr></tbody></table></div>"
      ]
     },
     "metadata": {
      "application/vnd.databricks.v1+output": {
       "addedWidgets": {},
       "aggData": [],
       "aggError": "",
       "aggOverflow": false,
       "aggSchema": [],
       "aggSeriesLimitReached": false,
       "aggType": "",
       "arguments": {},
       "columnCustomDisplayInfos": {},
       "data": [
        [
         "dbfs:/mnt/olympic/raw/",
         "raw/",
         0,
         1740612934000
        ],
        [
         "dbfs:/mnt/olympic/transformed/",
         "transformed/",
         0,
         1740612943000
        ]
       ],
       "datasetInfos": [],
       "dbfsResultPath": null,
       "isJsonSchema": true,
       "metadata": {
        "isDbfsCommandResult": false
       },
       "overflow": false,
       "plotOptions": {
        "customPlotOptions": {},
        "displayType": "table",
        "pivotAggregation": null,
        "pivotColumns": null,
        "xColumns": null,
        "yColumns": null
       },
       "removedWidgets": [],
       "schema": [
        {
         "metadata": "{}",
         "name": "path",
         "type": "\"string\""
        },
        {
         "metadata": "{}",
         "name": "name",
         "type": "\"string\""
        },
        {
         "metadata": "{}",
         "name": "size",
         "type": "\"long\""
        },
        {
         "metadata": "{}",
         "name": "modificationTime",
         "type": "\"long\""
        }
       ],
       "type": "table"
      }
     },
     "output_type": "display_data"
    }
   ],
   "source": [
    "%fs\n",
    "ls \"/mnt/olympic\""
   ]
  },
  {
   "cell_type": "code",
   "execution_count": 0,
   "metadata": {
    "application/vnd.databricks.v1+cell": {
     "cellMetadata": {
      "byteLimit": 2048000,
      "rowLimit": 10000
     },
     "inputWidgets": {},
     "nuid": "d38674e4-d7fa-44b8-bbaa-8ce09ee6d743",
     "showTitle": false,
     "tableResultSettingsMap": {},
     "title": ""
    }
   },
   "outputs": [],
   "source": [
    "athletes = spark.read.format(\"csv\").option(\"header\", \"true\").load(\"/mnt/olympic/raw/Tokyo/Athletes.csv\")"
   ]
  },
  {
   "cell_type": "code",
   "execution_count": 0,
   "metadata": {
    "application/vnd.databricks.v1+cell": {
     "cellMetadata": {
      "byteLimit": 2048000,
      "rowLimit": 10000
     },
     "inputWidgets": {},
     "nuid": "eb42e7be-b109-4485-942b-388fac6563d8",
     "showTitle": false,
     "tableResultSettingsMap": {},
     "title": ""
    }
   },
   "outputs": [
    {
     "name": "stdout",
     "output_type": "stream",
     "text": [
      "+--------------------+--------------------+-------------------+\n",
      "|                Name|                 NOC|         Discipline|\n",
      "+--------------------+--------------------+-------------------+\n",
      "|     AALERUD Katrine|              Norway|       Cycling Road|\n",
      "|         ABAD Nestor|               Spain|Artistic Gymnastics|\n",
      "|   ABAGNALE Giovanni|               Italy|             Rowing|\n",
      "|      ABALDE Alberto|               Spain|         Basketball|\n",
      "|       ABALDE Tamara|               Spain|         Basketball|\n",
      "|           ABALO Luc|              France|           Handball|\n",
      "|        ABAROA Cesar|               Chile|             Rowing|\n",
      "|       ABASS Abobakr|               Sudan|           Swimming|\n",
      "|    ABBASALI Hamideh|Islamic Republic ...|             Karate|\n",
      "|       ABBASOV Islam|          Azerbaijan|          Wrestling|\n",
      "|        ABBINGH Lois|         Netherlands|           Handball|\n",
      "|         ABBOT Emily|           Australia|Rhythmic Gymnastics|\n",
      "|       ABBOTT Monica|United States of ...|  Baseball/Softball|\n",
      "|ABDALLA Abubaker ...|               Qatar|          Athletics|\n",
      "|      ABDALLA Maryam|               Egypt|  Artistic Swimming|\n",
      "|      ABDALLAH Shahd|               Egypt|  Artistic Swimming|\n",
      "| ABDALRASOOL Mohamed|               Sudan|               Judo|\n",
      "|   ABDEL LATIF Radwa|               Egypt|           Shooting|\n",
      "|    ABDEL RAZEK Samy|               Egypt|           Shooting|\n",
      "|   ABDELAZIZ Abdalla|               Egypt|             Karate|\n",
      "+--------------------+--------------------+-------------------+\n",
      "only showing top 20 rows\n",
      "\n"
     ]
    }
   ],
   "source": [
    "athletes.show()"
   ]
  },
  {
   "cell_type": "code",
   "execution_count": 0,
   "metadata": {
    "application/vnd.databricks.v1+cell": {
     "cellMetadata": {
      "byteLimit": 2048000,
      "rowLimit": 10000
     },
     "inputWidgets": {},
     "nuid": "2312ebdb-bbcb-4aea-849b-141ccc1afd3f",
     "showTitle": false,
     "tableResultSettingsMap": {},
     "title": ""
    }
   },
   "outputs": [],
   "source": [
    "filenames = [\"Athletes.csv\", \"Medals.csv\", \"Coaches.csv\", \"EntriesGender.csv\", \"Teams.csv\"]\n",
    "\n",
    "base_url1 = \"/mnt/olympic/raw/Tokyo/\"\n",
    "\n",
    "tokyo = {}\n",
    "\n",
    "for i in filenames:\n",
    "    df = spark.read.format(\"csv\").option(\"header\", \"true\").option(\"inferSchema\", \"true\").load(base_url1 + i)\n",
    "    #The * unpacks the list elements as separate arguments for .toDF() \n",
    "    #the file and column names should be lower case\n",
    "    df = df.toDF(*[c.lower() for c in df.columns])\n",
    "    tokyo[i.lower()] = df\n"
   ]
  },
  {
   "cell_type": "code",
   "execution_count": 0,
   "metadata": {
    "application/vnd.databricks.v1+cell": {
     "cellMetadata": {
      "byteLimit": 2048000,
      "rowLimit": 10000
     },
     "inputWidgets": {},
     "nuid": "1b35c1fa-3c0c-4f68-b908-1544880be5e7",
     "showTitle": false,
     "tableResultSettingsMap": {},
     "title": ""
    }
   },
   "outputs": [
    {
     "data": {
      "text/plain": [
       "{'athletes.csv': DataFrame[name: string, noc: string, discipline: string],\n",
       " 'medals.csv': DataFrame[rank: int, team/noc: string, gold: int, silver: int, bronze: int, total: int, rank by total: int],\n",
       " 'coaches.csv': DataFrame[name: string, noc: string, discipline: string, event: string],\n",
       " 'entriesgender.csv': DataFrame[discipline: string, female: int, male: int, total: int],\n",
       " 'teams.csv': DataFrame[name: string, discipline: string, noc: string, event: string]}"
      ]
     },
     "execution_count": 135,
     "metadata": {},
     "output_type": "execute_result"
    }
   ],
   "source": [
    "tokyo"
   ]
  },
  {
   "cell_type": "code",
   "execution_count": 0,
   "metadata": {
    "application/vnd.databricks.v1+cell": {
     "cellMetadata": {
      "byteLimit": 2048000,
      "rowLimit": 10000
     },
     "inputWidgets": {},
     "nuid": "4f004509-a4fa-4a75-afde-c73c93c0b399",
     "showTitle": false,
     "tableResultSettingsMap": {},
     "title": ""
    }
   },
   "outputs": [
    {
     "name": "stdout",
     "output_type": "stream",
     "text": [
      "+--------------------+--------------------+-------------------+\n",
      "|                name|                 noc|         discipline|\n",
      "+--------------------+--------------------+-------------------+\n",
      "|     AALERUD Katrine|              Norway|       Cycling Road|\n",
      "|         ABAD Nestor|               Spain|Artistic Gymnastics|\n",
      "|   ABAGNALE Giovanni|               Italy|             Rowing|\n",
      "|      ABALDE Alberto|               Spain|         Basketball|\n",
      "|       ABALDE Tamara|               Spain|         Basketball|\n",
      "|           ABALO Luc|              France|           Handball|\n",
      "|        ABAROA Cesar|               Chile|             Rowing|\n",
      "|       ABASS Abobakr|               Sudan|           Swimming|\n",
      "|    ABBASALI Hamideh|Islamic Republic ...|             Karate|\n",
      "|       ABBASOV Islam|          Azerbaijan|          Wrestling|\n",
      "|        ABBINGH Lois|         Netherlands|           Handball|\n",
      "|         ABBOT Emily|           Australia|Rhythmic Gymnastics|\n",
      "|       ABBOTT Monica|United States of ...|  Baseball/Softball|\n",
      "|ABDALLA Abubaker ...|               Qatar|          Athletics|\n",
      "|      ABDALLA Maryam|               Egypt|  Artistic Swimming|\n",
      "|      ABDALLAH Shahd|               Egypt|  Artistic Swimming|\n",
      "| ABDALRASOOL Mohamed|               Sudan|               Judo|\n",
      "|   ABDEL LATIF Radwa|               Egypt|           Shooting|\n",
      "|    ABDEL RAZEK Samy|               Egypt|           Shooting|\n",
      "|   ABDELAZIZ Abdalla|               Egypt|             Karate|\n",
      "+--------------------+--------------------+-------------------+\n",
      "only showing top 20 rows\n",
      "\n"
     ]
    }
   ],
   "source": [
    "tokyo[\"athletes.csv\"].show()"
   ]
  },
  {
   "cell_type": "code",
   "execution_count": 0,
   "metadata": {
    "application/vnd.databricks.v1+cell": {
     "cellMetadata": {
      "byteLimit": 2048000,
      "rowLimit": 10000
     },
     "inputWidgets": {},
     "nuid": "8fe3c870-c43b-42b6-8587-eb4ed8b4d4f8",
     "showTitle": false,
     "tableResultSettingsMap": {},
     "title": ""
    }
   },
   "outputs": [],
   "source": [
    "filenames = [\"athletes.csv\", \"medals.csv\", \"nocs.csv\", \"medals_total.csv\", \"coaches.csv\"]\n",
    "\n",
    "base_url1 = \"/mnt/olympic/raw/Paris/\"\n",
    "\n",
    "paris = {}\n",
    "\n",
    "for i in filenames:\n",
    "    paris[i] = spark.read.format(\"csv\").option(\"header\", \"true\").option(\"inferSchema\", \"true\").load(base_url1 + i)"
   ]
  },
  {
   "cell_type": "code",
   "execution_count": 0,
   "metadata": {
    "application/vnd.databricks.v1+cell": {
     "cellMetadata": {
      "byteLimit": 2048000,
      "rowLimit": 10000
     },
     "inputWidgets": {},
     "nuid": "6e8a6f8f-1872-4b65-86eb-5869e0bf3b91",
     "showTitle": false,
     "tableResultSettingsMap": {},
     "title": ""
    }
   },
   "outputs": [
    {
     "name": "stdout",
     "output_type": "stream",
     "text": [
      "+-------+-------+--------------------+---------------+--------------------+------+--------+------------+--------+------------+-----------+----------------+----------------+------+------+--------------------+--------------------+--------------------+-------------------+-------------+-------------------+-----------------+--------------------+--------------------+--------------------+--------------------+--------------------+--------------------+--------------------+--------------------+--------------------+--------------------+--------------------+--------------------+--------------------+--------------------+\n",
      "|   code|current|                name|     name_short|             name_tv|gender|function|country_code| country|country_long|nationality|nationality_long|nationality_code|height|weight|         disciplines|              events|          birth_date|        birth_place|birth_country|    residence_place|residence_country|            nickname|             hobbies|          occupation|           education|              family|                lang|               coach|              reason|                hero|           influence|          philosophy|  sporting_relatives|              ritual|        other_sports|\n",
      "+-------+-------+--------------------+---------------+--------------------+------+--------+------------+--------+------------+-----------+----------------+----------------+------+------+--------------------+--------------------+--------------------+-------------------+-------------+-------------------+-----------------+--------------------+--------------------+--------------------+--------------------+--------------------+--------------------+--------------------+--------------------+--------------------+--------------------+--------------------+--------------------+--------------------+--------------------+\n",
      "|1532872|   true|    ALEKSANYAN Artur|   ALEKSANYAN A|    Artur ALEKSANYAN|  Male| Athlete|         ARM| Armenia|     Armenia|    Armenia|         Armenia|             ARM|   0.0|   0.0|       ['Wrestling']|\"[\"\"Men's Greco-R...|          1991-10-21|             GYUMRI|      Armenia|             GYUMRI|          Armenia|          White Bear|Playing and watch...|             Athlete|Graduated from Sh...|Father, Gevorg Al...|Armenian, English...|Gevorg Aleksanyan...|He followed his f...|Footballer Zinedi...|His father, Gevor...|\"\"\"Wrestling is m...|                NULL|                NULL|                NULL|\n",
      "|1532873|   true|      AMOYAN Malkhas|       AMOYAN M|      Malkhas AMOYAN|  Male| Athlete|         ARM| Armenia|     Armenia|    Armenia|         Armenia|             ARM|   0.0|   0.0|       ['Wrestling']|\"[\"\"Men's Greco-R...|          1999-01-22|            YEREVAN|      Armenia|            YEREVAN|          Armenia|                NULL|                NULL|                NULL|                NULL|                NULL|            Armenian|                NULL|                NULL|                NULL|                NULL|\"\"\"To become a go...| you first have t...|        6 Oct 2018)\"|Uncle, Roman Amoy...|\n",
      "|1532874|   true|     GALSTYAN Slavik|     GALSTYAN S|     Slavik GALSTYAN|  Male| Athlete|         ARM| Armenia|     Armenia|    Armenia|         Armenia|             ARM|   0.0|   0.0|       ['Wrestling']|\"[\"\"Men's Greco-R...|          1996-12-21|               NULL|         NULL|            YEREVAN|          Armenia|                NULL|                NULL|                NULL|                NULL|                NULL|            Armenian|Personal: Martin ...|                NULL|                NULL|                NULL|                NULL|                NULL|                NULL|                NULL|\n",
      "|1532944|   true|   HARUTYUNYAN Arsen|  HARUTYUNYAN A|   Arsen HARUTYUNYAN|  Male| Athlete|         ARM| Armenia|     Armenia|    Armenia|         Armenia|             ARM|   0.0|   0.0|       ['Wrestling']|\"[\"\"Men's Freesty...|          1999-11-22|              MASIS|      Armenia|            YEREVAN|          Armenia|                NULL|                NULL|             Athlete|Graduated with a ...|Wife, Diana (marr...|            Armenian|National: Habetna...|While doing karat...|Wrestler Armen Na...|                NULL|“Nothing is impos...|                NULL|                NULL|                NULL|\n",
      "|1532945|   true|     TEVANYAN Vazgen|     TEVANYAN V|     Vazgen TEVANYAN|  Male| Athlete|         ARM| Armenia|     Armenia|    Armenia|         Armenia|             ARM|   0.0|   0.0|       ['Wrestling']|\"[\"\"Men's Freesty...|          1999-10-27|          POKR VEDI|      Armenia|               NULL|          Armenia|                NULL|                NULL|             Athlete|Studied at the Ar...|Wife, Sona (marri...|   Armenian, Russian|National: Habetna...|“My family did no...|                NULL|                NULL|                NULL|                NULL|                NULL|                NULL|\n",
      "|1532951|   true|       ARENAS Lorena|       ARENAS L|       Lorena ARENAS|Female| Athlete|         COL|Colombia|    Colombia|   Colombia|        Colombia|             COL| 162.0|   0.0|       ['Athletics']|\"[\"\"Women's 20km ...| 'Marathon Race W...|         1993-09-17|      PEREIRA|           Colombia|        MELBOURNE|           Australia|                NULL|                NULL|             Athlete|Physical Educatio...|Father, Jose Oton...|             Spanish|Personal: Brent V...|                NULL|Race walker Luis ...|                NULL|                NULL|                NULL|In competition sh...|\n",
      "|1533112|   true|     McKENZIE Ashley|     McKENZIE A|     Ashley McKENZIE|  Male| Athlete|         JAM| Jamaica|     Jamaica|    Jamaica|         Jamaica|             JAM|   0.0|   0.0|            ['Judo']|      ['Men -60 kg']|          1989-07-17|             LONDON|Great Britain|          CAMBERLEY|    Great Britain|             Bad Boy|               Music|             Athlete|                NULL|One daughter, Lan...|             English|Personal and Nati...|\"\"\"I was thrown o...|       25 Jun 2024)\"|Boxer Muhammad Al...|\"\"\"My coach Luke ...|       25 Jun 2024)\"|                NULL|                NULL|\n",
      "|1533136|   true|BASS BITTAYE Gina...|BASS BITTAYE GM|Gina Mariam BASS ...|Female| Athlete|         GAM|  Gambia|      Gambia|     Gambia|          Gambia|             GAM| 161.0|   0.0|       ['Athletics']|  \"[\"\"Women's 100m\"\"|  \"\"Women's 200m\"\"]\"|         1995-05-03|     TUBAKUTA|             Gambia|             NULL|                NULL|Earlier in her ca...|                NULL|Athlete, police o...|                NULL|Husband, Mustapha...|     English, French|Personal: Christo...|“I started runnin...|\"Sprinter Shelly-...| she is consisten...| 16 Jan 2023)</p>...| three fourth pla...|               2020)|\n",
      "|1533176|   true|     CAMARA Ebrahima|       CAMARA E|     Ebrahima CAMARA|  Male| Athlete|         GAM|  Gambia|      Gambia|     Gambia|          Gambia|             GAM| 178.0|   0.0|       ['Athletics']|  \"[\"\"Men's 100m\"\"]\"|          1996-09-18|            BUNDUNG|       Gambia|             ANGERS|           France|                NULL|Running, watching...|Athlete, prison o...|                NULL|Married. One daug...|Arabic, English, ...|Personal: Christo...|\"\"\"I love running...|        7 Jul 2024)\"|Sprinter Gina Mar...|Momodou Lamin Kuj...|\"\"\"What does not ...|        7 Jul 2024)\"|                NULL|\n",
      "|1533188|   true| RUEDA SANTOS Lizeth| RUEDA SANTOS L| Lizeth RUEDA SANTOS|Female| Athlete|         MEX|  Mexico|      Mexico|     Mexico|          Mexico|             MEX|   0.0|   0.0|       ['Triathlon']|\"[\"\"Women's Indiv...|          1994-03-07|        GUADALAJARA|       Mexico|             XALAPA|           Mexico|                NULL|                NULL|             Athlete|Studied Medicine ...|                NULL|             Spanish|Personal: Eugenio...|Was a competitive...|                NULL|                NULL|                NULL|                NULL|                NULL|Competed in marat...|\n",
      "|1533189|   true|TAPIA VIDAL Rosa ...| TAPIA VIDAL RM|Rosa Maria TAPIA ...|Female| Athlete|         MEX|  Mexico|      Mexico|     Mexico|          Mexico|             MEX|   0.0|   0.0|       ['Triathlon']|\"[\"\"Women's Indiv...|          1997-08-27|         HERMOSILLO|       Mexico|        GUADALAJARA|           Mexico|                NULL|                NULL|             Athlete|Nutrition - Unive...|                NULL|    English, Spanish|Luis Miguel Cháve...|She always liked ...|                NULL|                NULL|                NULL|                NULL|                NULL|                NULL|\n",
      "|1533190|   true|   GRAJALES Crisanto|     GRAJALES C|   Crisanto GRAJALES|  Male| Athlete|         MEX|  Mexico|      Mexico|     Mexico|          Mexico|             MEX|   0.0|   0.0|       ['Triathlon']|\"[\"\"Men's Individ...|          1987-05-06|             XALAPA|       Mexico|             XALAPA|           Mexico|Diamante Negro (B...|        Music, films|             Athlete|Sport Studies - U...|Father, Crisanto ...|             Spanish|Personal: Eugenio...|\"Both his parents...|       29 Jul 2016)\"|Athlete German Si...|                NULL|\"\"\"In triathlon t...|       29 Jul 2016)\"|                NULL|\n",
      "|1533208|   true|    MAAROUFOU Hachim|    MAAROUFOU H|    Hachim MAAROUFOU|  Male| Athlete|         COM| Comoros|     Comoros|    Comoros|         Comoros|             COM| 183.0|   0.0|       ['Athletics']|  \"[\"\"Men's 100m\"\"]\"|          1997-02-13|          MARSEILLE|       France|          MARSEILLE|           France|                NULL|                NULL|             Athlete|                NULL|                NULL|              French|Personal: Franck ...|\"Started training...|       17 Jul 2003)\"|                NULL|                NULL|                NULL|                NULL|                NULL|\n",
      "|1533209|   true|        SAADI Maesha|        SAADI M|        Maesha SAADI|Female| Athlete|         COM| Comoros|     Comoros|    Comoros|         Comoros|             COM|   0.0|   0.0|        ['Swimming']|\"[\"\"Women's 50m F...|          2007-01-16|             VIENNE|       France|SAINT-ROMAIN-EN-GAL|           France|                NULL|                NULL|    Athlete, student|                NULL|Fther, Abdou-Sala...|              French|Personal: Marc-Ol...|Recruited into th...|                NULL|                NULL|                NULL|                NULL|                NULL|                NULL|\n",
      "|1533230|   true|      DIOSDADO Nuria|     DIOSDADO N|      Nuria DIOSDADO|Female| Athlete|         MEX|  Mexico|      Mexico|     Mexico|          Mexico|             MEX|   0.0|   0.0|['Artistic Swimmi...|    ['Team', 'Duet']|          1990-08-22|        GUADALAJARA|       Mexico|        MEXICO CITY|           Mexico|\"Nutria (\"\"Otter\"...|Spending time wit...|Athlete, sport so...|Studied Business ...|Husband, Javier A...|             Spanish|National: Adriana...|\"Began artistic s...|        6 Jan 2020)\"|Spanish artistic ...|         Her parents|\"\"\"Let everything...| no matter how di...|                NULL|\n",
      "|1533231|   true|       JIMENEZ Joana|      JIMENEZ J|       Joana JIMENEZ|Female| Athlete|         MEX|  Mexico|      Mexico|     Mexico|          Mexico|             MEX|   0.0|   0.0|['Artistic Swimmi...|    ['Team', 'Duet']|          1993-08-19|ECATEPEC DE MORELOS|       Mexico|        MEXICO CITY|           Mexico|                 Joa|             Dancing|Athlete, sport so...|Studied undergrad...|      Brother, Jorge|             Spanish|National: Adriana...|\"Her parents enro...|              Mexico| the first team w...| 'Does that reall...|      at that moment| I wanted to be o...|                NULL|\n",
      "|1533232|   true|     SOBRINO Jessica|      SOBRINO J|     Jessica SOBRINO|Female| Athlete|         MEX|  Mexico|      Mexico|     Mexico|          Mexico|             MEX|   0.0|   0.0|['Artistic Swimmi...|            ['Team']|          1994-05-26|        MEXICO CITY|       Mexico|        MEXICO CITY|           Mexico|                NULL|Going to the movi...|             Athlete|Studied Business ...|      Sister, Pamela|             Spanish|National: Adriana...|Followed her sist...|                NULL|                NULL|                NULL|\"Uncle, Salvador ...| finished 11th in...|                NULL|\n",
      "|1533234|   true|      ALFEREZ Regina|      ALFEREZ R|      Regina ALFEREZ|Female| Athlete|         MEX|  Mexico|      Mexico|     Mexico|          Mexico|             MEX|   0.0|   0.0|['Artistic Swimmi...|            ['Team']|          1997-12-01|               NULL|         NULL|        MEXICO CITY|           Mexico|                NULL|Travel, photograp...|             Athlete|Studied at Tecmil...|                NULL|             Spanish|National: Adriana...|                NULL|                NULL|                NULL|                NULL|                NULL|                NULL|                NULL|\n",
      "|1533235|   true|   ARELLANO Fernanda|     ARELLANO F|   Fernanda ARELLANO|Female| Athlete|         MEX|  Mexico|      Mexico|     Mexico|          Mexico|             MEX|   0.0|   0.0|['Artistic Swimmi...|            ['Team']|          2002-02-28|               NULL|         NULL|        MEXICO CITY|           Mexico|                NULL|                NULL|    Athlete, student|Studies at the Un...| Partner, Iker Casas|             Spanish|National: Adriana...|Trained in swimmi...|                NULL|                NULL|                NULL|Partner, Iker Cas...|                NULL|                NULL|\n",
      "|1533237|   true|      TOSCANO Pamela|      TOSCANO P|      Pamela TOSCANO|Female| Athlete|         MEX|  Mexico|      Mexico|     Mexico|          Mexico|             MEX|   0.0|   0.0|['Artistic Swimmi...|            ['Team']|          2000-01-13|               NULL|         NULL|        GUADALAJARA|           Mexico|                NULL|        Choreography|Athlete, sport so...|Studied Business ...|                NULL|             Spanish|National: Adriana...|                NULL|                NULL|                NULL|                NULL|                NULL|                NULL|                NULL|\n",
      "+-------+-------+--------------------+---------------+--------------------+------+--------+------------+--------+------------+-----------+----------------+----------------+------+------+--------------------+--------------------+--------------------+-------------------+-------------+-------------------+-----------------+--------------------+--------------------+--------------------+--------------------+--------------------+--------------------+--------------------+--------------------+--------------------+--------------------+--------------------+--------------------+--------------------+--------------------+\n",
      "only showing top 20 rows\n",
      "\n"
     ]
    }
   ],
   "source": [
    "paris[\"athletes.csv\"].show()"
   ]
  },
  {
   "cell_type": "code",
   "execution_count": 0,
   "metadata": {
    "application/vnd.databricks.v1+cell": {
     "cellMetadata": {
      "byteLimit": 2048000,
      "rowLimit": 10000
     },
     "inputWidgets": {},
     "nuid": "4c5419b6-95dd-4115-840d-ed65590a4550",
     "showTitle": false,
     "tableResultSettingsMap": {},
     "title": ""
    }
   },
   "outputs": [
    {
     "name": "stdout",
     "output_type": "stream",
     "text": [
      "root\n",
      " |-- country_code: string (nullable = true)\n",
      " |-- country: string (nullable = true)\n",
      " |-- country_long: string (nullable = true)\n",
      " |-- Gold Medal: integer (nullable = true)\n",
      " |-- Silver Medal: integer (nullable = true)\n",
      " |-- Bronze Medal: integer (nullable = true)\n",
      " |-- Total: integer (nullable = true)\n",
      "\n"
     ]
    }
   ],
   "source": [
    "paris[\"medals_total.csv\"].printSchema()"
   ]
  },
  {
   "cell_type": "code",
   "execution_count": 0,
   "metadata": {
    "application/vnd.databricks.v1+cell": {
     "cellMetadata": {
      "byteLimit": 2048000,
      "rowLimit": 10000
     },
     "inputWidgets": {},
     "nuid": "0bf80853-833a-4cbf-a4fb-9cba03b823f8",
     "showTitle": false,
     "tableResultSettingsMap": {},
     "title": ""
    }
   },
   "outputs": [
    {
     "name": "stdout",
     "output_type": "stream",
     "text": [
      "+------------+-------------+--------------------+----------+------------+------------+-----+\n",
      "|country_code|      country|        country_long|Gold Medal|Silver Medal|Bronze Medal|Total|\n",
      "+------------+-------------+--------------------+----------+------------+------------+-----+\n",
      "|         USA|United States|United States of ...|        40|          44|          42|  126|\n",
      "|         CHN|        China|People's Republic...|        40|          27|          24|   91|\n",
      "|         JPN|        Japan|               Japan|        20|          12|          13|   45|\n",
      "|         AUS|    Australia|           Australia|        18|          19|          16|   53|\n",
      "|         FRA|       France|              France|        16|          26|          22|   64|\n",
      "+------------+-------------+--------------------+----------+------------+------------+-----+\n",
      "only showing top 5 rows\n",
      "\n"
     ]
    }
   ],
   "source": [
    "paris[\"medals_total.csv\"].show(5)"
   ]
  },
  {
   "cell_type": "code",
   "execution_count": 0,
   "metadata": {
    "application/vnd.databricks.v1+cell": {
     "cellMetadata": {
      "byteLimit": 2048000,
      "rowLimit": 10000
     },
     "inputWidgets": {},
     "nuid": "5ba02f30-e213-4b7b-b884-f162aa2314dd",
     "showTitle": false,
     "tableResultSettingsMap": {},
     "title": ""
    }
   },
   "outputs": [
    {
     "name": "stdout",
     "output_type": "stream",
     "text": [
      "root\n",
      " |-- rank: integer (nullable = true)\n",
      " |-- team/noc: string (nullable = true)\n",
      " |-- gold: integer (nullable = true)\n",
      " |-- silver: integer (nullable = true)\n",
      " |-- bronze: integer (nullable = true)\n",
      " |-- total: integer (nullable = true)\n",
      " |-- rank by total: integer (nullable = true)\n",
      "\n"
     ]
    }
   ],
   "source": [
    "tokyo[\"medals.csv\"].printSchema()"
   ]
  },
  {
   "cell_type": "code",
   "execution_count": 0,
   "metadata": {
    "application/vnd.databricks.v1+cell": {
     "cellMetadata": {
      "byteLimit": 2048000,
      "rowLimit": 10000
     },
     "inputWidgets": {},
     "nuid": "cc337956-560e-474a-a9be-9aa4ea1683c4",
     "showTitle": false,
     "tableResultSettingsMap": {},
     "title": ""
    }
   },
   "outputs": [
    {
     "name": "stdout",
     "output_type": "stream",
     "text": [
      "+----+--------------------+----+------+------+-----+-------------+\n",
      "|rank|            team/noc|gold|silver|bronze|total|rank by total|\n",
      "+----+--------------------+----+------+------+-----+-------------+\n",
      "|   1|United States of ...|  39|    41|    33|  113|            1|\n",
      "|   2|People's Republic...|  38|    32|    18|   88|            2|\n",
      "|   3|               Japan|  27|    14|    17|   58|            5|\n",
      "|   4|       Great Britain|  22|    21|    22|   65|            4|\n",
      "|   5|                 ROC|  20|    28|    23|   71|            3|\n",
      "+----+--------------------+----+------+------+-----+-------------+\n",
      "only showing top 5 rows\n",
      "\n"
     ]
    }
   ],
   "source": [
    "tokyo[\"medals.csv\"].show(5)"
   ]
  },
  {
   "cell_type": "code",
   "execution_count": 0,
   "metadata": {
    "application/vnd.databricks.v1+cell": {
     "cellMetadata": {
      "byteLimit": 2048000,
      "rowLimit": 10000
     },
     "inputWidgets": {},
     "nuid": "d4d3c1d9-b30d-47b2-a5e0-5fd904806e5a",
     "showTitle": false,
     "tableResultSettingsMap": {},
     "title": ""
    }
   },
   "outputs": [
    {
     "name": "stdout",
     "output_type": "stream",
     "text": [
      "+-------+------------------+---------+------------------+------------------+-----------------+------------------+------------------+\n",
      "|summary|              rank| team/noc|              gold|            silver|           bronze|             total|     rank by total|\n",
      "+-------+------------------+---------+------------------+------------------+-----------------+------------------+------------------+\n",
      "|  count|                93|       93|                93|                93|               93|                93|                93|\n",
      "|   mean|46.333333333333336|     NULL|3.6559139784946235|3.6344086021505375| 4.32258064516129|11.612903225806452|43.494623655913976|\n",
      "| stddev| 26.21911571707763|     NULL| 7.022471111671374| 6.626338988947587|6.210372267639421|19.091332120411018|24.171769221603913|\n",
      "|    min|                 1|Argentina|                 0|                 0|                0|                 1|                 1|\n",
      "|    max|                86|Venezuela|                39|                41|               33|               113|                77|\n",
      "+-------+------------------+---------+------------------+------------------+-----------------+------------------+------------------+\n",
      "\n"
     ]
    }
   ],
   "source": [
    "tokyo[\"medals.csv\"].describe().show()"
   ]
  },
  {
   "cell_type": "code",
   "execution_count": 0,
   "metadata": {
    "application/vnd.databricks.v1+cell": {
     "cellMetadata": {
      "byteLimit": 2048000,
      "rowLimit": 10000
     },
     "inputWidgets": {},
     "nuid": "97b23d13-aacf-473a-b9ad-26c22f9b3f7a",
     "showTitle": false,
     "tableResultSettingsMap": {},
     "title": ""
    }
   },
   "outputs": [
    {
     "data": {
      "text/plain": [
       "['rank', 'team/noc', 'gold', 'silver', 'bronze', 'total', 'rank by total']"
      ]
     },
     "execution_count": 14,
     "metadata": {},
     "output_type": "execute_result"
    }
   ],
   "source": [
    "tokyo[\"medals.csv\"].columns"
   ]
  },
  {
   "cell_type": "markdown",
   "metadata": {
    "application/vnd.databricks.v1+cell": {
     "cellMetadata": {},
     "inputWidgets": {},
     "nuid": "09751b80-509f-4e84-9838-dc2fe2866477",
     "showTitle": false,
     "tableResultSettingsMap": {},
     "title": ""
    }
   },
   "source": [
    "The col() function in PySpark is used to refer to a column in a DataFrame. It allows you to perform transformations, filtering, and aggregations dynamically.\n",
    "It creates a column object, which can be used in expressions, filters, and transformations.\n",
    "\n"
   ]
  },
  {
   "cell_type": "code",
   "execution_count": 0,
   "metadata": {
    "application/vnd.databricks.v1+cell": {
     "cellMetadata": {
      "byteLimit": 2048000,
      "rowLimit": 10000
     },
     "inputWidgets": {},
     "nuid": "eb65cff8-5fa1-4204-9792-6b9725d34026",
     "showTitle": false,
     "tableResultSettingsMap": {},
     "title": ""
    }
   },
   "outputs": [
    {
     "name": "stdout",
     "output_type": "stream",
     "text": [
      "athletes.csv\n",
      "+----+-------+----+----------+-------+------+--------+------------+-------+------------+-----------+----------------+----------------+------+------+-----------+------+----------+-----------+-------------+---------------+-----------------+--------+-------+----------+---------+------+----+-----+------+----+---------+----------+------------------+------+------------+\n",
      "|code|current|name|name_short|name_tv|gender|function|country_code|country|country_long|nationality|nationality_long|nationality_code|height|weight|disciplines|events|birth_date|birth_place|birth_country|residence_place|residence_country|nickname|hobbies|occupation|education|family|lang|coach|reason|hero|influence|philosophy|sporting_relatives|ritual|other_sports|\n",
      "+----+-------+----+----------+-------+------+--------+------------+-------+------------+-----------+----------------+----------------+------+------+-----------+------+----------+-----------+-------------+---------------+-----------------+--------+-------+----------+---------+------+----+-----+------+----+---------+----------+------------------+------+------------+\n",
      "|   0|      0|   0|         3|      3|     0|       0|           0|      0|           0|          3|               3|               3|     3|     5|          0|     0|         0|       2126|         1682|           3961|             2888|    7219|   6955|      2124|     5171|  5342|1364| 2681|  5046|6547|     7653|      7734|              7216|  8557|        8825|\n",
      "+----+-------+----+----------+-------+------+--------+------------+-------+------------+-----------+----------------+----------------+------+------+-----------+------+----------+-----------+-------------+---------------+-----------------+--------+-------+----------+---------+------+----+-----+------+----+---------+----------+------------------+------+------------+\n",
      "\n",
      "medals.csv\n",
      "+----------+----------+----------+----+------+----------+-----+----------+---------+----+------------+-------+------------+\n",
      "|medal_type|medal_code|medal_date|name|gender|discipline|event|event_type|url_event|code|country_code|country|country_long|\n",
      "+----------+----------+----------+----+------+----------+-----+----------+---------+----+------------+-------+------------+\n",
      "|         0|         1|         0|   0|     0|         0|    0|         0|        9|   0|           0|      0|           0|\n",
      "+----------+----------+----------+----+------+----------+-----+----------+---------+----+------------+-------+------------+\n",
      "\n",
      "nocs.csv\n",
      "+----+-------+------------+---+----+\n",
      "|code|country|country_long|tag|note|\n",
      "+----+-------+------------+---+----+\n",
      "|   0|      0|           0|  0|   0|\n",
      "+----+-------+------------+---+----+\n",
      "\n",
      "medals_total.csv\n",
      "+------------+-------+------------+----------+------------+------------+-----+\n",
      "|country_code|country|country_long|Gold Medal|Silver Medal|Bronze Medal|Total|\n",
      "+------------+-------+------------+----------+------------+------------+-----+\n",
      "|           0|      0|           0|         0|           0|           0|    0|\n",
      "+------------+-------+------------+----------+------------+------------+-----+\n",
      "\n",
      "coaches.csv\n",
      "+----+-------+----+------+--------+--------+------------+-------+------------+-----------+------+----------+\n",
      "|code|current|name|gender|function|category|country_code|country|country_long|disciplines|events|birth_date|\n",
      "+----+-------+----+------+--------+--------+------------+-------+------------+-----------+------+----------+\n",
      "|   0|      0|   0|     0|       0|       0|           0|      0|           0|          0|   556|        38|\n",
      "+----+-------+----+------+--------+--------+------------+-------+------------+-----------+------+----------+\n",
      "\n"
     ]
    }
   ],
   "source": [
    "for i in paris:\n",
    "    print(i)\n",
    "    paris[i].select([sum(col(c).isNull().cast(\"int\")).alias(c) for c in paris[i].columns]).show()"
   ]
  },
  {
   "cell_type": "code",
   "execution_count": 0,
   "metadata": {
    "application/vnd.databricks.v1+cell": {
     "cellMetadata": {
      "byteLimit": 2048000,
      "rowLimit": 10000
     },
     "inputWidgets": {},
     "nuid": "632a10c2-d25d-497e-b980-fbbf913c0129",
     "showTitle": false,
     "tableResultSettingsMap": {},
     "title": ""
    }
   },
   "outputs": [
    {
     "name": "stdout",
     "output_type": "stream",
     "text": [
      "athletes.csv\n",
      "+----+---+----------+\n",
      "|name|noc|discipline|\n",
      "+----+---+----------+\n",
      "|   0|  0|         0|\n",
      "+----+---+----------+\n",
      "\n",
      "medals.csv\n",
      "+----+--------+----+------+------+-----+-------------+\n",
      "|rank|team/noc|gold|silver|bronze|total|rank by total|\n",
      "+----+--------+----+------+------+-----+-------------+\n",
      "|   0|       0|   0|     0|     0|    0|            0|\n",
      "+----+--------+----+------+------+-----+-------------+\n",
      "\n",
      "coaches.csv\n",
      "+----+---+----------+-----+\n",
      "|name|noc|discipline|event|\n",
      "+----+---+----------+-----+\n",
      "|   0|  0|         0|  145|\n",
      "+----+---+----------+-----+\n",
      "\n",
      "entriesgender.csv\n",
      "+----------+------+----+-----+\n",
      "|discipline|female|male|total|\n",
      "+----------+------+----+-----+\n",
      "|         0|     0|   0|    0|\n",
      "+----------+------+----+-----+\n",
      "\n",
      "teams.csv\n",
      "+----+----------+---+-----+\n",
      "|name|discipline|noc|event|\n",
      "+----+----------+---+-----+\n",
      "|   0|         0|  0|    0|\n",
      "+----+----------+---+-----+\n",
      "\n"
     ]
    }
   ],
   "source": [
    "for i in tokyo:\n",
    "    print(i)\n",
    "    tokyo[i].select([sum(col(c).isNull().cast(\"int\")).alias(c) for c in tokyo[i].columns]).show()"
   ]
  },
  {
   "cell_type": "code",
   "execution_count": 0,
   "metadata": {
    "application/vnd.databricks.v1+cell": {
     "cellMetadata": {
      "byteLimit": 2048000,
      "rowLimit": 10000
     },
     "inputWidgets": {},
     "nuid": "17032e55-c30c-4352-a63b-4bf8e9d91cec",
     "showTitle": false,
     "tableResultSettingsMap": {},
     "title": ""
    }
   },
   "outputs": [
    {
     "name": "stdout",
     "output_type": "stream",
     "text": [
      "root\n",
      " |-- code: integer (nullable = true)\n",
      " |-- current: boolean (nullable = true)\n",
      " |-- name: string (nullable = true)\n",
      " |-- name_short: string (nullable = true)\n",
      " |-- name_tv: string (nullable = true)\n",
      " |-- gender: string (nullable = true)\n",
      " |-- function: string (nullable = true)\n",
      " |-- country_code: string (nullable = true)\n",
      " |-- country: string (nullable = true)\n",
      " |-- country_long: string (nullable = true)\n",
      " |-- nationality: string (nullable = true)\n",
      " |-- nationality_long: string (nullable = true)\n",
      " |-- nationality_code: string (nullable = true)\n",
      " |-- height: double (nullable = true)\n",
      " |-- weight: double (nullable = true)\n",
      " |-- disciplines: string (nullable = true)\n",
      " |-- events: string (nullable = true)\n",
      " |-- birth_date: string (nullable = true)\n",
      " |-- birth_place: string (nullable = true)\n",
      " |-- birth_country: string (nullable = true)\n",
      " |-- residence_place: string (nullable = true)\n",
      " |-- residence_country: string (nullable = true)\n",
      " |-- nickname: string (nullable = true)\n",
      " |-- hobbies: string (nullable = true)\n",
      " |-- occupation: string (nullable = true)\n",
      " |-- education: string (nullable = true)\n",
      " |-- family: string (nullable = true)\n",
      " |-- lang: string (nullable = true)\n",
      " |-- coach: string (nullable = true)\n",
      " |-- reason: string (nullable = true)\n",
      " |-- hero: string (nullable = true)\n",
      " |-- influence: string (nullable = true)\n",
      " |-- philosophy: string (nullable = true)\n",
      " |-- sporting_relatives: string (nullable = true)\n",
      " |-- ritual: string (nullable = true)\n",
      " |-- other_sports: string (nullable = true)\n",
      "\n"
     ]
    }
   ],
   "source": [
    "paris[\"athletes.csv\"].printSchema()"
   ]
  },
  {
   "cell_type": "code",
   "execution_count": 0,
   "metadata": {
    "application/vnd.databricks.v1+cell": {
     "cellMetadata": {
      "byteLimit": 2048000,
      "rowLimit": 10000
     },
     "inputWidgets": {},
     "nuid": "a41e7a21-b62b-44e6-b4cc-0e1350218e20",
     "showTitle": false,
     "tableResultSettingsMap": {},
     "title": ""
    }
   },
   "outputs": [
    {
     "name": "stdout",
     "output_type": "stream",
     "text": [
      "+-------+-------+----------------+------------+----------------+------+--------+------------+-------+------------+-----------+----------------+----------------+------+------+-------------+--------------------+----------+-----------+-------------+---------------+-----------------+----------+--------------------+----------+--------------------+--------------------+--------------------+--------------------+--------------------+--------------------+--------------------+--------------------+------------------+------+------------+\n",
      "|   code|current|            name|  name_short|         name_tv|gender|function|country_code|country|country_long|nationality|nationality_long|nationality_code|height|weight|  disciplines|              events|birth_date|birth_place|birth_country|residence_place|residence_country|  nickname|             hobbies|occupation|           education|              family|                lang|               coach|              reason|                hero|           influence|          philosophy|sporting_relatives|ritual|other_sports|\n",
      "+-------+-------+----------------+------------+----------------+------+--------+------------+-------+------------+-----------+----------------+----------------+------+------+-------------+--------------------+----------+-----------+-------------+---------------+-----------------+----------+--------------------+----------+--------------------+--------------------+--------------------+--------------------+--------------------+--------------------+--------------------+--------------------+------------------+------+------------+\n",
      "|1532872|   true|ALEKSANYAN Artur|ALEKSANYAN A|Artur ALEKSANYAN|  Male| Athlete|         ARM|Armenia|     Armenia|    Armenia|         Armenia|             ARM|   0.0|   0.0|['Wrestling']|\"[\"\"Men's Greco-R...|1991-10-21|     GYUMRI|      Armenia|         GYUMRI|          Armenia|White Bear|Playing and watch...|   Athlete|Graduated from Sh...|Father, Gevorg Al...|Armenian, English...|Gevorg Aleksanyan...|He followed his f...|Footballer Zinedi...|His father, Gevor...|\"\"\"Wrestling is m...|              NULL|  NULL|        NULL|\n",
      "+-------+-------+----------------+------------+----------------+------+--------+------------+-------+------------+-----------+----------------+----------------+------+------+-------------+--------------------+----------+-----------+-------------+---------------+-----------------+----------+--------------------+----------+--------------------+--------------------+--------------------+--------------------+--------------------+--------------------+--------------------+--------------------+------------------+------+------------+\n",
      "only showing top 1 row\n",
      "\n"
     ]
    }
   ],
   "source": [
    "paris[\"athletes.csv\"].show(1)"
   ]
  },
  {
   "cell_type": "markdown",
   "metadata": {
    "application/vnd.databricks.v1+cell": {
     "cellMetadata": {},
     "inputWidgets": {},
     "nuid": "e8d2d3a7-6029-4b7a-a0d1-83dba15b3253",
     "showTitle": false,
     "tableResultSettingsMap": {},
     "title": ""
    }
   },
   "source": [
    "Below we create a new table which will help us in creating a new file similar to entriesgender."
   ]
  },
  {
   "cell_type": "code",
   "execution_count": 0,
   "metadata": {
    "application/vnd.databricks.v1+cell": {
     "cellMetadata": {
      "byteLimit": 2048000,
      "rowLimit": 10000
     },
     "inputWidgets": {},
     "nuid": "6ed15a07-5143-4243-85ad-1624112a1add",
     "showTitle": false,
     "tableResultSettingsMap": {},
     "title": ""
    }
   },
   "outputs": [
    {
     "name": "stdout",
     "output_type": "stream",
     "text": [
      "root\n",
      " |-- discipline: string (nullable = true)\n",
      " |-- female: integer (nullable = true)\n",
      " |-- male: integer (nullable = true)\n",
      " |-- total: integer (nullable = true)\n",
      "\n"
     ]
    }
   ],
   "source": [
    "tokyo[\"entriesgender.csv\"].printSchema()"
   ]
  },
  {
   "cell_type": "code",
   "execution_count": 0,
   "metadata": {
    "application/vnd.databricks.v1+cell": {
     "cellMetadata": {
      "byteLimit": 2048000,
      "rowLimit": 10000
     },
     "inputWidgets": {},
     "nuid": "9bf124ef-0aa4-4b31-b03b-61dbbe343aa5",
     "showTitle": false,
     "tableResultSettingsMap": {},
     "title": ""
    }
   },
   "outputs": [
    {
     "name": "stdout",
     "output_type": "stream",
     "text": [
      "+--------------+------+----+-----+\n",
      "|    discipline|female|male|total|\n",
      "+--------------+------+----+-----+\n",
      "|3x3 Basketball|    32|  32|   64|\n",
      "+--------------+------+----+-----+\n",
      "only showing top 1 row\n",
      "\n"
     ]
    }
   ],
   "source": [
    "tokyo[\"entriesgender.csv\"].show(1)"
   ]
  },
  {
   "cell_type": "code",
   "execution_count": 0,
   "metadata": {
    "application/vnd.databricks.v1+cell": {
     "cellMetadata": {
      "byteLimit": 2048000,
      "rowLimit": 10000
     },
     "inputWidgets": {},
     "nuid": "9467880e-9e3a-40a6-8abb-921a55dfd8fc",
     "showTitle": false,
     "tableResultSettingsMap": {},
     "title": ""
    }
   },
   "outputs": [
    {
     "name": "stdout",
     "output_type": "stream",
     "text": [
      "+--------------+\n",
      "|    discipline|\n",
      "+--------------+\n",
      "|3x3 Basketball|\n",
      "|       Archery|\n",
      "+--------------+\n",
      "only showing top 2 rows\n",
      "\n"
     ]
    }
   ],
   "source": [
    "tokyo[\"entriesgender.csv\"].select(col(\"discipline\")).show(2)"
   ]
  },
  {
   "cell_type": "code",
   "execution_count": 0,
   "metadata": {
    "application/vnd.databricks.v1+cell": {
     "cellMetadata": {
      "byteLimit": 2048000,
      "rowLimit": 10000
     },
     "inputWidgets": {},
     "nuid": "c74763cd-cf4b-4300-b5bb-5ec13fe167b3",
     "showTitle": false,
     "tableResultSettingsMap": {},
     "title": ""
    }
   },
   "outputs": [
    {
     "name": "stdout",
     "output_type": "stream",
     "text": [
      "+-------------+\n",
      "|  disciplines|\n",
      "+-------------+\n",
      "|['Wrestling']|\n",
      "|['Wrestling']|\n",
      "+-------------+\n",
      "only showing top 2 rows\n",
      "\n"
     ]
    }
   ],
   "source": [
    "paris[\"athletes.csv\"].select(col(\"disciplines\")).show(2)"
   ]
  },
  {
   "cell_type": "markdown",
   "metadata": {
    "application/vnd.databricks.v1+cell": {
     "cellMetadata": {},
     "inputWidgets": {},
     "nuid": "31a37125-8e79-4dd0-85d2-3218b7d484f6",
     "showTitle": false,
     "tableResultSettingsMap": {},
     "title": ""
    }
   },
   "source": [
    "We can see that the disciplines in paris needs cleaning."
   ]
  },
  {
   "cell_type": "code",
   "execution_count": 0,
   "metadata": {
    "application/vnd.databricks.v1+cell": {
     "cellMetadata": {
      "byteLimit": 2048000,
      "rowLimit": 10000
     },
     "inputWidgets": {},
     "nuid": "d07a0e7f-8a8b-4243-94e6-2312a0ecca2b",
     "showTitle": false,
     "tableResultSettingsMap": {},
     "title": ""
    }
   },
   "outputs": [],
   "source": [
    "cleaned_disp= paris[\"athletes.csv\"].select(\n",
    "    regexp_replace(expr(\"trim(both '[]' from disciplines)\"), \"[']\", \"\").alias(\"discipline\"),\n",
    "    col(\"gender\")\n",
    ")"
   ]
  },
  {
   "cell_type": "code",
   "execution_count": 0,
   "metadata": {
    "application/vnd.databricks.v1+cell": {
     "cellMetadata": {
      "byteLimit": 2048000,
      "rowLimit": 10000
     },
     "inputWidgets": {},
     "nuid": "b76a9f10-65a1-478b-851e-2098fce916a0",
     "showTitle": false,
     "tableResultSettingsMap": {},
     "title": ""
    }
   },
   "outputs": [
    {
     "name": "stdout",
     "output_type": "stream",
     "text": [
      "+----------+------+\n",
      "|discipline|gender|\n",
      "+----------+------+\n",
      "| Wrestling|  Male|\n",
      "| Wrestling|  Male|\n",
      "+----------+------+\n",
      "only showing top 2 rows\n",
      "\n"
     ]
    }
   ],
   "source": [
    "cleaned_disp.show(2)"
   ]
  },
  {
   "cell_type": "code",
   "execution_count": 0,
   "metadata": {
    "application/vnd.databricks.v1+cell": {
     "cellMetadata": {
      "byteLimit": 2048000,
      "rowLimit": 10000
     },
     "inputWidgets": {},
     "nuid": "882ee7d4-ab66-48ba-b3c3-199f0ff9b2ae",
     "showTitle": false,
     "tableResultSettingsMap": {},
     "title": ""
    }
   },
   "outputs": [
    {
     "name": "stdout",
     "output_type": "stream",
     "text": [
      "+--------------+------+----+-----+\n",
      "|    discipline|female|male|total|\n",
      "+--------------+------+----+-----+\n",
      "|3x3 Basketball|    32|  32|   64|\n",
      "|       Archery|    64|  64|  128|\n",
      "+--------------+------+----+-----+\n",
      "only showing top 2 rows\n",
      "\n"
     ]
    }
   ],
   "source": [
    "tokyo[\"entriesgender.csv\"].show(2)"
   ]
  },
  {
   "cell_type": "code",
   "execution_count": 0,
   "metadata": {
    "application/vnd.databricks.v1+cell": {
     "cellMetadata": {
      "byteLimit": 2048000,
      "rowLimit": 10000
     },
     "inputWidgets": {},
     "nuid": "d28ef56b-30d4-4fed-bd3d-b945c75ccc14",
     "showTitle": false,
     "tableResultSettingsMap": {},
     "title": ""
    }
   },
   "outputs": [],
   "source": [
    "agg_df = cleaned_disp.groupBy(\"discipline\").pivot(\"gender\").count().fillna(0)"
   ]
  },
  {
   "cell_type": "code",
   "execution_count": 0,
   "metadata": {
    "application/vnd.databricks.v1+cell": {
     "cellMetadata": {
      "byteLimit": 2048000,
      "rowLimit": 10000
     },
     "inputWidgets": {},
     "nuid": "8aa56c1a-19bd-411c-9c26-2d7cde3b3952",
     "showTitle": false,
     "tableResultSettingsMap": {},
     "title": ""
    }
   },
   "outputs": [
    {
     "name": "stdout",
     "output_type": "stream",
     "text": [
      "+----------+------+----+\n",
      "|discipline|Female|Male|\n",
      "+----------+------+----+\n",
      "|    Tennis|    87|  89|\n",
      "|    Boxing|   124| 124|\n",
      "+----------+------+----+\n",
      "only showing top 2 rows\n",
      "\n"
     ]
    }
   ],
   "source": [
    "agg_df.show(2)"
   ]
  },
  {
   "cell_type": "code",
   "execution_count": 0,
   "metadata": {
    "application/vnd.databricks.v1+cell": {
     "cellMetadata": {
      "byteLimit": 2048000,
      "rowLimit": 10000
     },
     "inputWidgets": {},
     "nuid": "e879b981-ab17-4c71-9e6f-4feb2fb7e23a",
     "showTitle": false,
     "tableResultSettingsMap": {},
     "title": ""
    }
   },
   "outputs": [],
   "source": [
    "parisgenderentries = agg_df.withColumn(\"total\", col(\"Female\")+col(\"Male\"))\\\n",
    "    .withColumnRenamed(\"Female\",\"female\")\\\n",
    "    .withColumnRenamed(\"Male\",\"male\")"
   ]
  },
  {
   "cell_type": "code",
   "execution_count": 0,
   "metadata": {
    "application/vnd.databricks.v1+cell": {
     "cellMetadata": {
      "byteLimit": 2048000,
      "rowLimit": 10000
     },
     "inputWidgets": {},
     "nuid": "5e1e898d-4bf0-4ec8-a313-f63595128b06",
     "showTitle": false,
     "tableResultSettingsMap": {},
     "title": ""
    }
   },
   "outputs": [
    {
     "name": "stdout",
     "output_type": "stream",
     "text": [
      "+-------+--------------+------------------+------------------+------------------+\n",
      "|summary|    discipline|            female|              male|             total|\n",
      "+-------+--------------+------------------+------------------+------------------+\n",
      "|  count|            50|                50|                50|                50|\n",
      "|   mean|          NULL|             109.1|            113.16|            222.26|\n",
      "| stddev|          NULL|147.54594580146545|160.64784150305854|306.93958788700564|\n",
      "|    min|3x3 Basketball|                 1|                 0|                 1|\n",
      "|    max|     Wrestling|               982|              1038|              2020|\n",
      "+-------+--------------+------------------+------------------+------------------+\n",
      "\n"
     ]
    }
   ],
   "source": [
    "parisgenderentries.describe().show()"
   ]
  },
  {
   "cell_type": "code",
   "execution_count": 0,
   "metadata": {
    "application/vnd.databricks.v1+cell": {
     "cellMetadata": {
      "byteLimit": 2048000,
      "rowLimit": 10000
     },
     "inputWidgets": {},
     "nuid": "456e3cb8-59f6-426f-b1f4-fc9fda0bcd93",
     "showTitle": false,
     "tableResultSettingsMap": {},
     "title": ""
    }
   },
   "outputs": [
    {
     "name": "stdout",
     "output_type": "stream",
     "text": [
      "+-------+--------------+------------------+------------------+-----------------+\n",
      "|summary|    discipline|            female|              male|            total|\n",
      "+-------+--------------+------------------+------------------+-----------------+\n",
      "|  count|            46|                46|                46|               46|\n",
      "|   mean|          NULL|118.08695652173913|127.91304347826087|            246.0|\n",
      "| stddev|          NULL|147.16971700681063| 166.9007457658535|312.4613398308484|\n",
      "|    min|3x3 Basketball|                10|                 0|               19|\n",
      "|    max|     Wrestling|               969|              1072|             2041|\n",
      "+-------+--------------+------------------+------------------+-----------------+\n",
      "\n"
     ]
    }
   ],
   "source": [
    "tokyo[\"entriesgender.csv\"].describe().show()"
   ]
  },
  {
   "cell_type": "markdown",
   "metadata": {
    "application/vnd.databricks.v1+cell": {
     "cellMetadata": {},
     "inputWidgets": {},
     "nuid": "99b79225-1314-43e6-8b30-8390e87ebc19",
     "showTitle": false,
     "tableResultSettingsMap": {},
     "title": ""
    }
   },
   "source": [
    "We can see there is difference in discipline in both tokyo and paris olympics. "
   ]
  },
  {
   "cell_type": "code",
   "execution_count": 0,
   "metadata": {
    "application/vnd.databricks.v1+cell": {
     "cellMetadata": {
      "byteLimit": 2048000,
      "rowLimit": 10000
     },
     "inputWidgets": {},
     "nuid": "674a5a95-7740-45c1-806a-14ec92eee8a7",
     "showTitle": false,
     "tableResultSettingsMap": {},
     "title": ""
    }
   },
   "outputs": [],
   "source": [
    "paris_disp = parisgenderentries.select(\"discipline\").distinct()\n",
    "tokyo_disp =tokyo[\"entriesgender.csv\"].select(\"discipline\").distinct()\n",
    "\n",
    "diff_disp = paris_disp.subtract(tokyo_disp)"
   ]
  },
  {
   "cell_type": "code",
   "execution_count": 0,
   "metadata": {
    "application/vnd.databricks.v1+cell": {
     "cellMetadata": {
      "byteLimit": 2048000,
      "rowLimit": 10000
     },
     "inputWidgets": {},
     "nuid": "2b07154b-a37d-43f0-b4c8-2acf6ea505fa",
     "showTitle": false,
     "tableResultSettingsMap": {},
     "title": ""
    }
   },
   "outputs": [
    {
     "name": "stdout",
     "output_type": "stream",
     "text": [
      "+-----------------------------------+\n",
      "|discipline                         |\n",
      "+-----------------------------------+\n",
      "|Marathon Swimming, Swimming        |\n",
      "|Cycling Road, Triathlon            |\n",
      "|Cycling Road, Cycling Track        |\n",
      "|Breaking                           |\n",
      "|Cycling Road, Cycling Mountain Bike|\n",
      "|3x3 Basketball, Basketball         |\n",
      "+-----------------------------------+\n",
      "\n"
     ]
    }
   ],
   "source": [
    "diff_disp.show(truncate=False)"
   ]
  },
  {
   "cell_type": "markdown",
   "metadata": {
    "application/vnd.databricks.v1+cell": {
     "cellMetadata": {},
     "inputWidgets": {},
     "nuid": "525da805-f2f0-4335-a4f9-23738f2dc354",
     "showTitle": false,
     "tableResultSettingsMap": {},
     "title": ""
    }
   },
   "source": [
    "Above we can see that in paris there are rows which contain more than one value. We will select the first value as the final field value"
   ]
  },
  {
   "cell_type": "code",
   "execution_count": 0,
   "metadata": {
    "application/vnd.databricks.v1+cell": {
     "cellMetadata": {
      "byteLimit": 2048000,
      "rowLimit": 10000
     },
     "inputWidgets": {},
     "nuid": "c9c80f3b-574a-4b7b-ba5e-9fa31ad33fe2",
     "showTitle": false,
     "tableResultSettingsMap": {},
     "title": ""
    }
   },
   "outputs": [],
   "source": [
    "cleaned_df = parisgenderentries.withColumn(\"discipline\", when(size(split(col(\"discipline\"), \",\")) > 1, trim(split(col(\"discipline\"), \",\")[1]))  # Take second part if comma exists\n",
    "    .otherwise(col(\"discipline\")) )"
   ]
  },
  {
   "cell_type": "code",
   "execution_count": 0,
   "metadata": {
    "application/vnd.databricks.v1+cell": {
     "cellMetadata": {
      "byteLimit": 2048000,
      "rowLimit": 10000
     },
     "inputWidgets": {},
     "nuid": "a4407252-2480-4ecc-b204-d4525a2c4540",
     "showTitle": false,
     "tableResultSettingsMap": {},
     "title": ""
    }
   },
   "outputs": [
    {
     "name": "stdout",
     "output_type": "stream",
     "text": [
      "+-------+--------------+------------------+------------------+------------------+\n",
      "|summary|    discipline|            female|              male|             total|\n",
      "+-------+--------------+------------------+------------------+------------------+\n",
      "|  count|            50|                50|                50|                50|\n",
      "|   mean|          NULL|             109.1|            113.16|            222.26|\n",
      "| stddev|          NULL|147.54594580146545|160.64784150305854|306.93958788700564|\n",
      "|    min|3x3 Basketball|                 1|                 0|                 1|\n",
      "|    max|     Wrestling|               982|              1038|              2020|\n",
      "+-------+--------------+------------------+------------------+------------------+\n",
      "\n"
     ]
    }
   ],
   "source": [
    "cleaned_df.describe().show()"
   ]
  },
  {
   "cell_type": "code",
   "execution_count": 0,
   "metadata": {
    "application/vnd.databricks.v1+cell": {
     "cellMetadata": {
      "byteLimit": 2048000,
      "rowLimit": 10000
     },
     "inputWidgets": {},
     "nuid": "15ca4657-4502-4f28-8b38-fb04a49c6c6d",
     "showTitle": false,
     "tableResultSettingsMap": {},
     "title": ""
    }
   },
   "outputs": [
    {
     "name": "stdout",
     "output_type": "stream",
     "text": [
      "+---------------------+------+----+-----+\n",
      "|discipline           |female|male|total|\n",
      "+---------------------+------+----+-----+\n",
      "|Tennis               |87    |89  |176  |\n",
      "|Boxing               |124   |124 |248  |\n",
      "|Marathon Swimming    |20    |18  |38   |\n",
      "|Golf                 |60    |60  |120  |\n",
      "|Rowing               |244   |249 |493  |\n",
      "|Judo                 |186   |192 |378  |\n",
      "|Sailing              |165   |165 |330  |\n",
      "|Swimming             |386   |450 |836  |\n",
      "|Cycling BMX Freestyle|12    |12  |24   |\n",
      "|Basketball           |143   |144 |287  |\n",
      "|Handball             |202   |184 |386  |\n",
      "|Rhythmic Gymnastics  |94    |0   |94   |\n",
      "|Swimming             |4     |13  |17   |\n",
      "|Triathlon            |54    |57  |111  |\n",
      "|Badminton            |87    |88  |175  |\n",
      "|Canoe Sprint         |120   |119 |239  |\n",
      "|Athletics            |982   |1038|2020 |\n",
      "|Cycling Track        |110   |114 |224  |\n",
      "|Triathlon            |1     |0   |1    |\n",
      "|Beach Volleyball     |48    |48  |96   |\n",
      "|Skateboarding        |44    |44  |88   |\n",
      "|Cycling Track        |8     |3   |11   |\n",
      "|Equestrian           |93    |150 |243  |\n",
      "|Breaking             |17    |16  |33   |\n",
      "|Shooting             |171   |171 |342  |\n",
      "|Diving               |68    |67  |135  |\n",
      "|Canoe Slalom         |41    |43  |84   |\n",
      "|Rugby Sevens         |158   |159 |317  |\n",
      "|Artistic Gymnastics  |94    |96  |190  |\n",
      "|Cycling Mountain Bike|33    |35  |68   |\n",
      "|3x3 Basketball       |32    |32  |64   |\n",
      "|Cycling Road         |84    |90  |174  |\n",
      "|Wrestling            |96    |195 |291  |\n",
      "|Table Tennis         |88    |87  |175  |\n",
      "|Taekwondo            |65    |69  |134  |\n",
      "|Water Polo           |130   |156 |286  |\n",
      "|Basketball           |1     |0   |1    |\n",
      "|Weightlifting        |61    |61  |122  |\n",
      "|Surfing              |24    |24  |48   |\n",
      "|Sport Climbing       |34    |34  |68   |\n",
      "|Cycling BMX Racing   |33    |34  |67   |\n",
      "|Trampoline Gymnastics|16    |16  |32   |\n",
      "|Modern Pentathlon    |36    |36  |72   |\n",
      "|Volleyball           |155   |156 |311  |\n",
      "|Archery              |64    |64  |128  |\n",
      "|Artistic Swimming    |106   |0   |106  |\n",
      "|Fencing              |130   |130 |260  |\n",
      "|Hockey               |203   |212 |415  |\n",
      "|Football             |240   |313 |553  |\n",
      "|Cycling Mountain Bike|1     |1   |2    |\n",
      "+---------------------+------+----+-----+\n",
      "\n"
     ]
    }
   ],
   "source": [
    "cleaned_df.show(n=100,truncate=False)"
   ]
  },
  {
   "cell_type": "code",
   "execution_count": 0,
   "metadata": {
    "application/vnd.databricks.v1+cell": {
     "cellMetadata": {
      "byteLimit": 2048000,
      "rowLimit": 10000
     },
     "inputWidgets": {},
     "nuid": "16f52c84-84a7-4d30-9cde-928893c8a60b",
     "showTitle": false,
     "tableResultSettingsMap": {},
     "title": ""
    }
   },
   "outputs": [],
   "source": [
    "agg_df = cleaned_df.groupBy(\"discipline\").agg(\n",
    "    sum(\"female\").alias(\"female\"),\n",
    "    sum(\"male\").alias(\"male\"),\n",
    "    sum(\"total\").alias(\"total\")\n",
    ").orderBy(\"total\", ascending=False)"
   ]
  },
  {
   "cell_type": "code",
   "execution_count": 0,
   "metadata": {
    "application/vnd.databricks.v1+cell": {
     "cellMetadata": {
      "byteLimit": 2048000,
      "rowLimit": 10000
     },
     "inputWidgets": {},
     "nuid": "8d991267-68a6-4b28-82ba-daa263a124c9",
     "showTitle": false,
     "tableResultSettingsMap": {},
     "title": ""
    }
   },
   "outputs": [
    {
     "name": "stdout",
     "output_type": "stream",
     "text": [
      "+-------------------+------+----+-----+\n",
      "|         discipline|female|male|total|\n",
      "+-------------------+------+----+-----+\n",
      "|          Athletics|   982|1038| 2020|\n",
      "|           Swimming|   390| 463|  853|\n",
      "|           Football|   240| 313|  553|\n",
      "|             Rowing|   244| 249|  493|\n",
      "|             Hockey|   203| 212|  415|\n",
      "|           Handball|   202| 184|  386|\n",
      "|               Judo|   186| 192|  378|\n",
      "|           Shooting|   171| 171|  342|\n",
      "|            Sailing|   165| 165|  330|\n",
      "|       Rugby Sevens|   158| 159|  317|\n",
      "|         Volleyball|   155| 156|  311|\n",
      "|          Wrestling|    96| 195|  291|\n",
      "|         Basketball|   144| 144|  288|\n",
      "|         Water Polo|   130| 156|  286|\n",
      "|            Fencing|   130| 130|  260|\n",
      "|             Boxing|   124| 124|  248|\n",
      "|         Equestrian|    93| 150|  243|\n",
      "|       Canoe Sprint|   120| 119|  239|\n",
      "|      Cycling Track|   118| 117|  235|\n",
      "|Artistic Gymnastics|    94|  96|  190|\n",
      "+-------------------+------+----+-----+\n",
      "only showing top 20 rows\n",
      "\n"
     ]
    }
   ],
   "source": [
    "agg_df.show()"
   ]
  },
  {
   "cell_type": "code",
   "execution_count": 0,
   "metadata": {
    "application/vnd.databricks.v1+cell": {
     "cellMetadata": {
      "byteLimit": 2048000,
      "rowLimit": 10000
     },
     "inputWidgets": {},
     "nuid": "6b431b6f-cc7d-497a-9ca6-81b44d58a1e5",
     "showTitle": false,
     "tableResultSettingsMap": {},
     "title": ""
    }
   },
   "outputs": [
    {
     "name": "stdout",
     "output_type": "stream",
     "text": [
      "+-------+--------------+------------------+------------------+------------------+\n",
      "|summary|    discipline|            female|              male|             total|\n",
      "+-------+--------------+------------------+------------------+------------------+\n",
      "|  count|            45|                45|                45|                45|\n",
      "|   mean|          NULL|121.22222222222223|125.73333333333333|246.95555555555555|\n",
      "| stddev|          NULL|151.19988108594546|165.54955314181473| 315.3771879941076|\n",
      "|    min|3x3 Basketball|                12|                 0|                24|\n",
      "|    max|     Wrestling|               982|              1038|              2020|\n",
      "+-------+--------------+------------------+------------------+------------------+\n",
      "\n"
     ]
    }
   ],
   "source": [
    "agg_df.describe().show()    "
   ]
  },
  {
   "cell_type": "markdown",
   "metadata": {
    "application/vnd.databricks.v1+cell": {
     "cellMetadata": {},
     "inputWidgets": {},
     "nuid": "496a6471-43ae-4858-a11a-290472a168ff",
     "showTitle": false,
     "tableResultSettingsMap": {},
     "title": ""
    }
   },
   "source": [
    "No we can see that the count of discipline is equal. Lets check if the are still difference in discipline."
   ]
  },
  {
   "cell_type": "code",
   "execution_count": 0,
   "metadata": {
    "application/vnd.databricks.v1+cell": {
     "cellMetadata": {
      "byteLimit": 2048000,
      "rowLimit": 10000
     },
     "inputWidgets": {},
     "nuid": "2d4c394f-7390-464d-8339-98c9902c43d1",
     "showTitle": false,
     "tableResultSettingsMap": {},
     "title": ""
    }
   },
   "outputs": [],
   "source": [
    "diff_paris =  agg_df.select(\"discipline\").distinct().subtract(tokyo[\"entriesgender.csv\"].select(\"discipline\").distinct())\n",
    "diff_tokyo =  tokyo[\"entriesgender.csv\"].select(\"discipline\").distinct().subtract(agg_df.select(\"discipline\").distinct())"
   ]
  },
  {
   "cell_type": "code",
   "execution_count": 0,
   "metadata": {
    "application/vnd.databricks.v1+cell": {
     "cellMetadata": {
      "byteLimit": 2048000,
      "rowLimit": 10000
     },
     "inputWidgets": {},
     "nuid": "2fae50b8-2e76-4f94-8064-315f67c32b76",
     "showTitle": false,
     "tableResultSettingsMap": {},
     "title": ""
    }
   },
   "outputs": [
    {
     "name": "stdout",
     "output_type": "stream",
     "text": [
      "+----------+\n",
      "|discipline|\n",
      "+----------+\n",
      "|  Breaking|\n",
      "+----------+\n",
      "\n"
     ]
    }
   ],
   "source": [
    "diff_paris.show()"
   ]
  },
  {
   "cell_type": "markdown",
   "metadata": {
    "application/vnd.databricks.v1+cell": {
     "cellMetadata": {},
     "inputWidgets": {},
     "nuid": "6a5a63bb-8c04-47d6-b432-dde8ecc08633",
     "showTitle": false,
     "tableResultSettingsMap": {},
     "title": ""
    }
   },
   "source": [
    "Breaking sport was not present in Tokyo Olympics."
   ]
  },
  {
   "cell_type": "code",
   "execution_count": 0,
   "metadata": {
    "application/vnd.databricks.v1+cell": {
     "cellMetadata": {
      "byteLimit": 2048000,
      "rowLimit": 10000
     },
     "inputWidgets": {},
     "nuid": "4d3a732e-04fc-429c-9901-1a53b1de865b",
     "showTitle": false,
     "tableResultSettingsMap": {},
     "title": ""
    }
   },
   "outputs": [
    {
     "name": "stdout",
     "output_type": "stream",
     "text": [
      "+-----------------+\n",
      "|       discipline|\n",
      "+-----------------+\n",
      "|Baseball/Softball|\n",
      "|           Karate|\n",
      "+-----------------+\n",
      "\n"
     ]
    }
   ],
   "source": [
    "diff_tokyo.show()"
   ]
  },
  {
   "cell_type": "markdown",
   "metadata": {
    "application/vnd.databricks.v1+cell": {
     "cellMetadata": {},
     "inputWidgets": {},
     "nuid": "7acc7e55-3c5a-4a2b-ab1b-d6442d146bdf",
     "showTitle": false,
     "tableResultSettingsMap": {},
     "title": ""
    }
   },
   "source": [
    "Baseball/Softball and Karate were not present in the Paris Olympics."
   ]
  },
  {
   "cell_type": "code",
   "execution_count": 0,
   "metadata": {
    "application/vnd.databricks.v1+cell": {
     "cellMetadata": {
      "byteLimit": 2048000,
      "rowLimit": 10000
     },
     "inputWidgets": {},
     "nuid": "828282c5-339d-4fac-bbc3-3ead040a3c06",
     "showTitle": false,
     "tableResultSettingsMap": {},
     "title": ""
    }
   },
   "outputs": [
    {
     "data": {
      "text/plain": [
       "{'athletes.csv': DataFrame[code: int, current: boolean, name: string, name_short: string, name_tv: string, gender: string, function: string, country_code: string, country: string, country_long: string, nationality: string, nationality_long: string, nationality_code: string, height: double, weight: double, disciplines: string, events: string, birth_date: string, birth_place: string, birth_country: string, residence_place: string, residence_country: string, nickname: string, hobbies: string, occupation: string, education: string, family: string, lang: string, coach: string, reason: string, hero: string, influence: string, philosophy: string, sporting_relatives: string, ritual: string, other_sports: string],\n",
       " 'medals.csv': DataFrame[medal_type: string, medal_code: double, medal_date: date, name: string, gender: string, discipline: string, event: string, event_type: string, url_event: string, code: string, country_code: string, country: string, country_long: string],\n",
       " 'nocs.csv': DataFrame[code: string, country: string, country_long: string, tag: string, note: string],\n",
       " 'medals_total.csv': DataFrame[country_code: string, country: string, country_long: string, Gold Medal: int, Silver Medal: int, Bronze Medal: int, Total: int],\n",
       " 'coaches.csv': DataFrame[code: int, current: boolean, name: string, gender: string, function: string, category: string, country_code: string, country: string, country_long: string, disciplines: string, events: string, birth_date: date]}"
      ]
     },
     "execution_count": 74,
     "metadata": {},
     "output_type": "execute_result"
    }
   ],
   "source": [
    "paris"
   ]
  },
  {
   "cell_type": "code",
   "execution_count": 0,
   "metadata": {
    "application/vnd.databricks.v1+cell": {
     "cellMetadata": {
      "byteLimit": 2048000,
      "rowLimit": 10000
     },
     "inputWidgets": {},
     "nuid": "3cc42eb0-503f-45be-a816-13420790bf45",
     "showTitle": false,
     "tableResultSettingsMap": {},
     "title": ""
    }
   },
   "outputs": [
    {
     "data": {
      "text/plain": [
       "{'athletes.csv': DataFrame[name: string, noc: string, discipline: string],\n",
       " 'medals.csv': DataFrame[rank: int, team/noc: string, gold: int, silver: int, bronze: int, total: int, rank by total: int],\n",
       " 'coaches.csv': DataFrame[name: string, noc: string, discipline: string, event: string],\n",
       " 'entriesgender.csv': DataFrame[discipline: string, female: int, male: int, total: int],\n",
       " 'teams.csv': DataFrame[name: string, discipline: string, noc: string, event: string]}"
      ]
     },
     "execution_count": 75,
     "metadata": {},
     "output_type": "execute_result"
    }
   ],
   "source": [
    "tokyo"
   ]
  },
  {
   "cell_type": "code",
   "execution_count": 0,
   "metadata": {
    "application/vnd.databricks.v1+cell": {
     "cellMetadata": {
      "byteLimit": 2048000,
      "rowLimit": 10000
     },
     "inputWidgets": {},
     "nuid": "27341130-bf96-44fa-a2eb-bba532f2d61b",
     "showTitle": false,
     "tableResultSettingsMap": {},
     "title": ""
    }
   },
   "outputs": [
    {
     "name": "stdout",
     "output_type": "stream",
     "text": [
      "+-----------------+------+-------------------+\n",
      "|             name|   noc|         discipline|\n",
      "+-----------------+------+-------------------+\n",
      "|  AALERUD Katrine|Norway|       Cycling Road|\n",
      "|      ABAD Nestor| Spain|Artistic Gymnastics|\n",
      "|ABAGNALE Giovanni| Italy|             Rowing|\n",
      "|   ABALDE Alberto| Spain|         Basketball|\n",
      "|    ABALDE Tamara| Spain|         Basketball|\n",
      "+-----------------+------+-------------------+\n",
      "only showing top 5 rows\n",
      "\n"
     ]
    }
   ],
   "source": [
    "tokyo[\"athletes.csv\"].show(5)"
   ]
  },
  {
   "cell_type": "code",
   "execution_count": 0,
   "metadata": {
    "application/vnd.databricks.v1+cell": {
     "cellMetadata": {
      "byteLimit": 2048000,
      "rowLimit": 10000
     },
     "inputWidgets": {},
     "nuid": "1fcb205c-f2d8-415e-9df8-2da926f70448",
     "showTitle": false,
     "tableResultSettingsMap": {},
     "title": ""
    }
   },
   "outputs": [
    {
     "name": "stdout",
     "output_type": "stream",
     "text": [
      "+-------+-------+----------------+------------+----------------+------+--------+------------+-------+------------+-----------+----------------+----------------+------+------+-------------+--------------------+----------+-----------+-------------+---------------+-----------------+----------+--------------------+----------+--------------------+--------------------+--------------------+--------------------+--------------------+--------------------+--------------------+--------------------+------------------+------+------------+\n",
      "|   code|current|            name|  name_short|         name_tv|gender|function|country_code|country|country_long|nationality|nationality_long|nationality_code|height|weight|  disciplines|              events|birth_date|birth_place|birth_country|residence_place|residence_country|  nickname|             hobbies|occupation|           education|              family|                lang|               coach|              reason|                hero|           influence|          philosophy|sporting_relatives|ritual|other_sports|\n",
      "+-------+-------+----------------+------------+----------------+------+--------+------------+-------+------------+-----------+----------------+----------------+------+------+-------------+--------------------+----------+-----------+-------------+---------------+-----------------+----------+--------------------+----------+--------------------+--------------------+--------------------+--------------------+--------------------+--------------------+--------------------+--------------------+------------------+------+------------+\n",
      "|1532872|   true|ALEKSANYAN Artur|ALEKSANYAN A|Artur ALEKSANYAN|  Male| Athlete|         ARM|Armenia|     Armenia|    Armenia|         Armenia|             ARM|   0.0|   0.0|['Wrestling']|\"[\"\"Men's Greco-R...|1991-10-21|     GYUMRI|      Armenia|         GYUMRI|          Armenia|White Bear|Playing and watch...|   Athlete|Graduated from Sh...|Father, Gevorg Al...|Armenian, English...|Gevorg Aleksanyan...|He followed his f...|Footballer Zinedi...|His father, Gevor...|\"\"\"Wrestling is m...|              NULL|  NULL|        NULL|\n",
      "+-------+-------+----------------+------------+----------------+------+--------+------------+-------+------------+-----------+----------------+----------------+------+------+-------------+--------------------+----------+-----------+-------------+---------------+-----------------+----------+--------------------+----------+--------------------+--------------------+--------------------+--------------------+--------------------+--------------------+--------------------+--------------------+------------------+------+------------+\n",
      "only showing top 1 row\n",
      "\n"
     ]
    }
   ],
   "source": [
    "paris[\"athletes.csv\"].show(1)"
   ]
  },
  {
   "cell_type": "code",
   "execution_count": 0,
   "metadata": {
    "application/vnd.databricks.v1+cell": {
     "cellMetadata": {
      "byteLimit": 2048000,
      "rowLimit": 10000
     },
     "inputWidgets": {},
     "nuid": "57e3a331-bab4-4e09-8f81-6a7138ea2628",
     "showTitle": false,
     "tableResultSettingsMap": {},
     "title": ""
    }
   },
   "outputs": [
    {
     "name": "stdout",
     "output_type": "stream",
     "text": [
      "+----+--------------------+--------------------+--------------------+----+\n",
      "|code|             country|        country_long|                 tag|note|\n",
      "+----+--------------------+--------------------+--------------------+----+\n",
      "| AFG|         Afghanistan|         Afghanistan|         afghanistan|   P|\n",
      "| AHO|Netherlands Antilles|Netherlands Antilles|netherlands-antilles|   H|\n",
      "| AIN|                 AIN|                 AIN|                 ain|   P|\n",
      "| ALB|             Albania|             Albania|             albania|   P|\n",
      "| ALG|             Algeria|             Algeria|             algeria|   P|\n",
      "| AND|             Andorra|             Andorra|             andorra|   P|\n",
      "| ANG|              Angola|              Angola|              angola|   P|\n",
      "| ANT| Antigua and Barbuda| Antigua and Barbuda| antigua-and-barbuda|   P|\n",
      "| ARG|           Argentina|           Argentina|           argentina|   P|\n",
      "| ARM|             Armenia|             Armenia|             armenia|   P|\n",
      "| ARU|               Aruba|               Aruba|               aruba|   P|\n",
      "| ASA|      American Samoa|      American Samoa|      american-samoa|   P|\n",
      "| AUS|           Australia|           Australia|           australia|   P|\n",
      "| AUT|             Austria|             Austria|             austria|   P|\n",
      "| AZE|          Azerbaijan|          Azerbaijan|          azerbaijan|   P|\n",
      "| BAH|             Bahamas|             Bahamas|             bahamas|   P|\n",
      "| BAN|          Bangladesh|          Bangladesh|          bangladesh|   P|\n",
      "| BAR|            Barbados|            Barbados|            barbados|   P|\n",
      "| BDI|             Burundi|             Burundi|             burundi|   P|\n",
      "| BEL|             Belgium|             Belgium|             belgium|   P|\n",
      "+----+--------------------+--------------------+--------------------+----+\n",
      "only showing top 20 rows\n",
      "\n"
     ]
    }
   ],
   "source": [
    "paris[\"nocs.csv\"].show()"
   ]
  },
  {
   "cell_type": "code",
   "execution_count": 0,
   "metadata": {
    "application/vnd.databricks.v1+cell": {
     "cellMetadata": {
      "byteLimit": 2048000,
      "rowLimit": 10000
     },
     "inputWidgets": {},
     "nuid": "db54232a-666f-4d28-a92d-8d3c8a844014",
     "showTitle": false,
     "tableResultSettingsMap": {},
     "title": ""
    }
   },
   "outputs": [],
   "source": [
    "discipline = paris[\"athletes.csv\"].select(\"disciplines\").distinct()"
   ]
  },
  {
   "cell_type": "code",
   "execution_count": 0,
   "metadata": {
    "application/vnd.databricks.v1+cell": {
     "cellMetadata": {
      "byteLimit": 2048000,
      "rowLimit": 10000
     },
     "inputWidgets": {},
     "nuid": "403a474f-d2e4-403d-916e-0c2cf78b79be",
     "showTitle": false,
     "tableResultSettingsMap": {},
     "title": ""
    }
   },
   "outputs": [
    {
     "name": "stdout",
     "output_type": "stream",
     "text": [
      "+--------------------+\n",
      "|         disciplines|\n",
      "+--------------------+\n",
      "|['Artistic Swimmi...|\n",
      "|['Artistic Gymnas...|\n",
      "|         ['Sailing']|\n",
      "|   ['Weightlifting']|\n",
      "|['Rhythmic Gymnas...|\n",
      "|        ['Shooting']|\n",
      "|        ['Swimming']|\n",
      "|    ['Canoe Slalom']|\n",
      "|       ['Athletics']|\n",
      "|    ['Cycling Road']|\n",
      "|          ['Boxing']|\n",
      "|       ['Triathlon']|\n",
      "|      ['Equestrian']|\n",
      "|['Modern Pentathl...|\n",
      "|       ['Wrestling']|\n",
      "|          ['Rowing']|\n",
      "|         ['Archery']|\n",
      "|            ['Judo']|\n",
      "|          ['Diving']|\n",
      "|         ['Surfing']|\n",
      "+--------------------+\n",
      "only showing top 20 rows\n",
      "\n"
     ]
    }
   ],
   "source": [
    "discipline.show()"
   ]
  },
  {
   "cell_type": "code",
   "execution_count": 0,
   "metadata": {
    "application/vnd.databricks.v1+cell": {
     "cellMetadata": {
      "byteLimit": 2048000,
      "rowLimit": 10000
     },
     "inputWidgets": {},
     "nuid": "509fb16c-9edf-4a2f-8f2c-b9a8a1467db9",
     "showTitle": false,
     "tableResultSettingsMap": {},
     "title": ""
    }
   },
   "outputs": [],
   "source": [
    "discipline_transformed = discipline.withColumn(\"discipline\", when(size(split(discipline.disciplines, \",\")) > 1, split(discipline.disciplines, \",\")[1]).otherwise(discipline.disciplines)).select(\"discipline\").withColumn(\n",
    "    \"discipline\", \n",
    "    regexp_replace(col(\"discipline\"), r\"[\\[\\]']\", \"\")  \n",
    ")"
   ]
  },
  {
   "cell_type": "code",
   "execution_count": 0,
   "metadata": {
    "application/vnd.databricks.v1+cell": {
     "cellMetadata": {
      "byteLimit": 2048000,
      "rowLimit": 10000
     },
     "inputWidgets": {},
     "nuid": "6cdbc964-1ee4-4ab5-ad57-824d5cb28b26",
     "showTitle": false,
     "tableResultSettingsMap": {},
     "title": ""
    }
   },
   "outputs": [
    {
     "name": "stdout",
     "output_type": "stream",
     "text": [
      "+-------------------+\n",
      "|         discipline|\n",
      "+-------------------+\n",
      "|  Artistic Swimming|\n",
      "|Artistic Gymnastics|\n",
      "|            Sailing|\n",
      "|      Weightlifting|\n",
      "|Rhythmic Gymnastics|\n",
      "|           Shooting|\n",
      "|           Swimming|\n",
      "|       Canoe Slalom|\n",
      "|          Athletics|\n",
      "|       Cycling Road|\n",
      "|             Boxing|\n",
      "|          Triathlon|\n",
      "|         Equestrian|\n",
      "|  Modern Pentathlon|\n",
      "|          Wrestling|\n",
      "|             Rowing|\n",
      "|            Archery|\n",
      "|               Judo|\n",
      "|             Diving|\n",
      "|            Surfing|\n",
      "+-------------------+\n",
      "only showing top 20 rows\n",
      "\n"
     ]
    }
   ],
   "source": [
    "discipline_transformed.show()"
   ]
  },
  {
   "cell_type": "code",
   "execution_count": 0,
   "metadata": {
    "application/vnd.databricks.v1+cell": {
     "cellMetadata": {
      "byteLimit": 2048000,
      "rowLimit": 10000
     },
     "inputWidgets": {},
     "nuid": "90b7ae9e-136b-4695-a194-97f6cebc35bb",
     "showTitle": false,
     "tableResultSettingsMap": {},
     "title": ""
    }
   },
   "outputs": [],
   "source": [
    "paris_athletes = paris[\"athletes.csv\"].select(\"name\", \"country_code\", \"disciplines\")"
   ]
  },
  {
   "cell_type": "code",
   "execution_count": 0,
   "metadata": {
    "application/vnd.databricks.v1+cell": {
     "cellMetadata": {
      "byteLimit": 2048000,
      "rowLimit": 10000
     },
     "inputWidgets": {},
     "nuid": "a17feb35-6ff2-4513-a827-3568c7fca7c5",
     "showTitle": false,
     "tableResultSettingsMap": {},
     "title": ""
    }
   },
   "outputs": [],
   "source": [
    "paris_athletes =  paris_athletes.withColumn(\"discipline\", when(size(split(col(\"disciplines\"), \",\")) > 1, split(col(\"disciplines\"), \",\")[1]).otherwise(col(\"disciplines\"))).withColumn(\n",
    "    \"discipline\", \n",
    "    regexp_replace(col(\"discipline\"), r\"[\\[\\]']\", \"\")  \n",
    ").drop(\"disciplines\")"
   ]
  },
  {
   "cell_type": "code",
   "execution_count": 0,
   "metadata": {
    "application/vnd.databricks.v1+cell": {
     "cellMetadata": {
      "byteLimit": 2048000,
      "rowLimit": 10000
     },
     "inputWidgets": {},
     "nuid": "09a18cf4-11b9-4667-8205-728b0e90ca34",
     "showTitle": false,
     "tableResultSettingsMap": {},
     "title": ""
    }
   },
   "outputs": [
    {
     "name": "stdout",
     "output_type": "stream",
     "text": [
      "+-----------------+------------+----------+\n",
      "|name             |country_code|discipline|\n",
      "+-----------------+------------+----------+\n",
      "|ALEKSANYAN Artur |ARM         |Wrestling |\n",
      "|AMOYAN Malkhas   |ARM         |Wrestling |\n",
      "|GALSTYAN Slavik  |ARM         |Wrestling |\n",
      "|HARUTYUNYAN Arsen|ARM         |Wrestling |\n",
      "|TEVANYAN Vazgen  |ARM         |Wrestling |\n",
      "+-----------------+------------+----------+\n",
      "only showing top 5 rows\n",
      "\n"
     ]
    }
   ],
   "source": [
    "paris_athletes.show(5, truncate=False)"
   ]
  },
  {
   "cell_type": "code",
   "execution_count": 0,
   "metadata": {
    "application/vnd.databricks.v1+cell": {
     "cellMetadata": {
      "byteLimit": 2048000,
      "rowLimit": 10000
     },
     "inputWidgets": {},
     "nuid": "a4ba0f30-8d9e-4953-8913-418d9c132afb",
     "showTitle": false,
     "tableResultSettingsMap": {},
     "title": ""
    }
   },
   "outputs": [],
   "source": [
    "tokyo[\"athletes.csv\"] = tokyo[\"athletes.csv\"].join(paris[\"nocs.csv\"],tokyo[\"athletes.csv\"][\"NOC\"] == paris[\"nocs.csv\"].country_long, \"left\")"
   ]
  },
  {
   "cell_type": "code",
   "execution_count": 0,
   "metadata": {
    "application/vnd.databricks.v1+cell": {
     "cellMetadata": {
      "byteLimit": 2048000,
      "rowLimit": 10000
     },
     "inputWidgets": {},
     "nuid": "4a8dc75d-39f6-49b5-9515-eb08d12578c8",
     "showTitle": false,
     "tableResultSettingsMap": {},
     "title": ""
    }
   },
   "outputs": [],
   "source": [
    "tokyo[\"athletes.csv\"] = tokyo[\"athletes.csv\"].select(\"name\",\"code\",\"discipline\")"
   ]
  },
  {
   "cell_type": "code",
   "execution_count": 0,
   "metadata": {
    "application/vnd.databricks.v1+cell": {
     "cellMetadata": {
      "byteLimit": 2048000,
      "rowLimit": 10000
     },
     "inputWidgets": {},
     "nuid": "36fa580f-da04-43cf-aee1-d3f42e86edc5",
     "showTitle": false,
     "tableResultSettingsMap": {},
     "title": ""
    }
   },
   "outputs": [],
   "source": [
    "# Check if the directory exists and that you have permissions to write to it\n",
    "tokyo[\"athletes.csv\"].repartition(1).write.mode(\"overwrite\").parquet(\"/mnt/olympic/transformed/tokyo/athletes\")\n"
   ]
  },
  {
   "cell_type": "code",
   "execution_count": 0,
   "metadata": {
    "application/vnd.databricks.v1+cell": {
     "cellMetadata": {
      "byteLimit": 2048000,
      "rowLimit": 10000
     },
     "inputWidgets": {},
     "nuid": "7840a48c-1de5-4dc8-9c99-5381ea7a7793",
     "showTitle": false,
     "tableResultSettingsMap": {},
     "title": ""
    }
   },
   "outputs": [],
   "source": [
    "tokyo[\"entriesgender.csv\"].repartition(1).write.mode(\"overwrite\").parquet(\"/mnt/olympic/transformed/tokyo/entriesgender\")"
   ]
  },
  {
   "cell_type": "code",
   "execution_count": 0,
   "metadata": {
    "application/vnd.databricks.v1+cell": {
     "cellMetadata": {
      "byteLimit": 2048000,
      "rowLimit": 10000
     },
     "inputWidgets": {},
     "nuid": "1f758c9f-a5b1-44d4-b2f7-9586d626103e",
     "showTitle": false,
     "tableResultSettingsMap": {},
     "title": ""
    }
   },
   "outputs": [],
   "source": [
    "filenames = [\"Medals.csv\"]\n",
    "\n",
    "base_url1 = \"/mnt/olympic/raw/Tokyo/\"\n",
    "\n",
    "tokyo = {}\n",
    "\n",
    "for i in filenames:\n",
    "    df = spark.read.format(\"csv\").option(\"header\", \"true\").option(\"inferSchema\", \"true\").load(base_url1 + i)\n",
    "    #The * unpacks the list elements as separate arguments for .toDF() \n",
    "    #the file and column names should be lower case\n",
    "    df = df.toDF(*[c.lower() for c in df.columns])\n",
    "    tokyo[i.lower()] = df"
   ]
  },
  {
   "cell_type": "code",
   "execution_count": 0,
   "metadata": {
    "application/vnd.databricks.v1+cell": {
     "cellMetadata": {
      "byteLimit": 2048000,
      "rowLimit": 10000
     },
     "inputWidgets": {},
     "nuid": "c370de73-2164-44a9-8106-e52f765588cf",
     "showTitle": false,
     "tableResultSettingsMap": {},
     "title": ""
    }
   },
   "outputs": [],
   "source": [
    "tokyo[\"medals.csv\"] =  tokyo[\"medals.csv\"].join(paris[\"nocs.csv\"],tokyo[\"medals.csv\"][\"team/noc\"] == paris[\"nocs.csv\"].country_long, \"left\")"
   ]
  },
  {
   "cell_type": "code",
   "execution_count": 0,
   "metadata": {
    "application/vnd.databricks.v1+cell": {
     "cellMetadata": {
      "byteLimit": 2048000,
      "rowLimit": 10000
     },
     "inputWidgets": {},
     "nuid": "28d7c9c0-0041-4eb2-82e1-1d83daeb4b94",
     "showTitle": false,
     "tableResultSettingsMap": {},
     "title": ""
    }
   },
   "outputs": [
    {
     "name": "stdout",
     "output_type": "stream",
     "text": [
      "+----+--------------------+----+------+------+-----+-------------+----+-------------+--------------------+-------------+----+\n",
      "|rank|            team/noc|gold|silver|bronze|total|rank by total|code|      country|        country_long|          tag|note|\n",
      "+----+--------------------+----+------+------+-----+-------------+----+-------------+--------------------+-------------+----+\n",
      "|   1|United States of ...|  39|    41|    33|  113|            1| USA|United States|United States of ...|united-states|   P|\n",
      "|   2|People's Republic...|  38|    32|    18|   88|            2| CHN|        China|People's Republic...|        china|   P|\n",
      "|   3|               Japan|  27|    14|    17|   58|            5| JPN|        Japan|               Japan|        japan|   P|\n",
      "|   4|       Great Britain|  22|    21|    22|   65|            4| GBR|Great Britain|       Great Britain|great-britain|   P|\n",
      "|   5|                 ROC|  20|    28|    23|   71|            3| ROC|          ROC|                 ROC|          roc|   H|\n",
      "+----+--------------------+----+------+------+-----+-------------+----+-------------+--------------------+-------------+----+\n",
      "only showing top 5 rows\n",
      "\n"
     ]
    }
   ],
   "source": [
    "tokyo[\"medals.csv\"].show(5)"
   ]
  },
  {
   "cell_type": "code",
   "execution_count": 0,
   "metadata": {
    "application/vnd.databricks.v1+cell": {
     "cellMetadata": {
      "byteLimit": 2048000,
      "rowLimit": 10000
     },
     "inputWidgets": {},
     "nuid": "5b132484-122d-4cfa-b5f5-abf0c38fa682",
     "showTitle": false,
     "tableResultSettingsMap": {},
     "title": ""
    }
   },
   "outputs": [
    {
     "name": "stdout",
     "output_type": "stream",
     "text": [
      "+----+--------------+----+------+------+-----+-------------+----+-------+------------+----+----+\n",
      "|rank|      team/noc|gold|silver|bronze|total|rank by total|code|country|country_long| tag|note|\n",
      "+----+--------------+----+------+------+-----+-------------+----+-------+------------+----+----+\n",
      "|  18|Czech Republic|   4|     4|     3|   11|           23|NULL|   NULL|        NULL|NULL|NULL|\n",
      "+----+--------------+----+------+------+-----+-------------+----+-------+------------+----+----+\n",
      "\n"
     ]
    }
   ],
   "source": [
    "tokyo[\"medals.csv\"].where(col(\"team/noc\") == \"Czech Republic\").show()"
   ]
  },
  {
   "cell_type": "code",
   "execution_count": 0,
   "metadata": {
    "application/vnd.databricks.v1+cell": {
     "cellMetadata": {
      "byteLimit": 2048000,
      "rowLimit": 10000
     },
     "inputWidgets": {},
     "nuid": "9abaa05c-8c08-4b37-833e-b1d3df7f7348",
     "showTitle": false,
     "tableResultSettingsMap": {},
     "title": ""
    }
   },
   "outputs": [],
   "source": [
    "tokyo[\"medals.csv\"] = tokyo[\"medals.csv\"].withColumn(\n",
    "    \"country_code\", \n",
    "    when(col(\"team/noc\") == \"Czech Republic\", \"CZE\").otherwise(col(\"code\"))\n",
    ")"
   ]
  },
  {
   "cell_type": "code",
   "execution_count": 0,
   "metadata": {
    "application/vnd.databricks.v1+cell": {
     "cellMetadata": {
      "byteLimit": 2048000,
      "rowLimit": 10000
     },
     "inputWidgets": {},
     "nuid": "5086dfa6-1d20-425d-9b6d-80de0cd1a702",
     "showTitle": false,
     "tableResultSettingsMap": {},
     "title": ""
    }
   },
   "outputs": [
    {
     "name": "stdout",
     "output_type": "stream",
     "text": [
      "+----+--------------------+----+------+------+-----+-------------+----+-------------+--------------------+-------------+----+------------+\n",
      "|rank|            team/noc|gold|silver|bronze|total|rank by total|code|      country|        country_long|          tag|note|country_code|\n",
      "+----+--------------------+----+------+------+-----+-------------+----+-------------+--------------------+-------------+----+------------+\n",
      "|   1|United States of ...|  39|    41|    33|  113|            1| USA|United States|United States of ...|united-states|   P|         USA|\n",
      "|   2|People's Republic...|  38|    32|    18|   88|            2| CHN|        China|People's Republic...|        china|   P|         CHN|\n",
      "|   3|               Japan|  27|    14|    17|   58|            5| JPN|        Japan|               Japan|        japan|   P|         JPN|\n",
      "|   4|       Great Britain|  22|    21|    22|   65|            4| GBR|Great Britain|       Great Britain|great-britain|   P|         GBR|\n",
      "|   5|                 ROC|  20|    28|    23|   71|            3| ROC|          ROC|                 ROC|          roc|   H|         ROC|\n",
      "|   6|           Australia|  17|     7|    22|   46|            6| AUS|    Australia|           Australia|    australia|   P|         AUS|\n",
      "|   7|         Netherlands|  10|    12|    14|   36|            9| NED|  Netherlands|         Netherlands|  netherlands|   P|         NED|\n",
      "|   8|              France|  10|    12|    11|   33|           10| FRA|       France|              France|       france|   P|         FRA|\n",
      "|   9|             Germany|  10|    11|    16|   37|            8| GER|      Germany|             Germany|      germany|   P|         GER|\n",
      "|  10|               Italy|  10|    10|    20|   40|            7| ITA|        Italy|               Italy|        italy|   P|         ITA|\n",
      "|  11|              Canada|   7|     6|    11|   24|           11| CAN|       Canada|              Canada|       canada|   P|         CAN|\n",
      "|  12|              Brazil|   7|     6|     8|   21|           12| BRA|       Brazil|              Brazil|       brazil|   P|         BRA|\n",
      "|  13|         New Zealand|   7|     6|     7|   20|           13| NZL|  New Zealand|         New Zealand|  new-zealand|   P|         NZL|\n",
      "|  14|                Cuba|   7|     3|     5|   15|           18| CUB|         Cuba|                Cuba|         cuba|   P|         CUB|\n",
      "|  15|             Hungary|   6|     7|     7|   20|           13| HUN|      Hungary|             Hungary|      hungary|   P|         HUN|\n",
      "|  16|   Republic of Korea|   6|     4|    10|   20|           13| KOR|        Korea|   Republic of Korea|        korea|   P|         KOR|\n",
      "|  17|              Poland|   4|     5|     5|   14|           19| POL|       Poland|              Poland|       poland|   P|         POL|\n",
      "|  18|      Czech Republic|   4|     4|     3|   11|           23|NULL|         NULL|                NULL|         NULL|NULL|         CZE|\n",
      "|  19|               Kenya|   4|     4|     2|   10|           25| KEN|        Kenya|               Kenya|        kenya|   P|         KEN|\n",
      "|  20|              Norway|   4|     2|     2|    8|           29| NOR|       Norway|              Norway|       norway|   P|         NOR|\n",
      "+----+--------------------+----+------+------+-----+-------------+----+-------------+--------------------+-------------+----+------------+\n",
      "only showing top 20 rows\n",
      "\n"
     ]
    }
   ],
   "source": [
    "tokyo[\"medals.csv\"].show()"
   ]
  },
  {
   "cell_type": "code",
   "execution_count": 0,
   "metadata": {
    "application/vnd.databricks.v1+cell": {
     "cellMetadata": {
      "byteLimit": 2048000,
      "rowLimit": 10000
     },
     "inputWidgets": {},
     "nuid": "0e176541-cc0e-4247-b99b-3d9b1e0bb693",
     "showTitle": false,
     "tableResultSettingsMap": {},
     "title": ""
    }
   },
   "outputs": [],
   "source": [
    "tokyo[\"medals.csv\"].select(\"rank\",\"country_code\",\"gold\",\"silver\",\"bronze\",\"total\").repartition(1).write.mode(\"overwrite\").parquet(\"/mnt/olympic/transformed/tokyo/medals\")"
   ]
  },
  {
   "cell_type": "code",
   "execution_count": 0,
   "metadata": {
    "application/vnd.databricks.v1+cell": {
     "cellMetadata": {
      "byteLimit": 2048000,
      "rowLimit": 10000
     },
     "inputWidgets": {},
     "nuid": "b8fdecf9-178a-4f4d-ab08-8889886ab675",
     "showTitle": false,
     "tableResultSettingsMap": {},
     "title": ""
    }
   },
   "outputs": [],
   "source": [
    "paris_athletes.repartition(1).write.mode(\"overwrite\").parquet(\"/mnt/olympic/transformed/paris/athletes\")"
   ]
  },
  {
   "cell_type": "code",
   "execution_count": 0,
   "metadata": {
    "application/vnd.databricks.v1+cell": {
     "cellMetadata": {
      "byteLimit": 2048000,
      "rowLimit": 10000
     },
     "inputWidgets": {},
     "nuid": "7e16a01f-ba79-4e3f-8daa-550bdcbcae41",
     "showTitle": false,
     "tableResultSettingsMap": {},
     "title": ""
    }
   },
   "outputs": [],
   "source": [
    "parisgenderentries.repartition(1).write.mode(\"overwrite\").parquet(\"/mnt/olympic/transformed/paris/entriesgender\")"
   ]
  },
  {
   "cell_type": "code",
   "execution_count": 0,
   "metadata": {
    "application/vnd.databricks.v1+cell": {
     "cellMetadata": {
      "byteLimit": 2048000,
      "rowLimit": 10000
     },
     "inputWidgets": {},
     "nuid": "1ac44091-76f3-4e00-ac79-45f943a4469d",
     "showTitle": false,
     "tableResultSettingsMap": {},
     "title": ""
    }
   },
   "outputs": [],
   "source": [
    "paris[\"nocs.csv\"].repartition(1).write.mode(\"overwrite\").parquet(\"/mnt/olympic/transformed/paris/nocs\")"
   ]
  },
  {
   "cell_type": "code",
   "execution_count": 0,
   "metadata": {
    "application/vnd.databricks.v1+cell": {
     "cellMetadata": {
      "byteLimit": 2048000,
      "rowLimit": 10000
     },
     "inputWidgets": {},
     "nuid": "86cd1c0e-b903-4b9d-89df-9dc0b6bb41a7",
     "showTitle": false,
     "tableResultSettingsMap": {},
     "title": ""
    }
   },
   "outputs": [],
   "source": [
    "paris[\"medals_total.csv\"] = paris[\"medals_total.csv\"].drop(\"country\",\"country_long\")"
   ]
  },
  {
   "cell_type": "code",
   "execution_count": 0,
   "metadata": {
    "application/vnd.databricks.v1+cell": {
     "cellMetadata": {
      "byteLimit": 2048000,
      "rowLimit": 10000
     },
     "inputWidgets": {},
     "nuid": "ca4cad04-ab57-4518-9aa4-e529f09f21be",
     "showTitle": false,
     "tableResultSettingsMap": {},
     "title": ""
    }
   },
   "outputs": [],
   "source": [
    "paris[\"medals_total.csv\"] = paris[\"medals_total.csv\"].withColumnRenamed(\"Gold Medal\",\"gold\")\\\n",
    "    .withColumnRenamed(\"Silver Medal\",\"silver\")\\\n",
    "        .withColumnRenamed(\"Bronze Medal\",\"bronze\")\\\n",
    "            .withColumnRenamed(\"Total\",\"total\")"
   ]
  },
  {
   "cell_type": "code",
   "execution_count": 0,
   "metadata": {
    "application/vnd.databricks.v1+cell": {
     "cellMetadata": {
      "byteLimit": 2048000,
      "rowLimit": 10000
     },
     "inputWidgets": {},
     "nuid": "ca460fff-eb6b-42b2-8f98-ebea0a660112",
     "showTitle": false,
     "tableResultSettingsMap": {},
     "title": ""
    }
   },
   "outputs": [
    {
     "data": {
      "text/plain": [
       "DataFrame[country_code: string, gold: int, silver: int, bronze: int, total: int]"
      ]
     },
     "execution_count": 195,
     "metadata": {},
     "output_type": "execute_result"
    }
   ],
   "source": [
    "paris[\"medals_total.csv\"]"
   ]
  },
  {
   "cell_type": "code",
   "execution_count": 0,
   "metadata": {
    "application/vnd.databricks.v1+cell": {
     "cellMetadata": {
      "byteLimit": 2048000,
      "rowLimit": 10000
     },
     "inputWidgets": {},
     "nuid": "8681394c-97e3-468e-b82a-13d9c67250f6",
     "showTitle": false,
     "tableResultSettingsMap": {},
     "title": ""
    }
   },
   "outputs": [],
   "source": [
    "paris[\"medals_total.csv\"].repartition(1).write.mode(\"overwrite\").parquet(\"/mnt/olympic/transformed/paris/medals_total\")"
   ]
  },
  {
   "cell_type": "code",
   "execution_count": 0,
   "metadata": {
    "application/vnd.databricks.v1+cell": {
     "cellMetadata": {
      "byteLimit": 2048000,
      "rowLimit": 10000
     },
     "inputWidgets": {},
     "nuid": "8060f100-56e2-4c02-9d59-3f5c1e00fb40",
     "showTitle": false,
     "tableResultSettingsMap": {},
     "title": ""
    }
   },
   "outputs": [
    {
     "data": {
      "text/plain": [
       "dict_keys(['athletes.csv', 'medals.csv', 'nocs.csv', 'medals_total.csv', 'coaches.csv'])"
      ]
     },
     "execution_count": 203,
     "metadata": {},
     "output_type": "execute_result"
    }
   ],
   "source": [
    "paris.keys()"
   ]
  },
  {
   "cell_type": "code",
   "execution_count": 0,
   "metadata": {
    "application/vnd.databricks.v1+cell": {
     "cellMetadata": {
      "byteLimit": 2048000,
      "rowLimit": 10000
     },
     "inputWidgets": {},
     "nuid": "cc65094f-9e12-405d-9d61-e6e1681854c8",
     "showTitle": false,
     "tableResultSettingsMap": {},
     "title": ""
    }
   },
   "outputs": [
    {
     "data": {
      "text/plain": [
       "dict_keys(['athletes.csv', 'medals.csv', 'coaches.csv', 'entriesgender.csv', 'teams.csv'])"
      ]
     },
     "execution_count": 205,
     "metadata": {},
     "output_type": "execute_result"
    }
   ],
   "source": [
    "tokyo.keys()"
   ]
  },
  {
   "cell_type": "code",
   "execution_count": 0,
   "metadata": {
    "application/vnd.databricks.v1+cell": {
     "cellMetadata": {
      "byteLimit": 2048000,
      "rowLimit": 10000
     },
     "inputWidgets": {},
     "nuid": "6c864322-f58f-467c-ab57-28cf2d414895",
     "showTitle": false,
     "tableResultSettingsMap": {},
     "title": ""
    }
   },
   "outputs": [],
   "source": [
    "tokyo[\"coaches.csv\"] = tokyo[\"coaches.csv\"].join(paris[\"nocs.csv\"], paris[\"nocs.csv\"].country_long == tokyo[\"coaches.csv\"][\"noc\"]).select(\"name\",\"code\",\"discipline\").withColumnRenamed(\"code\",\"country_code\")"
   ]
  },
  {
   "cell_type": "code",
   "execution_count": 0,
   "metadata": {
    "application/vnd.databricks.v1+cell": {
     "cellMetadata": {
      "byteLimit": 2048000,
      "rowLimit": 10000
     },
     "inputWidgets": {},
     "nuid": "8118fd1e-a351-423a-b33f-75b449016b05",
     "showTitle": false,
     "tableResultSettingsMap": {},
     "title": ""
    }
   },
   "outputs": [],
   "source": [
    "tokyo[\"coaches.csv\"].repartition(1).write.mode(\"overwrite\").parquet(\"/mnt/olympic/transformed/tokyo/coaches\")"
   ]
  },
  {
   "cell_type": "code",
   "execution_count": 0,
   "metadata": {
    "application/vnd.databricks.v1+cell": {
     "cellMetadata": {
      "byteLimit": 2048000,
      "rowLimit": 10000
     },
     "inputWidgets": {},
     "nuid": "3be7fdca-920f-47cc-95e1-205e1846f5d7",
     "showTitle": false,
     "tableResultSettingsMap": {},
     "title": ""
    }
   },
   "outputs": [],
   "source": [
    "paris[\"coaches.csv\"].select(\"name\",\"country\",\"disciplines\").join(paris[\"nocs.csv\"], paris[\"nocs.csv\"].country == paris[\"coaches.csv\"][\"country\"]).select(\"name\",\"code\",\"disciplines\").withColumnRenamed(\"code\",\"country_code\").repartition(1).write.mode(\"overwrite\").parquet(\"/mnt/olympic/transformed/paris/coaches\")"
   ]
  },
  {
   "cell_type": "code",
   "execution_count": 0,
   "metadata": {
    "application/vnd.databricks.v1+cell": {
     "cellMetadata": {
      "byteLimit": 2048000,
      "rowLimit": 10000
     },
     "inputWidgets": {},
     "nuid": "d76a69c5-9d64-4099-a142-e572209057cd",
     "showTitle": false,
     "tableResultSettingsMap": {},
     "title": ""
    }
   },
   "outputs": [
    {
     "data": {
      "text/plain": [
       "dict_keys(['athletes.csv', 'medals.csv', 'nocs.csv', 'medals_total.csv', 'coaches.csv'])"
      ]
     },
     "execution_count": 225,
     "metadata": {},
     "output_type": "execute_result"
    }
   ],
   "source": [
    "paris.keys()"
   ]
  },
  {
   "cell_type": "code",
   "execution_count": 0,
   "metadata": {
    "application/vnd.databricks.v1+cell": {
     "cellMetadata": {
      "byteLimit": 2048000,
      "rowLimit": 10000
     },
     "inputWidgets": {},
     "nuid": "080b5e0a-fb22-4aa6-90d5-338f73bebb33",
     "showTitle": false,
     "tableResultSettingsMap": {},
     "title": ""
    }
   },
   "outputs": [
    {
     "data": {
      "text/plain": [
       "dict_keys(['athletes.csv', 'medals.csv', 'coaches.csv', 'entriesgender.csv', 'teams.csv'])"
      ]
     },
     "execution_count": 223,
     "metadata": {},
     "output_type": "execute_result"
    }
   ],
   "source": [
    "tokyo.keys()"
   ]
  },
  {
   "cell_type": "code",
   "execution_count": 0,
   "metadata": {
    "application/vnd.databricks.v1+cell": {
     "cellMetadata": {
      "byteLimit": 2048000,
      "rowLimit": 10000
     },
     "inputWidgets": {},
     "nuid": "4a083bfe-e3a3-43d0-92a1-8d319fd5b017",
     "showTitle": false,
     "tableResultSettingsMap": {},
     "title": ""
    }
   },
   "outputs": [],
   "source": [
    "paris[\"medals.csv\"].repartition(1).write.mode(\"overwrite\").parquet(\"/mnt/olympic/transformed/paris/medals\")"
   ]
  },
  {
   "cell_type": "code",
   "execution_count": 0,
   "metadata": {
    "application/vnd.databricks.v1+cell": {
     "cellMetadata": {
      "byteLimit": 2048000,
      "rowLimit": 10000
     },
     "inputWidgets": {},
     "nuid": "8bdcb3c3-2dc2-47fd-ac11-845613c4ddae",
     "showTitle": false,
     "tableResultSettingsMap": {},
     "title": ""
    }
   },
   "outputs": [],
   "source": [
    "tokyo[\"teams.csv\"].repartition(1).write.mode(\"overwrite\").parquet(\"/mnt/olympic/transformed/tokyo/teams\")"
   ]
  },
  {
   "cell_type": "code",
   "execution_count": 0,
   "metadata": {
    "application/vnd.databricks.v1+cell": {
     "cellMetadata": {
      "byteLimit": 2048000,
      "rowLimit": 10000
     },
     "inputWidgets": {},
     "nuid": "2b517bb2-9be7-4282-b8da-bea6d2890416",
     "showTitle": false,
     "tableResultSettingsMap": {},
     "title": ""
    }
   },
   "outputs": [
    {
     "data": {
      "text/plain": [
       "\u001b[0;31m---------------------------------------------------------------------------\u001b[0m\n",
       "\u001b[0;31mNameError\u001b[0m                                 Traceback (most recent call last)\n",
       "File \u001b[0;32m<command-8875604975511850>, line 1\u001b[0m\n",
       "\u001b[0;32m----> 1\u001b[0m paris[\u001b[38;5;124m\"\u001b[39m\u001b[38;5;124mnocs.csv\u001b[39m\u001b[38;5;124m\"\u001b[39m]\u001b[38;5;241m.\u001b[39mrepartition(\u001b[38;5;241m1\u001b[39m)\u001b[38;5;241m.\u001b[39mwrite\u001b[38;5;241m.\u001b[39mmode(\u001b[38;5;124m\"\u001b[39m\u001b[38;5;124moverwrite\u001b[39m\u001b[38;5;124m\"\u001b[39m)\u001b[38;5;241m.\u001b[39mparquet(\u001b[38;5;124m\"\u001b[39m\u001b[38;5;124m/mnt/olympic/transformed/common/nocs\u001b[39m\u001b[38;5;124m\"\u001b[39m)\n",
       "\n",
       "\u001b[0;31mNameError\u001b[0m: name 'paris' is not defined"
      ]
     },
     "metadata": {
      "application/vnd.databricks.v1+output": {
       "addedWidgets": {},
       "arguments": {},
       "datasetInfos": [],
       "jupyterProps": {
        "ename": "NameError",
        "evalue": "name 'paris' is not defined"
       },
       "metadata": {
        "errorSummary": "<span class='ansi-red-fg'>NameError</span>: name 'paris' is not defined"
       },
       "removedWidgets": [],
       "sqlProps": null,
       "stackFrames": [
        "\u001b[0;31m---------------------------------------------------------------------------\u001b[0m",
        "\u001b[0;31mNameError\u001b[0m                                 Traceback (most recent call last)",
        "File \u001b[0;32m<command-8875604975511850>, line 1\u001b[0m\n\u001b[0;32m----> 1\u001b[0m paris[\u001b[38;5;124m\"\u001b[39m\u001b[38;5;124mnocs.csv\u001b[39m\u001b[38;5;124m\"\u001b[39m]\u001b[38;5;241m.\u001b[39mrepartition(\u001b[38;5;241m1\u001b[39m)\u001b[38;5;241m.\u001b[39mwrite\u001b[38;5;241m.\u001b[39mmode(\u001b[38;5;124m\"\u001b[39m\u001b[38;5;124moverwrite\u001b[39m\u001b[38;5;124m\"\u001b[39m)\u001b[38;5;241m.\u001b[39mparquet(\u001b[38;5;124m\"\u001b[39m\u001b[38;5;124m/mnt/olympic/transformed/common/nocs\u001b[39m\u001b[38;5;124m\"\u001b[39m)\n",
        "\u001b[0;31mNameError\u001b[0m: name 'paris' is not defined"
       ],
       "type": "baseError"
      }
     },
     "output_type": "display_data"
    }
   ],
   "source": [
    "paris[\"nocs.csv\"].repartition(1).write.mode(\"overwrite\").parquet(\"/mnt/olympic/transformed/common/nocs\")"
   ]
  },
  {
   "cell_type": "code",
   "execution_count": 0,
   "metadata": {
    "application/vnd.databricks.v1+cell": {
     "cellMetadata": {
      "byteLimit": 2048000,
      "rowLimit": 10000
     },
     "inputWidgets": {},
     "nuid": "31f788b9-c01e-4513-b24d-b6fdf566b8fa",
     "showTitle": false,
     "tableResultSettingsMap": {},
     "title": ""
    }
   },
   "outputs": [
    {
     "name": "stdout",
     "output_type": "stream",
     "text": [
      "+--------------------+------+----+-----+\n",
      "|          discipline|female|male|total|\n",
      "+--------------------+------+----+-----+\n",
      "|              Tennis|    87|  89|  176|\n",
      "|              Boxing|   124| 124|  248|\n",
      "|   Marathon Swimming|    20|  18|   38|\n",
      "|                Golf|    60|  60|  120|\n",
      "|              Rowing|   244| 249|  493|\n",
      "|                Judo|   186| 192|  378|\n",
      "|             Sailing|   165| 165|  330|\n",
      "|            Swimming|   386| 450|  836|\n",
      "|Cycling BMX Frees...|    12|  12|   24|\n",
      "|          Basketball|   143| 144|  287|\n",
      "|            Handball|   202| 184|  386|\n",
      "| Rhythmic Gymnastics|    94|   0|   94|\n",
      "|Marathon Swimming...|     4|  13|   17|\n",
      "|           Triathlon|    54|  57|  111|\n",
      "|           Badminton|    87|  88|  175|\n",
      "|        Canoe Sprint|   120| 119|  239|\n",
      "|           Athletics|   982|1038| 2020|\n",
      "|       Cycling Track|   110| 114|  224|\n",
      "|Cycling Road, Tri...|     1|   0|    1|\n",
      "|    Beach Volleyball|    48|  48|   96|\n",
      "+--------------------+------+----+-----+\n",
      "only showing top 20 rows\n",
      "\n"
     ]
    }
   ],
   "source": [
    "parisgenderentries.show()"
   ]
  },
  {
   "cell_type": "code",
   "execution_count": 0,
   "metadata": {
    "application/vnd.databricks.v1+cell": {
     "cellMetadata": {
      "byteLimit": 2048000,
      "rowLimit": 10000
     },
     "inputWidgets": {},
     "nuid": "26eea502-1f15-4192-b875-779e33ad751d",
     "showTitle": false,
     "tableResultSettingsMap": {},
     "title": ""
    }
   },
   "outputs": [
    {
     "data": {
      "text/plain": [
       "dict_keys(['athletes.csv', 'medals.csv', 'nocs.csv', 'medals_total.csv', 'coaches.csv'])"
      ]
     },
     "execution_count": 230,
     "metadata": {},
     "output_type": "execute_result"
    }
   ],
   "source": [
    "paris.keys()"
   ]
  },
  {
   "cell_type": "code",
   "execution_count": 0,
   "metadata": {
    "application/vnd.databricks.v1+cell": {
     "cellMetadata": {
      "byteLimit": 2048000,
      "rowLimit": 10000
     },
     "inputWidgets": {},
     "nuid": "7352ea77-5a10-4158-99ea-719b0ad72386",
     "showTitle": false,
     "tableResultSettingsMap": {},
     "title": ""
    }
   },
   "outputs": [],
   "source": [
    "paris[\"athletes.csv\"].repartition(1).write.mode(\"overwrite\").parquet(\"/mnt/olympic/transformed/paris/athlets_all\")"
   ]
  },
  {
   "cell_type": "code",
   "execution_count": 0,
   "metadata": {
    "application/vnd.databricks.v1+cell": {
     "cellMetadata": {
      "byteLimit": 2048000,
      "rowLimit": 10000
     },
     "inputWidgets": {},
     "nuid": "28cf251f-0359-49b0-b7d1-821e0a295ab3",
     "showTitle": false,
     "tableResultSettingsMap": {},
     "title": ""
    }
   },
   "outputs": [
    {
     "data": {
      "text/html": [
       "<style scoped>\n",
       "  .table-result-container {\n",
       "    max-height: 300px;\n",
       "    overflow: auto;\n",
       "  }\n",
       "  table, th, td {\n",
       "    border: 1px solid black;\n",
       "    border-collapse: collapse;\n",
       "  }\n",
       "  th, td {\n",
       "    padding: 5px;\n",
       "  }\n",
       "  th {\n",
       "    text-align: left;\n",
       "  }\n",
       "</style><div class='table-result-container'><table class='table-result'><thead style='background-color: white'><tr><th>path</th><th>name</th><th>size</th><th>modificationTime</th></tr></thead><tbody><tr><td>dbfs:/mnt/olympic/gold/</td><td>gold/</td><td>0</td><td>1741056559000</td></tr><tr><td>dbfs:/mnt/olympic/raw/</td><td>raw/</td><td>0</td><td>1740612934000</td></tr><tr><td>dbfs:/mnt/olympic/transformed/</td><td>transformed/</td><td>0</td><td>1740612943000</td></tr></tbody></table></div>"
      ]
     },
     "metadata": {
      "application/vnd.databricks.v1+output": {
       "addedWidgets": {},
       "aggData": [],
       "aggError": "",
       "aggOverflow": false,
       "aggSchema": [],
       "aggSeriesLimitReached": false,
       "aggType": "",
       "arguments": {},
       "columnCustomDisplayInfos": {},
       "data": [
        [
         "dbfs:/mnt/olympic/gold/",
         "gold/",
         0,
         1741056559000
        ],
        [
         "dbfs:/mnt/olympic/raw/",
         "raw/",
         0,
         1740612934000
        ],
        [
         "dbfs:/mnt/olympic/transformed/",
         "transformed/",
         0,
         1740612943000
        ]
       ],
       "datasetInfos": [],
       "dbfsResultPath": null,
       "isJsonSchema": true,
       "metadata": {
        "isDbfsCommandResult": false
       },
       "overflow": false,
       "plotOptions": {
        "customPlotOptions": {},
        "displayType": "table",
        "pivotAggregation": null,
        "pivotColumns": null,
        "xColumns": null,
        "yColumns": null
       },
       "removedWidgets": [],
       "schema": [
        {
         "metadata": "{}",
         "name": "path",
         "type": "\"string\""
        },
        {
         "metadata": "{}",
         "name": "name",
         "type": "\"string\""
        },
        {
         "metadata": "{}",
         "name": "size",
         "type": "\"long\""
        },
        {
         "metadata": "{}",
         "name": "modificationTime",
         "type": "\"long\""
        }
       ],
       "type": "table"
      }
     },
     "output_type": "display_data"
    }
   ],
   "source": [
    "%fs\n",
    "ls \"/mnt/olympic\""
   ]
  },
  {
   "cell_type": "code",
   "execution_count": 0,
   "metadata": {
    "application/vnd.databricks.v1+cell": {
     "cellMetadata": {
      "byteLimit": 2048000,
      "rowLimit": 10000
     },
     "inputWidgets": {},
     "nuid": "31a63723-fb1b-4c85-b44b-edca23198770",
     "showTitle": false,
     "tableResultSettingsMap": {},
     "title": ""
    }
   },
   "outputs": [
    {
     "data": {
      "text/html": [
       "<style scoped>\n",
       "  .table-result-container {\n",
       "    max-height: 300px;\n",
       "    overflow: auto;\n",
       "  }\n",
       "  table, th, td {\n",
       "    border: 1px solid black;\n",
       "    border-collapse: collapse;\n",
       "  }\n",
       "  th, td {\n",
       "    padding: 5px;\n",
       "  }\n",
       "  th {\n",
       "    text-align: left;\n",
       "  }\n",
       "</style><div class='table-result-container'><table class='table-result'><thead style='background-color: white'><tr><th>path</th><th>name</th><th>size</th><th>modificationTime</th></tr></thead><tbody><tr><td>dbfs:/mnt/olympic/gold/</td><td>gold/</td><td>0</td><td>1741056559000</td></tr><tr><td>dbfs:/mnt/olympic/raw/</td><td>raw/</td><td>0</td><td>1740612934000</td></tr><tr><td>dbfs:/mnt/olympic/transformed/</td><td>transformed/</td><td>0</td><td>1740612943000</td></tr></tbody></table></div>"
      ]
     },
     "metadata": {
      "application/vnd.databricks.v1+output": {
       "addedWidgets": {},
       "aggData": [],
       "aggError": "",
       "aggOverflow": false,
       "aggSchema": [],
       "aggSeriesLimitReached": false,
       "aggType": "",
       "arguments": {},
       "columnCustomDisplayInfos": {},
       "data": [
        [
         "dbfs:/mnt/olympic/gold/",
         "gold/",
         0,
         1741056559000
        ],
        [
         "dbfs:/mnt/olympic/raw/",
         "raw/",
         0,
         1740612934000
        ],
        [
         "dbfs:/mnt/olympic/transformed/",
         "transformed/",
         0,
         1740612943000
        ]
       ],
       "datasetInfos": [],
       "dbfsResultPath": null,
       "isJsonSchema": true,
       "metadata": {},
       "overflow": false,
       "plotOptions": {
        "customPlotOptions": {},
        "displayType": "table",
        "pivotAggregation": null,
        "pivotColumns": null,
        "xColumns": null,
        "yColumns": null
       },
       "removedWidgets": [],
       "schema": [
        {
         "metadata": "{}",
         "name": "path",
         "type": "\"string\""
        },
        {
         "metadata": "{}",
         "name": "name",
         "type": "\"string\""
        },
        {
         "metadata": "{}",
         "name": "size",
         "type": "\"long\""
        },
        {
         "metadata": "{}",
         "name": "modificationTime",
         "type": "\"long\""
        }
       ],
       "type": "table"
      }
     },
     "output_type": "display_data"
    }
   ],
   "source": [
    "display(dbutils.fs.ls(\"/mnt/olympic/\"))\n"
   ]
  },
  {
   "cell_type": "code",
   "execution_count": 0,
   "metadata": {
    "application/vnd.databricks.v1+cell": {
     "cellMetadata": {
      "byteLimit": 2048000,
      "rowLimit": 10000
     },
     "inputWidgets": {},
     "nuid": "dfcc1570-96b4-4328-a556-bf47a118e538",
     "showTitle": false,
     "tableResultSettingsMap": {},
     "title": ""
    }
   },
   "outputs": [],
   "source": [
    "paris_athletes = spark.read.parquet(\"/mnt/olympic/transformed/paris/medals_total/\").orderBy(\"total\", ascending=False)"
   ]
  },
  {
   "cell_type": "code",
   "execution_count": 0,
   "metadata": {
    "application/vnd.databricks.v1+cell": {
     "cellMetadata": {
      "byteLimit": 2048000,
      "rowLimit": 10000
     },
     "inputWidgets": {},
     "nuid": "2d6e5b61-ef2b-440f-b731-54ad87f78407",
     "showTitle": false,
     "tableResultSettingsMap": {},
     "title": ""
    }
   },
   "outputs": [
    {
     "name": "stdout",
     "output_type": "stream",
     "text": [
      "+------------+----+------+------+-----+\n",
      "|country_code|gold|silver|bronze|total|\n",
      "+------------+----+------+------+-----+\n",
      "|         USA|  40|    44|    42|  126|\n",
      "|         CHN|  40|    27|    24|   91|\n",
      "|         GBR|  14|    22|    29|   65|\n",
      "|         FRA|  16|    26|    22|   64|\n",
      "|         AUS|  18|    19|    16|   53|\n",
      "|         JPN|  20|    12|    13|   45|\n",
      "|         ITA|  12|    13|    15|   40|\n",
      "|         NED|  15|     7|    12|   34|\n",
      "|         GER|  12|    13|     8|   33|\n",
      "|         KOR|  13|     9|    10|   32|\n",
      "|         CAN|   9|     7|    11|   27|\n",
      "|         NZL|  10|     7|     3|   20|\n",
      "|         BRA|   3|     7|    10|   20|\n",
      "|         HUN|   6|     7|     6|   19|\n",
      "|         ESP|   5|     4|     9|   18|\n",
      "|         UZB|   8|     2|     3|   13|\n",
      "|         IRI|   3|     6|     3|   12|\n",
      "|         UKR|   3|     5|     4|   12|\n",
      "|         SWE|   4|     4|     3|   11|\n",
      "|         KEN|   4|     2|     5|   11|\n",
      "+------------+----+------+------+-----+\n",
      "only showing top 20 rows\n",
      "\n"
     ]
    }
   ],
   "source": [
    "paris_athletes.show()"
   ]
  },
  {
   "cell_type": "code",
   "execution_count": 0,
   "metadata": {
    "application/vnd.databricks.v1+cell": {
     "cellMetadata": {
      "byteLimit": 2048000,
      "rowLimit": 10000
     },
     "inputWidgets": {},
     "nuid": "ea38bf10-60ac-47fb-989d-506af99bea47",
     "showTitle": false,
     "tableResultSettingsMap": {},
     "title": ""
    }
   },
   "outputs": [],
   "source": [
    "from pyspark.sql import functions as F\n",
    "from pyspark.sql.window import Window"
   ]
  },
  {
   "cell_type": "code",
   "execution_count": 0,
   "metadata": {
    "application/vnd.databricks.v1+cell": {
     "cellMetadata": {
      "byteLimit": 2048000,
      "rowLimit": 10000
     },
     "inputWidgets": {},
     "nuid": "eca07e6c-dc06-4fcf-be63-ec262a7ae00d",
     "showTitle": false,
     "tableResultSettingsMap": {},
     "title": ""
    }
   },
   "outputs": [
    {
     "name": "stdout",
     "output_type": "stream",
     "text": [
      "+----+------------+----+------+------+-----+\n",
      "|rank|country_code|gold|silver|bronze|total|\n",
      "+----+------------+----+------+------+-----+\n",
      "|   1|         USA|  40|    44|    42|  126|\n",
      "|   2|         CHN|  40|    27|    24|   91|\n",
      "|   3|         GBR|  14|    22|    29|   65|\n",
      "|   4|         FRA|  16|    26|    22|   64|\n",
      "|   5|         AUS|  18|    19|    16|   53|\n",
      "|   6|         JPN|  20|    12|    13|   45|\n",
      "|   7|         ITA|  12|    13|    15|   40|\n",
      "|   8|         NED|  15|     7|    12|   34|\n",
      "|   9|         GER|  12|    13|     8|   33|\n",
      "|  10|         KOR|  13|     9|    10|   32|\n",
      "|  11|         CAN|   9|     7|    11|   27|\n",
      "|  12|         NZL|  10|     7|     3|   20|\n",
      "|  12|         BRA|   3|     7|    10|   20|\n",
      "|  13|         HUN|   6|     7|     6|   19|\n",
      "|  14|         ESP|   5|     4|     9|   18|\n",
      "|  15|         UZB|   8|     2|     3|   13|\n",
      "|  16|         IRI|   3|     6|     3|   12|\n",
      "|  16|         UKR|   3|     5|     4|   12|\n",
      "|  17|         SWE|   4|     4|     3|   11|\n",
      "|  17|         KEN|   4|     2|     5|   11|\n",
      "+----+------------+----+------+------+-----+\n",
      "only showing top 20 rows\n",
      "\n"
     ]
    }
   ],
   "source": [
    "window_spec = Window.orderBy(F.desc(\"total\"))\n",
    "paris_athletes_with_rank = paris_athletes.withColumn(\"rank\", F.dense_rank().over(window_spec))\n",
    "paris_athletes_with_rank = paris_athletes_with_rank.select(\"rank\", *[col for col in paris_athletes_with_rank.columns if col != 'rank'])\n",
    "paris_athletes_with_rank.show()"
   ]
  },
  {
   "cell_type": "code",
   "execution_count": 0,
   "metadata": {
    "application/vnd.databricks.v1+cell": {
     "cellMetadata": {
      "byteLimit": 2048000,
      "rowLimit": 10000
     },
     "inputWidgets": {},
     "nuid": "c023503e-0278-49b4-967f-3f6438299c07",
     "showTitle": false,
     "tableResultSettingsMap": {},
     "title": ""
    }
   },
   "outputs": [],
   "source": [
    "paris_athletes_with_rank.repartition(1).write.mode(\"overwrite\").parquet(\"/mnt/olympic/transformed/paris/medals_total\")"
   ]
  },
  {
   "cell_type": "code",
   "execution_count": 0,
   "metadata": {
    "application/vnd.databricks.v1+cell": {
     "cellMetadata": {
      "byteLimit": 2048000,
      "rowLimit": 10000
     },
     "inputWidgets": {},
     "nuid": "11493cf3-788e-4049-a3e7-0e04745f65c4",
     "showTitle": false,
     "tableResultSettingsMap": {},
     "title": ""
    }
   },
   "outputs": [],
   "source": [
    "paris_medallist = athletes = spark.read.format(\"csv\").option(\"header\", \"true\").load(\"/mnt/olympic/raw/Paris/medallists.csv\")"
   ]
  },
  {
   "cell_type": "code",
   "execution_count": 0,
   "metadata": {
    "application/vnd.databricks.v1+cell": {
     "cellMetadata": {
      "byteLimit": 2048000,
      "rowLimit": 10000
     },
     "inputWidgets": {},
     "nuid": "e15172d1-1f4c-41b1-a7dc-36294746a9a1",
     "showTitle": false,
     "tableResultSettingsMap": {},
     "title": ""
    }
   },
   "outputs": [
    {
     "name": "stdout",
     "output_type": "stream",
     "text": [
      "+----------+------------+----------+--------------------+------+------------+----------------+--------------------+----------------+----------------+--------------------+----+-----------+------------+--------------------+----------+--------------------+----------+------------+---------+------------+\n",
      "|medal_date|  medal_type|medal_code|                name|gender|country_code|         country|        country_long|nationality_code|     nationality|    nationality_long|team|team_gender|  discipline|               event|event_type|           url_event|birth_date|code_athlete|code_team|is_medallist|\n",
      "+----------+------------+----------+--------------------+------+------------+----------------+--------------------+----------------+----------------+--------------------+----+-----------+------------+--------------------+----------+--------------------+----------+------------+---------+------------+\n",
      "|2024-07-27|  Gold Medal|       1.0|     EVENEPOEL Remco|  Male|         BEL|         Belgium|             Belgium|             BEL|         Belgium|             Belgium|NULL|       NULL|Cycling Road|Men's Individual ...|       ATH|/en/paris-2024/re...|2000-01-25|     1903136|     NULL|        True|\n",
      "|2024-07-27|Silver Medal|       2.0|       GANNA Filippo|  Male|         ITA|           Italy|               Italy|             ITA|           Italy|               Italy|NULL|       NULL|Cycling Road|Men's Individual ...|       ATH|/en/paris-2024/re...|1996-07-25|     1923520|     NULL|        True|\n",
      "|2024-07-27|Bronze Medal|       3.0|       van AERT Wout|  Male|         BEL|         Belgium|             Belgium|             BEL|         Belgium|             Belgium|NULL|       NULL|Cycling Road|Men's Individual ...|       ATH|/en/paris-2024/re...|1994-09-15|     1903147|     NULL|        True|\n",
      "|2024-07-27|  Gold Medal|       1.0|         BROWN Grace|Female|         AUS|       Australia|           Australia|             AUS|       Australia|           Australia|NULL|       NULL|Cycling Road|Women's Individua...|       ATH|/en/paris-2024/re...|1992-07-07|     1940173|     NULL|        True|\n",
      "|2024-07-27|Silver Medal|       2.0|      HENDERSON Anna|Female|         GBR|   Great Britain|       Great Britain|             GBR|   Great Britain|       Great Britain|NULL|       NULL|Cycling Road|Women's Individua...|       ATH|/en/paris-2024/re...|1998-11-14|     1912525|     NULL|        True|\n",
      "|2024-07-27|Bronze Medal|       3.0|        DYGERT Chloe|Female|         USA|   United States|United States of ...|             USA|   United States|United States of ...|NULL|       NULL|Cycling Road|Women's Individua...|       ATH|/en/paris-2024/re...|1997-01-01|     1955079|     NULL|        True|\n",
      "|2024-07-27|  Gold Medal|       1.0|           OH Sanguk|  Male|         KOR|           Korea|   Republic of Korea|             KOR|           Korea|   Republic of Korea|NULL|       NULL|     Fencing|Men's Sabre Indiv...|      HATH|/en/paris-2024/re...|1996-09-30|     1927149|     NULL|        True|\n",
      "|2024-07-27|Silver Medal|       2.0|       FERJANI Fares|  Male|         TUN|         Tunisia|             Tunisia|             TUN|         Tunisia|             Tunisia|NULL|       NULL|     Fencing|Men's Sabre Indiv...|      HATH|/en/paris-2024/re...|1997-07-22|     1937783|     NULL|        True|\n",
      "|2024-07-27|Bronze Medal|       3.0|        SAMELE Luigi|  Male|         ITA|           Italy|               Italy|             ITA|           Italy|               Italy|NULL|       NULL|     Fencing|Men's Sabre Indiv...|      HATH|/en/paris-2024/re...|1987-07-25|     1924595|     NULL|        True|\n",
      "|2024-07-27|  Gold Medal|       1.0| KONG Man Wai Vivian|Female|         HKG|Hong Kong, China|    Hong Kong, China|             HKG|Hong Kong, China|    Hong Kong, China|NULL|       NULL|     Fencing|Women's Épée Indi...|      HATH|/en/paris-2024/re...|1994-02-08|     1963262|     NULL|        True|\n",
      "|2024-07-27|Silver Medal|       2.0|MALLO-BRETON Auriane|Female|         FRA|          France|              France|             FRA|          France|              France|NULL|       NULL|     Fencing|Women's Épée Indi...|      HATH|/en/paris-2024/re...|1993-10-11|     1916183|     NULL|        True|\n",
      "|2024-07-27|Bronze Medal|       3.0|       MUHARI Eszter|Female|         HUN|         Hungary|             Hungary|             HUN|         Hungary|             Hungary|NULL|       NULL|     Fencing|Women's Épée Indi...|      HATH|/en/paris-2024/re...|2002-09-30|     1946375|     NULL|        True|\n",
      "|2024-07-27|  Gold Medal|       1.0|       SMETOV Yeldos|  Male|         KAZ|      Kazakhstan|          Kazakhstan|             KAZ|      Kazakhstan|          Kazakhstan|NULL|       NULL|        Judo|          Men -60 kg|      HATH|/en/paris-2024/re...|1992-09-09|     1935408|     NULL|        True|\n",
      "|2024-07-27|Silver Medal|       2.0|       MKHEIDZE Luka|  Male|         FRA|          France|              France|             FRA|          France|              France|NULL|       NULL|        Judo|          Men -60 kg|      HATH|/en/paris-2024/re...|1996-01-05|     1891304|     NULL|        True|\n",
      "|2024-07-27|Bronze Medal|       3.0|      NAGAYAMA Ryuju|  Male|         JPN|           Japan|               Japan|             JPN|           Japan|               Japan|NULL|       NULL|        Judo|          Men -60 kg|      HATH|/en/paris-2024/re...|1996-04-15|     1896752|     NULL|        True|\n",
      "|2024-07-27|Bronze Medal|       3.0|  GARRIGOS Francisco|  Male|         ESP|           Spain|               Spain|             ESP|           Spain|               Spain|NULL|       NULL|        Judo|          Men -60 kg|      HATH|/en/paris-2024/re...|1994-12-09|     1563544|     NULL|        True|\n",
      "|2024-07-27|  Gold Medal|       1.0|     TSUNODA Natsumi|Female|         JPN|           Japan|               Japan|             JPN|           Japan|               Japan|NULL|       NULL|        Judo|        Women -48 kg|      HATH|/en/paris-2024/re...|1992-08-06|     1896735|     NULL|        True|\n",
      "|2024-07-27|Silver Medal|       2.0|BAVUUDORJ Baasankhuu|Female|         MGL|        Mongolia|            Mongolia|             MGL|        Mongolia|            Mongolia|NULL|       NULL|        Judo|        Women -48 kg|      HATH|/en/paris-2024/re...|1999-11-26|     1914467|     NULL|        True|\n",
      "|2024-07-27|Bronze Medal|       3.0|      BOUKLI Shirine|Female|         FRA|          France|              France|             FRA|          France|              France|NULL|       NULL|        Judo|        Women -48 kg|      HATH|/en/paris-2024/re...|1999-01-24|     1891280|     NULL|        True|\n",
      "|2024-07-27|Bronze Medal|       3.0|      BABULFATH Tara|Female|         SWE|          Sweden|              Sweden|             SWE|          Sweden|              Sweden|NULL|       NULL|        Judo|        Women -48 kg|      HATH|/en/paris-2024/re...|2006-01-03|     1571911|     NULL|        True|\n",
      "+----------+------------+----------+--------------------+------+------------+----------------+--------------------+----------------+----------------+--------------------+----+-----------+------------+--------------------+----------+--------------------+----------+------------+---------+------------+\n",
      "only showing top 20 rows\n",
      "\n"
     ]
    }
   ],
   "source": [
    "paris_medallist.show()"
   ]
  },
  {
   "cell_type": "code",
   "execution_count": 0,
   "metadata": {
    "application/vnd.databricks.v1+cell": {
     "cellMetadata": {
      "byteLimit": 2048000,
      "rowLimit": 10000
     },
     "inputWidgets": {},
     "nuid": "54621706-478a-4fdf-9fe0-337f07b1ad4a",
     "showTitle": false,
     "tableResultSettingsMap": {},
     "title": ""
    }
   },
   "outputs": [],
   "source": [
    "paris_medallist.repartition(1).write.mode(\"overwrite\").parquet(\"/mnt/olympic/transformed/paris/medallists\")"
   ]
  },
  {
   "cell_type": "code",
   "execution_count": 0,
   "metadata": {
    "application/vnd.databricks.v1+cell": {
     "cellMetadata": {
      "byteLimit": 2048000,
      "rowLimit": 10000
     },
     "inputWidgets": {},
     "nuid": "857f3da3-93c0-4f87-aec0-32c0a9ac86a1",
     "showTitle": false,
     "tableResultSettingsMap": {},
     "title": ""
    }
   },
   "outputs": [],
   "source": [
    "paris_medallist = spark.read.parquet(\"/mnt/olympic/transformed/paris/medallists\")"
   ]
  },
  {
   "cell_type": "code",
   "execution_count": 0,
   "metadata": {
    "application/vnd.databricks.v1+cell": {
     "cellMetadata": {},
     "inputWidgets": {},
     "nuid": "637818a3-b116-4042-8336-36f61b9de94d",
     "showTitle": false,
     "tableResultSettingsMap": {},
     "title": ""
    }
   },
   "outputs": [],
   "source": []
  }
 ],
 "metadata": {
  "application/vnd.databricks.v1+notebook": {
   "computePreferences": null,
   "dashboards": [],
   "environmentMetadata": {
    "base_environment": "",
    "environment_version": "2"
   },
   "language": "python",
   "notebookMetadata": {
    "mostRecentlyExecutedCommandWithImplicitDF": {
     "commandId": 6307089986624190,
     "dataframes": [
      "_sqldf"
     ]
    },
    "pythonIndentUnit": 4
   },
   "notebookName": "Olympic Data integration",
   "widgets": {}
  },
  "language_info": {
   "name": "python"
  }
 },
 "nbformat": 4,
 "nbformat_minor": 0
}
