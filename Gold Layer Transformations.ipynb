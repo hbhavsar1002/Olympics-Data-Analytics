{
 "cells": [
  {
   "cell_type": "code",
   "execution_count": 0,
   "metadata": {
    "application/vnd.databricks.v1+cell": {
     "cellMetadata": {
      "byteLimit": 2048000,
      "rowLimit": 10000
     },
     "inputWidgets": {},
     "nuid": "0440f5b7-ee7e-4fe8-8873-ec9b0710c771",
     "showTitle": false,
     "tableResultSettingsMap": {},
     "title": ""
    }
   },
   "outputs": [],
   "source": [
    "from pyspark.sql.functions import col, when, count, desc, sum, round"
   ]
  },
  {
   "cell_type": "code",
   "execution_count": 0,
   "metadata": {
    "application/vnd.databricks.v1+cell": {
     "cellMetadata": {
      "byteLimit": 2048000,
      "rowLimit": 10000
     },
     "inputWidgets": {},
     "nuid": "48892ac1-0280-4adf-b3a4-2da27345cc94",
     "showTitle": false,
     "tableResultSettingsMap": {},
     "title": ""
    }
   },
   "outputs": [
    {
     "data": {
      "text/plain": [
       "True"
      ]
     },
     "execution_count": 3,
     "metadata": {},
     "output_type": "execute_result"
    }
   ],
   "source": [
    "\n",
    "configs = {\"fs.azure.account.auth.type\": \"OAuth\",\n",
    "\"fs.azure.account.oauth.provider.type\": \"org.apache.hadoop.fs.azurebfs.oauth2.ClientCredsTokenProvider\",\n",
    "\"fs.azure.account.oauth2.client.id\": \"<client_id>\",\n",
    "\"fs.azure.account.oauth2.client.secret\":\"<secret_key>\",\n",
    "\"fs.azure.account.oauth2.client.endpoint\": \"https://login.microsoftonline.com/tenant-id/oauth2/token\"}\n",
    "\n",
    "\n",
    "dbutils.fs.mount(\n",
    "source = \"abfss://olympic@olyharsh.dfs.core.windows.net\", # contrainer@storageacc\n",
    "mount_point = \"/mnt/olympic\",\n",
    "extra_configs = configs)"
   ]
  },
  {
   "cell_type": "code",
   "execution_count": 0,
   "metadata": {
    "application/vnd.databricks.v1+cell": {
     "cellMetadata": {
      "byteLimit": 2048000,
      "rowLimit": 10000
     },
     "inputWidgets": {},
     "nuid": "134d3653-42e9-4d4f-99fa-7dd5660e53cd",
     "showTitle": false,
     "tableResultSettingsMap": {},
     "title": ""
    }
   },
   "outputs": [
    {
     "data": {
      "text/html": [
       "<style scoped>\n",
       "  .table-result-container {\n",
       "    max-height: 300px;\n",
       "    overflow: auto;\n",
       "  }\n",
       "  table, th, td {\n",
       "    border: 1px solid black;\n",
       "    border-collapse: collapse;\n",
       "  }\n",
       "  th, td {\n",
       "    padding: 5px;\n",
       "  }\n",
       "  th {\n",
       "    text-align: left;\n",
       "  }\n",
       "</style><div class='table-result-container'><table class='table-result'><thead style='background-color: white'><tr><th>path</th><th>name</th><th>size</th><th>modificationTime</th></tr></thead><tbody><tr><td>dbfs:/mnt/olympic/gold/</td><td>gold/</td><td>0</td><td>1741056559000</td></tr><tr><td>dbfs:/mnt/olympic/raw/</td><td>raw/</td><td>0</td><td>1740612934000</td></tr><tr><td>dbfs:/mnt/olympic/transformed/</td><td>transformed/</td><td>0</td><td>1740612943000</td></tr></tbody></table></div>"
      ]
     },
     "metadata": {
      "application/vnd.databricks.v1+output": {
       "addedWidgets": {},
       "aggData": [],
       "aggError": "",
       "aggOverflow": false,
       "aggSchema": [],
       "aggSeriesLimitReached": false,
       "aggType": "",
       "arguments": {},
       "columnCustomDisplayInfos": {},
       "data": [
        [
         "dbfs:/mnt/olympic/gold/",
         "gold/",
         0,
         1741056559000
        ],
        [
         "dbfs:/mnt/olympic/raw/",
         "raw/",
         0,
         1740612934000
        ],
        [
         "dbfs:/mnt/olympic/transformed/",
         "transformed/",
         0,
         1740612943000
        ]
       ],
       "datasetInfos": [],
       "dbfsResultPath": null,
       "isJsonSchema": true,
       "metadata": {
        "isDbfsCommandResult": false
       },
       "overflow": false,
       "plotOptions": {
        "customPlotOptions": {},
        "displayType": "table",
        "pivotAggregation": null,
        "pivotColumns": null,
        "xColumns": null,
        "yColumns": null
       },
       "removedWidgets": [],
       "schema": [
        {
         "metadata": "{}",
         "name": "path",
         "type": "\"string\""
        },
        {
         "metadata": "{}",
         "name": "name",
         "type": "\"string\""
        },
        {
         "metadata": "{}",
         "name": "size",
         "type": "\"long\""
        },
        {
         "metadata": "{}",
         "name": "modificationTime",
         "type": "\"long\""
        }
       ],
       "type": "table"
      }
     },
     "output_type": "display_data"
    }
   ],
   "source": [
    "%fs\n",
    "ls \"/mnt/olympic\""
   ]
  },
  {
   "cell_type": "code",
   "execution_count": 0,
   "metadata": {
    "application/vnd.databricks.v1+cell": {
     "cellMetadata": {
      "byteLimit": 2048000,
      "rowLimit": 10000
     },
     "inputWidgets": {},
     "nuid": "03abd8f5-6f4c-4353-bd76-bef93570d248",
     "showTitle": false,
     "tableResultSettingsMap": {},
     "title": ""
    }
   },
   "outputs": [],
   "source": [
    "athletes_all = spark.read.format(\"csv\").option(\"header\",\"true\").option(\"inferSchema\",\"true\").load(\"/mnt/olympic/raw/Paris/athletes.csv\")"
   ]
  },
  {
   "cell_type": "code",
   "execution_count": 0,
   "metadata": {
    "application/vnd.databricks.v1+cell": {
     "cellMetadata": {
      "byteLimit": 2048000,
      "rowLimit": 10000
     },
     "inputWidgets": {},
     "nuid": "7d49cf1e-ee90-4e47-a7dd-381981e00339",
     "showTitle": false,
     "tableResultSettingsMap": {},
     "title": ""
    }
   },
   "outputs": [
    {
     "name": "stdout",
     "output_type": "stream",
     "text": [
      "root\n",
      " |-- code: integer (nullable = true)\n",
      " |-- current: boolean (nullable = true)\n",
      " |-- name: string (nullable = true)\n",
      " |-- name_short: string (nullable = true)\n",
      " |-- name_tv: string (nullable = true)\n",
      " |-- gender: string (nullable = true)\n",
      " |-- function: string (nullable = true)\n",
      " |-- country_code: string (nullable = true)\n",
      " |-- country: string (nullable = true)\n",
      " |-- country_long: string (nullable = true)\n",
      " |-- nationality: string (nullable = true)\n",
      " |-- nationality_long: string (nullable = true)\n",
      " |-- nationality_code: string (nullable = true)\n",
      " |-- height: double (nullable = true)\n",
      " |-- weight: double (nullable = true)\n",
      " |-- disciplines: string (nullable = true)\n",
      " |-- events: string (nullable = true)\n",
      " |-- birth_date: string (nullable = true)\n",
      " |-- birth_place: string (nullable = true)\n",
      " |-- birth_country: string (nullable = true)\n",
      " |-- residence_place: string (nullable = true)\n",
      " |-- residence_country: string (nullable = true)\n",
      " |-- nickname: string (nullable = true)\n",
      " |-- hobbies: string (nullable = true)\n",
      " |-- occupation: string (nullable = true)\n",
      " |-- education: string (nullable = true)\n",
      " |-- family: string (nullable = true)\n",
      " |-- lang: string (nullable = true)\n",
      " |-- coach: string (nullable = true)\n",
      " |-- reason: string (nullable = true)\n",
      " |-- hero: string (nullable = true)\n",
      " |-- influence: string (nullable = true)\n",
      " |-- philosophy: string (nullable = true)\n",
      " |-- sporting_relatives: string (nullable = true)\n",
      " |-- ritual: string (nullable = true)\n",
      " |-- other_sports: string (nullable = true)\n",
      "\n"
     ]
    }
   ],
   "source": [
    "athletes_all.printSchema()"
   ]
  },
  {
   "cell_type": "code",
   "execution_count": 0,
   "metadata": {
    "application/vnd.databricks.v1+cell": {
     "cellMetadata": {
      "byteLimit": 2048000,
      "rowLimit": 10000
     },
     "inputWidgets": {},
     "nuid": "aa8477b5-9199-4f5f-be8e-c006ddfff45b",
     "showTitle": false,
     "tableResultSettingsMap": {},
     "title": ""
    }
   },
   "outputs": [
    {
     "name": "stdout",
     "output_type": "stream",
     "text": [
      "+-------------+\n",
      "|birth_country|\n",
      "+-------------+\n",
      "|Armenia      |\n",
      "|Armenia      |\n",
      "|NULL         |\n",
      "|Armenia      |\n",
      "|Armenia      |\n",
      "|PEREIRA      |\n",
      "|Great Britain|\n",
      "|TUBAKUTA     |\n",
      "|Gambia       |\n",
      "|Mexico       |\n",
      "|Mexico       |\n",
      "|Mexico       |\n",
      "|France       |\n",
      "|France       |\n",
      "|Mexico       |\n",
      "|Mexico       |\n",
      "|Mexico       |\n",
      "|NULL         |\n",
      "|NULL         |\n",
      "|NULL         |\n",
      "+-------------+\n",
      "only showing top 20 rows\n",
      "\n"
     ]
    }
   ],
   "source": [
    "athletes_all.select(\"birth_country\").show(truncate=False)"
   ]
  },
  {
   "cell_type": "code",
   "execution_count": 0,
   "metadata": {
    "application/vnd.databricks.v1+cell": {
     "cellMetadata": {
      "byteLimit": 2048000,
      "rowLimit": 10000
     },
     "inputWidgets": {},
     "nuid": "aabf22a7-53cf-4f33-b09e-d3938ce5e567",
     "showTitle": false,
     "tableResultSettingsMap": {},
     "title": ""
    }
   },
   "outputs": [],
   "source": [
    "athletes_origin = athletes_all.select(\"name\",\"country\",\"birth_country\")"
   ]
  },
  {
   "cell_type": "code",
   "execution_count": 0,
   "metadata": {
    "application/vnd.databricks.v1+cell": {
     "cellMetadata": {
      "byteLimit": 2048000,
      "rowLimit": 10000
     },
     "inputWidgets": {},
     "nuid": "5bc2a8dc-324d-43cc-a72f-d86ca08cd34e",
     "showTitle": false,
     "tableResultSettingsMap": {},
     "title": ""
    }
   },
   "outputs": [
    {
     "name": "stdout",
     "output_type": "stream",
     "text": [
      "+--------------------+--------+-------------+\n",
      "|                name| country|birth_country|\n",
      "+--------------------+--------+-------------+\n",
      "|    ALEKSANYAN Artur| Armenia|      Armenia|\n",
      "|      AMOYAN Malkhas| Armenia|      Armenia|\n",
      "|     GALSTYAN Slavik| Armenia|         NULL|\n",
      "|   HARUTYUNYAN Arsen| Armenia|      Armenia|\n",
      "|     TEVANYAN Vazgen| Armenia|      Armenia|\n",
      "|       ARENAS Lorena|Colombia|      PEREIRA|\n",
      "|     McKENZIE Ashley| Jamaica|Great Britain|\n",
      "|BASS BITTAYE Gina...|  Gambia|     TUBAKUTA|\n",
      "|     CAMARA Ebrahima|  Gambia|       Gambia|\n",
      "| RUEDA SANTOS Lizeth|  Mexico|       Mexico|\n",
      "|TAPIA VIDAL Rosa ...|  Mexico|       Mexico|\n",
      "|   GRAJALES Crisanto|  Mexico|       Mexico|\n",
      "|    MAAROUFOU Hachim| Comoros|       France|\n",
      "|        SAADI Maesha| Comoros|       France|\n",
      "|      DIOSDADO Nuria|  Mexico|       Mexico|\n",
      "|       JIMENEZ Joana|  Mexico|       Mexico|\n",
      "|     SOBRINO Jessica|  Mexico|       Mexico|\n",
      "|      ALFEREZ Regina|  Mexico|         NULL|\n",
      "|   ARELLANO Fernanda|  Mexico|         NULL|\n",
      "|      TOSCANO Pamela|  Mexico|         NULL|\n",
      "+--------------------+--------+-------------+\n",
      "only showing top 20 rows\n",
      "\n"
     ]
    }
   ],
   "source": [
    "athletes_origin.show()"
   ]
  },
  {
   "cell_type": "code",
   "execution_count": 0,
   "metadata": {
    "application/vnd.databricks.v1+cell": {
     "cellMetadata": {
      "byteLimit": 2048000,
      "rowLimit": 10000
     },
     "inputWidgets": {},
     "nuid": "456d2ab0-e987-49b2-b2b2-a18bef595dc5",
     "showTitle": false,
     "tableResultSettingsMap": {},
     "title": ""
    }
   },
   "outputs": [],
   "source": [
    "tokyo_athletes = spark.read.format(\"csv\").option(\"header\",\"true\").option(\"inferSchema\",\"true\").load(\"/mnt/olympic/raw/Tokyo/Athletes.csv\")"
   ]
  },
  {
   "cell_type": "code",
   "execution_count": 0,
   "metadata": {
    "application/vnd.databricks.v1+cell": {
     "cellMetadata": {
      "byteLimit": 2048000,
      "rowLimit": 10000
     },
     "inputWidgets": {},
     "nuid": "0a3716cf-176e-4518-aee7-254171c898f0",
     "showTitle": false,
     "tableResultSettingsMap": {},
     "title": ""
    }
   },
   "outputs": [],
   "source": [
    "paris_nocs = spark.read.format(\"csv\").option(\"header\",\"true\").option(\"inferSchema\",\"true\").load(\"/mnt/olympic/raw/Paris/nocs.csv\")"
   ]
  },
  {
   "cell_type": "code",
   "execution_count": 0,
   "metadata": {
    "application/vnd.databricks.v1+cell": {
     "cellMetadata": {
      "byteLimit": 2048000,
      "rowLimit": 10000
     },
     "inputWidgets": {},
     "nuid": "4e17af9c-6c77-487a-8cc8-4419f3a0c3d6",
     "showTitle": false,
     "tableResultSettingsMap": {},
     "title": ""
    }
   },
   "outputs": [
    {
     "name": "stdout",
     "output_type": "stream",
     "text": [
      "+--------------------+--------------------+-------------------+----+-------------+--------------------+-------------+----+\n",
      "|                Name|                 NOC|         Discipline|code|      country|        country_long|          tag|note|\n",
      "+--------------------+--------------------+-------------------+----+-------------+--------------------+-------------+----+\n",
      "|     AALERUD Katrine|              Norway|       Cycling Road| NOR|       Norway|              Norway|       norway|   P|\n",
      "|         ABAD Nestor|               Spain|Artistic Gymnastics| ESP|        Spain|               Spain|        spain|   P|\n",
      "|   ABAGNALE Giovanni|               Italy|             Rowing| ITA|        Italy|               Italy|        italy|   P|\n",
      "|      ABALDE Alberto|               Spain|         Basketball| ESP|        Spain|               Spain|        spain|   P|\n",
      "|       ABALDE Tamara|               Spain|         Basketball| ESP|        Spain|               Spain|        spain|   P|\n",
      "|           ABALO Luc|              France|           Handball| FRA|       France|              France|       france|   P|\n",
      "|        ABAROA Cesar|               Chile|             Rowing| CHI|        Chile|               Chile|        chile|   P|\n",
      "|       ABASS Abobakr|               Sudan|           Swimming| SUD|        Sudan|               Sudan|        sudan|   P|\n",
      "|    ABBASALI Hamideh|Islamic Republic ...|             Karate| IRI|      IR Iran|Islamic Republic ...|      ir-iran|   P|\n",
      "|       ABBASOV Islam|          Azerbaijan|          Wrestling| AZE|   Azerbaijan|          Azerbaijan|   azerbaijan|   P|\n",
      "|        ABBINGH Lois|         Netherlands|           Handball| NED|  Netherlands|         Netherlands|  netherlands|   P|\n",
      "|         ABBOT Emily|           Australia|Rhythmic Gymnastics| AUS|    Australia|           Australia|    australia|   P|\n",
      "|       ABBOTT Monica|United States of ...|  Baseball/Softball| USA|United States|United States of ...|united-states|   P|\n",
      "|ABDALLA Abubaker ...|               Qatar|          Athletics| QAT|        Qatar|               Qatar|        qatar|   P|\n",
      "|      ABDALLA Maryam|               Egypt|  Artistic Swimming| EGY|        Egypt|               Egypt|        egypt|   P|\n",
      "|      ABDALLAH Shahd|               Egypt|  Artistic Swimming| EGY|        Egypt|               Egypt|        egypt|   P|\n",
      "| ABDALRASOOL Mohamed|               Sudan|               Judo| SUD|        Sudan|               Sudan|        sudan|   P|\n",
      "|   ABDEL LATIF Radwa|               Egypt|           Shooting| EGY|        Egypt|               Egypt|        egypt|   P|\n",
      "|    ABDEL RAZEK Samy|               Egypt|           Shooting| EGY|        Egypt|               Egypt|        egypt|   P|\n",
      "|   ABDELAZIZ Abdalla|               Egypt|             Karate| EGY|        Egypt|               Egypt|        egypt|   P|\n",
      "+--------------------+--------------------+-------------------+----+-------------+--------------------+-------------+----+\n",
      "only showing top 20 rows\n",
      "\n"
     ]
    }
   ],
   "source": [
    "tokyo_athletes_join = tokyo_athletes.join(paris_nocs, tokyo_athletes.NOC == paris_nocs.country_long, \"left\")\n",
    "tokyo_athletes_join.show()"
   ]
  },
  {
   "cell_type": "code",
   "execution_count": 0,
   "metadata": {
    "application/vnd.databricks.v1+cell": {
     "cellMetadata": {
      "byteLimit": 2048000,
      "rowLimit": 10000
     },
     "inputWidgets": {},
     "nuid": "07dc5400-5523-41ba-b4f0-0d4a040fc253",
     "showTitle": false,
     "tableResultSettingsMap": {},
     "title": ""
    }
   },
   "outputs": [
    {
     "name": "stdout",
     "output_type": "stream",
     "text": [
      "+-------------------+--------------+-------------------+----+-------+------------+----+----+\n",
      "|               Name|           NOC|         Discipline|code|country|country_long| tag|note|\n",
      "+-------------------+--------------+-------------------+----+-------+------------+----+----+\n",
      "|       ADAR Yasemin|        Turkey|          Wrestling|NULL|   NULL|        NULL|NULL|NULL|\n",
      "|       AGRALI Yavuz|        Turkey|          Athletics|NULL|   NULL|        NULL|NULL|NULL|\n",
      "|         AKGUL Taha|        Turkey|          Wrestling|NULL|   NULL|        NULL|NULL|NULL|\n",
      "|         AKGUN Omer|        Turkey|           Shooting|NULL|   NULL|        NULL|NULL|NULL|\n",
      "|       AKKUS Mihrac|        Turkey|               Judo|NULL|   NULL|        NULL|NULL|NULL|\n",
      "|  AKOZ Simge Sebnem|        Turkey|         Volleyball|NULL|   NULL|        NULL|NULL|NULL|\n",
      "|         AKTAS Ugur|        Turkey|             Karate|NULL|   NULL|        NULL|NULL|NULL|\n",
      "|     ALBAYRAK Vedat|        Turkey|               Judo|NULL|   NULL|        NULL|NULL|NULL|\n",
      "| ALVES LOPES Marcia|    Cape Verde|Rhythmic Gymnastics|NULL|   NULL|        NULL|NULL|NULL|\n",
      "|     ANAGOZ Yasemin|        Turkey|            Archery|NULL|   NULL|        NULL|NULL|NULL|\n",
      "|     ANDRADE Jordin|    Cape Verde|          Athletics|NULL|   NULL|        NULL|NULL|NULL|\n",
      "|     ANTOSOVA Lenka|Czech Republic|             Rowing|NULL|   NULL|        NULL|NULL|NULL|\n",
      "|         APAK Esref|        Turkey|          Athletics|NULL|   NULL|        NULL|NULL|NULL|\n",
      "|    APOSTALON Anika|Czech Republic|           Swimming|NULL|   NULL|        NULL|NULL|NULL|\n",
      "|      ARICAN Ferhat|        Turkey|Artistic Gymnastics|NULL|   NULL|        NULL|NULL|NULL|\n",
      "|     ARIKAN Okyanus|        Turkey|            Sailing|NULL|   NULL|        NULL|NULL|NULL|\n",
      "|ARIKAN Polat Kemboi|        Turkey|          Athletics|NULL|   NULL|        NULL|NULL|NULL|\n",
      "|          ASIL Adem|        Turkey|Artistic Gymnastics|NULL|   NULL|        NULL|NULL|NULL|\n",
      "|        ASLAN Yigit|        Turkey|           Swimming|NULL|   NULL|        NULL|NULL|NULL|\n",
      "|      ATLI Suleyman|        Turkey|          Wrestling|NULL|   NULL|        NULL|NULL|NULL|\n",
      "+-------------------+--------------+-------------------+----+-------+------------+----+----+\n",
      "only showing top 20 rows\n",
      "\n"
     ]
    }
   ],
   "source": [
    "tokyo_athletes_join.where(col(\"code\").isNull()).show()"
   ]
  },
  {
   "cell_type": "code",
   "execution_count": 0,
   "metadata": {
    "application/vnd.databricks.v1+cell": {
     "cellMetadata": {
      "byteLimit": 2048000,
      "rowLimit": 10000
     },
     "inputWidgets": {},
     "nuid": "664ea8e4-40ab-4fc6-b859-19667f1d2077",
     "showTitle": false,
     "tableResultSettingsMap": {},
     "title": ""
    }
   },
   "outputs": [
    {
     "name": "stdout",
     "output_type": "stream",
     "text": [
      "+--------------+\n",
      "|           NOC|\n",
      "+--------------+\n",
      "|        Turkey|\n",
      "|    Cape Verde|\n",
      "|Czech Republic|\n",
      "+--------------+\n",
      "\n"
     ]
    }
   ],
   "source": [
    "tokyo_athletes_join.where(col(\"code\").isNull()).select(\"NOC\").distinct().show()"
   ]
  },
  {
   "cell_type": "code",
   "execution_count": 0,
   "metadata": {
    "application/vnd.databricks.v1+cell": {
     "cellMetadata": {
      "byteLimit": 2048000,
      "rowLimit": 10000
     },
     "inputWidgets": {},
     "nuid": "e84825f4-0948-42d5-9a62-0407d0b54b44",
     "showTitle": false,
     "tableResultSettingsMap": {},
     "title": ""
    }
   },
   "outputs": [
    {
     "name": "stdout",
     "output_type": "stream",
     "text": [
      "+----+-------+------------+-------+----+\n",
      "|code|country|country_long|    tag|note|\n",
      "+----+-------+------------+-------+----+\n",
      "| TUR|Türkiye|     Türkiye|turkiye|   P|\n",
      "+----+-------+------------+-------+----+\n",
      "\n"
     ]
    }
   ],
   "source": [
    "paris_nocs.where(col(\"tag\") == 'turkiye').show()"
   ]
  },
  {
   "cell_type": "code",
   "execution_count": 0,
   "metadata": {
    "application/vnd.databricks.v1+cell": {
     "cellMetadata": {
      "byteLimit": 2048000,
      "rowLimit": 10000
     },
     "inputWidgets": {},
     "nuid": "1bae1f96-0b04-4f57-9794-d79b06ba8baf",
     "showTitle": false,
     "tableResultSettingsMap": {},
     "title": ""
    }
   },
   "outputs": [],
   "source": [
    "paris_nocs = paris_nocs.withColumn(\"country\", when(col(\"country\") == \"Türkiye\", \"Turkey\").otherwise(col(\"country\"))) \\\n",
    "       .withColumn(\"country_long\", when(col(\"country_long\") == \"Türkiye\", \"Turkey\").otherwise(col(\"country_long\")))\\\n",
    "           .withColumn(\"tag\", when(col(\"tag\") == \"turkiye\", \"turkey\").otherwise(col(\"tag\")))"
   ]
  },
  {
   "cell_type": "code",
   "execution_count": 0,
   "metadata": {
    "application/vnd.databricks.v1+cell": {
     "cellMetadata": {
      "byteLimit": 2048000,
      "rowLimit": 10000
     },
     "inputWidgets": {},
     "nuid": "fb1de5d4-cc8f-4703-8cbe-43ce5fae01e8",
     "showTitle": false,
     "tableResultSettingsMap": {},
     "title": ""
    }
   },
   "outputs": [
    {
     "name": "stdout",
     "output_type": "stream",
     "text": [
      "+----+-------+------------+------+----+\n",
      "|code|country|country_long|   tag|note|\n",
      "+----+-------+------------+------+----+\n",
      "| TUR| Turkey|      Turkey|turkey|   P|\n",
      "+----+-------+------------+------+----+\n",
      "\n"
     ]
    }
   ],
   "source": [
    "paris_nocs.where(col(\"tag\") == 'turkey').show()"
   ]
  },
  {
   "cell_type": "code",
   "execution_count": 0,
   "metadata": {
    "application/vnd.databricks.v1+cell": {
     "cellMetadata": {
      "byteLimit": 2048000,
      "rowLimit": 10000
     },
     "inputWidgets": {},
     "nuid": "686c45f4-3c98-4055-98f7-4eca77490a4b",
     "showTitle": false,
     "tableResultSettingsMap": {},
     "title": ""
    }
   },
   "outputs": [
    {
     "name": "stdout",
     "output_type": "stream",
     "text": [
      "+----+----------+------------+----------+----+\n",
      "|code|   country|country_long|       tag|note|\n",
      "+----+----------+------------+----------+----+\n",
      "| CPV|Cabo Verde|  Cabo Verde|cabo-verde|   P|\n",
      "+----+----------+------------+----------+----+\n",
      "\n"
     ]
    }
   ],
   "source": [
    "paris_nocs.where(col(\"country\").like('%Verde')).show()"
   ]
  },
  {
   "cell_type": "code",
   "execution_count": 0,
   "metadata": {
    "application/vnd.databricks.v1+cell": {
     "cellMetadata": {
      "byteLimit": 2048000,
      "rowLimit": 10000
     },
     "inputWidgets": {},
     "nuid": "79d91886-6a2e-427c-953f-f65edfccf1e4",
     "showTitle": false,
     "tableResultSettingsMap": {},
     "title": ""
    }
   },
   "outputs": [],
   "source": [
    "paris_nocs = paris_nocs.withColumn(\"country\", when(col(\"country\") == \"Cabo Verde\", \"Cape Verde\").otherwise(col(\"country\"))) \\\n",
    "       .withColumn(\"country_long\", when(col(\"country_long\") == \"Cabo Verde\", \"Cape Verde\").otherwise(col(\"country_long\")))\\\n",
    "           .withColumn(\"tag\", when(col(\"tag\") == \"cabo-verde\", \"cape-verde\").otherwise(col(\"tag\")))"
   ]
  },
  {
   "cell_type": "code",
   "execution_count": 0,
   "metadata": {
    "application/vnd.databricks.v1+cell": {
     "cellMetadata": {
      "byteLimit": 2048000,
      "rowLimit": 10000
     },
     "inputWidgets": {},
     "nuid": "a5f0d26f-4328-4502-b648-91a934a86c28",
     "showTitle": false,
     "tableResultSettingsMap": {},
     "title": ""
    }
   },
   "outputs": [
    {
     "name": "stdout",
     "output_type": "stream",
     "text": [
      "+----+----------+------------+----------+----+\n",
      "|code|   country|country_long|       tag|note|\n",
      "+----+----------+------------+----------+----+\n",
      "| CPV|Cape Verde|  Cape Verde|cape-verde|   P|\n",
      "+----+----------+------------+----------+----+\n",
      "\n"
     ]
    }
   ],
   "source": [
    "paris_nocs.where(col('tag') == 'cape-verde').show()"
   ]
  },
  {
   "cell_type": "code",
   "execution_count": 0,
   "metadata": {
    "application/vnd.databricks.v1+cell": {
     "cellMetadata": {
      "byteLimit": 2048000,
      "rowLimit": 10000
     },
     "inputWidgets": {},
     "nuid": "b85adc8c-288f-4027-af2a-5e9c18706d63",
     "showTitle": false,
     "tableResultSettingsMap": {},
     "title": ""
    }
   },
   "outputs": [
    {
     "name": "stdout",
     "output_type": "stream",
     "text": [
      "+----+--------------+--------------+--------------+----+\n",
      "|code|       country|  country_long|           tag|note|\n",
      "+----+--------------+--------------+--------------+----+\n",
      "| CZE|       Czechia|       Czechia|       czechia|   P|\n",
      "| TCH|Czechoslovakia|Czechoslovakia|czechoslovakia|   H|\n",
      "+----+--------------+--------------+--------------+----+\n",
      "\n"
     ]
    }
   ],
   "source": [
    "paris_nocs.where(col(\"country\").like('Czech%')).show()"
   ]
  },
  {
   "cell_type": "code",
   "execution_count": 0,
   "metadata": {
    "application/vnd.databricks.v1+cell": {
     "cellMetadata": {
      "byteLimit": 2048000,
      "rowLimit": 10000
     },
     "inputWidgets": {},
     "nuid": "454b80c3-2612-4970-ac90-51da104865c2",
     "showTitle": false,
     "tableResultSettingsMap": {},
     "title": ""
    }
   },
   "outputs": [],
   "source": [
    "paris_nocs = paris_nocs.withColumn(\"country\", when(col(\"country\") == \"Czechia\", \"Czech Republic\").otherwise(col(\"country\"))) \\\n",
    "       .withColumn(\"country_long\", when(col(\"country_long\") == \"Czechia\", \"Czech Republic\").otherwise(col(\"country_long\")))\\\n",
    "           .withColumn(\"tag\", when(col(\"tag\") == \"czechia\", \"czech-republic\").otherwise(col(\"tag\")))"
   ]
  },
  {
   "cell_type": "markdown",
   "metadata": {
    "application/vnd.databricks.v1+cell": {
     "cellMetadata": {},
     "inputWidgets": {},
     "nuid": "8a7892f7-996f-4a47-89d1-5ab08243e375",
     "showTitle": false,
     "tableResultSettingsMap": {},
     "title": ""
    }
   },
   "source": [
    "We can see below that there is no discripency in the data now"
   ]
  },
  {
   "cell_type": "code",
   "execution_count": 0,
   "metadata": {
    "application/vnd.databricks.v1+cell": {
     "cellMetadata": {
      "byteLimit": 2048000,
      "rowLimit": 10000
     },
     "inputWidgets": {},
     "nuid": "ddffd414-011b-45d3-9dd0-4d47c2f9a319",
     "showTitle": false,
     "tableResultSettingsMap": {},
     "title": ""
    }
   },
   "outputs": [
    {
     "name": "stdout",
     "output_type": "stream",
     "text": [
      "+---+\n",
      "|NOC|\n",
      "+---+\n",
      "+---+\n",
      "\n"
     ]
    }
   ],
   "source": [
    "tokyo_athletes_join = tokyo_athletes.join(paris_nocs, tokyo_athletes.NOC == paris_nocs.country_long, \"left\")\n",
    "tokyo_athletes_join.where(col(\"code\").isNull()).select(\"NOC\").distinct().show()"
   ]
  },
  {
   "cell_type": "code",
   "execution_count": 0,
   "metadata": {
    "application/vnd.databricks.v1+cell": {
     "cellMetadata": {
      "byteLimit": 2048000,
      "rowLimit": 10000
     },
     "inputWidgets": {},
     "nuid": "283500f4-c636-49bc-9be2-948eb61e640e",
     "showTitle": false,
     "tableResultSettingsMap": {},
     "title": ""
    }
   },
   "outputs": [
    {
     "name": "stdout",
     "output_type": "stream",
     "text": [
      "+---------------+------+------------+----+-------+------------+------+----+\n",
      "|           Name|   NOC|  Discipline|code|country|country_long|   tag|note|\n",
      "+---------------+------+------------+----+-------+------------+------+----+\n",
      "|AALERUD Katrine|Norway|Cycling Road| NOR| Norway|      Norway|norway|   P|\n",
      "+---------------+------+------------+----+-------+------------+------+----+\n",
      "only showing top 1 row\n",
      "\n"
     ]
    }
   ],
   "source": [
    "tokyo_athletes_join.show(1)"
   ]
  },
  {
   "cell_type": "code",
   "execution_count": 0,
   "metadata": {
    "application/vnd.databricks.v1+cell": {
     "cellMetadata": {
      "byteLimit": 2048000,
      "rowLimit": 10000
     },
     "inputWidgets": {},
     "nuid": "e49b0593-0c66-46d9-945d-379960de1617",
     "showTitle": false,
     "tableResultSettingsMap": {},
     "title": ""
    }
   },
   "outputs": [],
   "source": [
    "tokyo_athletes = tokyo_athletes_join.select(\"Name\",\"code\",\"Discipline\").withColumnRenamed(\"Name\",\"name\").withColumnRenamed(\"code\",\"country_code\").withColumnRenamed(\"Discipline\",\"discipline\")"
   ]
  },
  {
   "cell_type": "code",
   "execution_count": 0,
   "metadata": {
    "application/vnd.databricks.v1+cell": {
     "cellMetadata": {
      "byteLimit": 2048000,
      "rowLimit": 10000
     },
     "inputWidgets": {},
     "nuid": "e5989d7f-049b-4700-86ea-fa05c87b80af",
     "showTitle": false,
     "tableResultSettingsMap": {},
     "title": ""
    }
   },
   "outputs": [
    {
     "name": "stdout",
     "output_type": "stream",
     "text": [
      "+--------------------+------------+-------------------+\n",
      "|                name|country_code|         discipline|\n",
      "+--------------------+------------+-------------------+\n",
      "|     AALERUD Katrine|         NOR|       Cycling Road|\n",
      "|         ABAD Nestor|         ESP|Artistic Gymnastics|\n",
      "|   ABAGNALE Giovanni|         ITA|             Rowing|\n",
      "|      ABALDE Alberto|         ESP|         Basketball|\n",
      "|       ABALDE Tamara|         ESP|         Basketball|\n",
      "|           ABALO Luc|         FRA|           Handball|\n",
      "|        ABAROA Cesar|         CHI|             Rowing|\n",
      "|       ABASS Abobakr|         SUD|           Swimming|\n",
      "|    ABBASALI Hamideh|         IRI|             Karate|\n",
      "|       ABBASOV Islam|         AZE|          Wrestling|\n",
      "|        ABBINGH Lois|         NED|           Handball|\n",
      "|         ABBOT Emily|         AUS|Rhythmic Gymnastics|\n",
      "|       ABBOTT Monica|         USA|  Baseball/Softball|\n",
      "|ABDALLA Abubaker ...|         QAT|          Athletics|\n",
      "|      ABDALLA Maryam|         EGY|  Artistic Swimming|\n",
      "|      ABDALLAH Shahd|         EGY|  Artistic Swimming|\n",
      "| ABDALRASOOL Mohamed|         SUD|               Judo|\n",
      "|   ABDEL LATIF Radwa|         EGY|           Shooting|\n",
      "|    ABDEL RAZEK Samy|         EGY|           Shooting|\n",
      "|   ABDELAZIZ Abdalla|         EGY|             Karate|\n",
      "+--------------------+------------+-------------------+\n",
      "only showing top 20 rows\n",
      "\n"
     ]
    }
   ],
   "source": [
    "tokyo_athletes.show()"
   ]
  },
  {
   "cell_type": "code",
   "execution_count": 0,
   "metadata": {
    "application/vnd.databricks.v1+cell": {
     "cellMetadata": {
      "byteLimit": 2048000,
      "rowLimit": 10000
     },
     "inputWidgets": {},
     "nuid": "c9652a4a-c32c-4b57-8380-a11c71ff1e0b",
     "showTitle": false,
     "tableResultSettingsMap": {},
     "title": ""
    }
   },
   "outputs": [],
   "source": [
    "tokyo_athletes.coalesce(1).write.mode(\"overwrite\").option(\"header\",'true').parquet(\"/mnt/olympic/transformed/tokyo/athletes\")"
   ]
  },
  {
   "cell_type": "code",
   "execution_count": 0,
   "metadata": {
    "application/vnd.databricks.v1+cell": {
     "cellMetadata": {
      "byteLimit": 2048000,
      "rowLimit": 10000
     },
     "inputWidgets": {},
     "nuid": "e0073dfe-5b9e-4147-9a8c-e489cfaad350",
     "showTitle": false,
     "tableResultSettingsMap": {},
     "title": ""
    }
   },
   "outputs": [],
   "source": [
    "read_ath = spark.read.format(\"parquet\").option(\"header\",\"true\").option(\"inferSchema\",\"true\").load(\"/mnt/olympic/transformed/paris/athlets_all\")"
   ]
  },
  {
   "cell_type": "code",
   "execution_count": 0,
   "metadata": {
    "application/vnd.databricks.v1+cell": {
     "cellMetadata": {
      "byteLimit": 2048000,
      "rowLimit": 10000
     },
     "inputWidgets": {},
     "nuid": "f93fe718-be70-4ef5-b5eb-d4eb99b1dc4a",
     "showTitle": false,
     "tableResultSettingsMap": {},
     "title": ""
    }
   },
   "outputs": [
    {
     "name": "stdout",
     "output_type": "stream",
     "text": [
      "+-------+-------+----------------+------------+----------------+------+--------+------------+-------+------------+-----------+----------------+----------------+------+------+-------------+------------------------------+----------+-----------+-------------+---------------+-----------------+----------+-----------------------------+----------+----------------------------------------------------+-------------------------+--------------------------+-------------------------------+---------------------------------------------------+--------------------------------------------------------------------------------------------------------------------------------------------------------------------------------------------------------------------------------+-----------------------------+------------------------------------------------------+------------------+------+------------+\n",
      "|code   |current|name            |name_short  |name_tv         |gender|function|country_code|country|country_long|nationality|nationality_long|nationality_code|height|weight|disciplines  |events                        |birth_date|birth_place|birth_country|residence_place|residence_country|nickname  |hobbies                      |occupation|education                                           |family                   |lang                      |coach                          |reason                                             |hero                                                                                                                                                                                                                            |influence                    |philosophy                                            |sporting_relatives|ritual|other_sports|\n",
      "+-------+-------+----------------+------------+----------------+------+--------+------------+-------+------------+-----------+----------------+----------------+------+------+-------------+------------------------------+----------+-----------+-------------+---------------+-----------------+----------+-----------------------------+----------+----------------------------------------------------+-------------------------+--------------------------+-------------------------------+---------------------------------------------------+--------------------------------------------------------------------------------------------------------------------------------------------------------------------------------------------------------------------------------+-----------------------------+------------------------------------------------------+------------------+------+------------+\n",
      "|1532872|true   |ALEKSANYAN Artur|ALEKSANYAN A|Artur ALEKSANYAN|Male  |Athlete |ARM         |Armenia|Armenia     |Armenia    |Armenia         |ARM             |0.0   |0.0   |['Wrestling']|\"[\"\"Men's Greco-Roman 97kg\"\"]\"|1991-10-21|GYUMRI     |Armenia      |GYUMRI         |Armenia          |White Bear|Playing and watching football|Athlete   |Graduated from Shirak State University (Gyumri, ARM)|Father, Gevorg Aleksanyan|Armenian, English, Russian|Gevorg Aleksanyan (ARM), father|He followed his father and his uncle into the sport|Footballer Zinedine Zidane (FRA), World Cup winner (1998) and European champion (2000) with France, won the Champions League as a player and three times as a manager with Real Madrid, three-time FIFA World Player of the Year|His father, Gevorg Aleksanyan|\"\"\"Wrestling is my life.\"\" (mediamax.am. 18 May 2016)\"|NULL              |NULL  |NULL        |\n",
      "+-------+-------+----------------+------------+----------------+------+--------+------------+-------+------------+-----------+----------------+----------------+------+------+-------------+------------------------------+----------+-----------+-------------+---------------+-----------------+----------+-----------------------------+----------+----------------------------------------------------+-------------------------+--------------------------+-------------------------------+---------------------------------------------------+--------------------------------------------------------------------------------------------------------------------------------------------------------------------------------------------------------------------------------+-----------------------------+------------------------------------------------------+------------------+------+------------+\n",
      "only showing top 1 row\n",
      "\n"
     ]
    }
   ],
   "source": [
    "read_ath.show(1,truncate=False)"
   ]
  },
  {
   "cell_type": "code",
   "execution_count": 0,
   "metadata": {
    "application/vnd.databricks.v1+cell": {
     "cellMetadata": {
      "byteLimit": 2048000,
      "rowLimit": 10000
     },
     "inputWidgets": {},
     "nuid": "b5d01660-d9f0-43f2-b51b-5a3f9f1ee740",
     "showTitle": false,
     "tableResultSettingsMap": {},
     "title": ""
    }
   },
   "outputs": [],
   "source": [
    "raw_ath = spark.read.csv(\"/mnt/olympic/raw/Paris/athletes.csv\", header=True, inferSchema=True)"
   ]
  },
  {
   "cell_type": "code",
   "execution_count": 0,
   "metadata": {
    "application/vnd.databricks.v1+cell": {
     "cellMetadata": {
      "byteLimit": 2048000,
      "rowLimit": 10000
     },
     "inputWidgets": {},
     "nuid": "beb527f2-a056-4e34-9e26-8b7606a8a0a6",
     "showTitle": false,
     "tableResultSettingsMap": {},
     "title": ""
    }
   },
   "outputs": [
    {
     "name": "stdout",
     "output_type": "stream",
     "text": [
      "+--------------------+-------------+\n",
      "|                name|birth_country|\n",
      "+--------------------+-------------+\n",
      "|     GALSTYAN Slavik|         NULL|\n",
      "|      ALFEREZ Regina|         NULL|\n",
      "|   ARELLANO Fernanda|         NULL|\n",
      "|      TOSCANO Pamela|         NULL|\n",
      "|   GONZALEZ Itzamary|         NULL|\n",
      "|   RODRIGUEZ Samanta|         NULL|\n",
      "|      INZUNZA Glenda|         NULL|\n",
      "|RUBAIAWI Ali Amma...|         NULL|\n",
      "|      HASSAN Ibrahim|         NULL|\n",
      "| HASSAN NOUR Samiyah|         NULL|\n",
      "|HOUSSEIN BARKAT H...|         NULL|\n",
      "|       TEJEDA Adirem|         NULL|\n",
      "|     AL SAYEGH Safia|         NULL|\n",
      "|         RUIZ Angela|         NULL|\n",
      "|RENTERIA RENTERIA...|         NULL|\n",
      "|       ABDOLI Samyar|         NULL|\n",
      "|AL MARZOOQI Omar ...|         NULL|\n",
      "|PEREIRA Veronica ...|         NULL|\n",
      "|          MPALI Adam|         NULL|\n",
      "|  AMISON Naima-Zahra|         NULL|\n",
      "|SANDOVAL AYALA Ma...|         NULL|\n",
      "|        ROJAS Carlos|         NULL|\n",
      "| MARTINEZ WING Bruno|         NULL|\n",
      "|       FALLAH Mobina|         NULL|\n",
      "|JAVADI ALIABADI M...|         NULL|\n",
      "|       MAYALA Freddy|         NULL|\n",
      "|     BOBIMBO Vanessa|         NULL|\n",
      "|          QUEK Izaac|         NULL|\n",
      "|        HEPLER Kayla|         NULL|\n",
      "| GADAYI Edwin Kwabla|         NULL|\n",
      "+--------------------+-------------+\n",
      "only showing top 30 rows\n",
      "\n"
     ]
    }
   ],
   "source": [
    "raw_ath.where(col(\"birth_country\").isNull()).select(\"name\",\"birth_country\").show(30)"
   ]
  },
  {
   "cell_type": "markdown",
   "metadata": {
    "application/vnd.databricks.v1+cell": {
     "cellMetadata": {},
     "inputWidgets": {},
     "nuid": "ef914868-2bc6-4d6a-ba82-d54661ef5123",
     "showTitle": false,
     "tableResultSettingsMap": {},
     "title": ""
    }
   },
   "source": [
    "Below we can see that the code is not correctly separating the events."
   ]
  },
  {
   "cell_type": "code",
   "execution_count": 0,
   "metadata": {
    "application/vnd.databricks.v1+cell": {
     "cellMetadata": {
      "byteLimit": 2048000,
      "rowLimit": 10000
     },
     "inputWidgets": {},
     "nuid": "9219877d-b278-483e-803a-5f60fd0debd8",
     "showTitle": false,
     "tableResultSettingsMap": {},
     "title": ""
    }
   },
   "outputs": [
    {
     "name": "stdout",
     "output_type": "stream",
     "text": [
      "+-------+-------+-------------+----------+-------------+------+--------+------------+--------+------------+-----------+----------------+----------------+------+------+-------------+--------------------+--------------------+-----------+-------------+---------------+-----------------+---------+-------+----------+---------+--------------------+--------------------+-------+--------------------+----+--------------------+----------+------------------+------+--------------------+\n",
      "|   code|current|         name|name_short|      name_tv|gender|function|country_code| country|country_long|nationality|nationality_long|nationality_code|height|weight|  disciplines|              events|          birth_date|birth_place|birth_country|residence_place|residence_country| nickname|hobbies|occupation|education|              family|                lang|  coach|              reason|hero|           influence|philosophy|sporting_relatives|ritual|        other_sports|\n",
      "+-------+-------+-------------+----------+-------------+------+--------+------------+--------+------------+-----------+----------------+----------------+------+------+-------------+--------------------+--------------------+-----------+-------------+---------------+-----------------+---------+-------+----------+---------+--------------------+--------------------+-------+--------------------+----+--------------------+----------+------------------+------+--------------------+\n",
      "|1532951|   true|ARENAS Lorena|  ARENAS L|Lorena ARENAS|Female| Athlete|         COL|Colombia|    Colombia|   Colombia|        Colombia|             COL| 162.0|   0.0|['Athletics']|\"[\"\"Women's 20km ...| 'Marathon Race W...| 1993-09-17|      PEREIRA|       Colombia|        MELBOURNE|Australia|   NULL|      NULL|  Athlete|Physical Educatio...|Father, Jose Oton...|Spanish|Personal: Brent V...|NULL|Race walker Luis ...|      NULL|              NULL|  NULL|In competition sh...|\n",
      "+-------+-------+-------------+----------+-------------+------+--------+------------+--------+------------+-----------+----------------+----------------+------+------+-------------+--------------------+--------------------+-----------+-------------+---------------+-----------------+---------+-------+----------+---------+--------------------+--------------------+-------+--------------------+----+--------------------+----------+------------------+------+--------------------+\n",
      "\n"
     ]
    }
   ],
   "source": [
    "read_ath.where(col(\"code\") == 1532951).show()"
   ]
  },
  {
   "cell_type": "markdown",
   "metadata": {
    "application/vnd.databricks.v1+cell": {
     "cellMetadata": {},
     "inputWidgets": {},
     "nuid": "959d8c28-a715-4b52-95e9-f7ec8d9287bf",
     "showTitle": false,
     "tableResultSettingsMap": {},
     "title": ""
    }
   },
   "source": [
    "Below we can see that the birthplace is correct"
   ]
  },
  {
   "cell_type": "code",
   "execution_count": 0,
   "metadata": {
    "application/vnd.databricks.v1+cell": {
     "cellMetadata": {
      "byteLimit": 2048000,
      "rowLimit": 10000
     },
     "inputWidgets": {},
     "nuid": "ddba6363-4e37-4cf3-84e3-86cfb5dd14a1",
     "showTitle": false,
     "tableResultSettingsMap": {},
     "title": ""
    }
   },
   "outputs": [
    {
     "name": "stdout",
     "output_type": "stream",
     "text": [
      "+-------------+-------+-----------+\n",
      "|         name|   code|birth_place|\n",
      "+-------------+-------+-----------+\n",
      "|ARENAS Lorena|1532951|    PEREIRA|\n",
      "+-------------+-------+-----------+\n",
      "\n"
     ]
    }
   ],
   "source": [
    "df = spark.read.csv(\"/mnt/olympic/raw/Paris/athletes.csv\", header=True, inferSchema=True, multiLine=True, quote='\"', escape='\"')\n",
    "df.where(col(\"code\") == 1532951).select(\"name\",\"code\",\"birth_place\").show()\n"
   ]
  },
  {
   "cell_type": "code",
   "execution_count": 0,
   "metadata": {
    "application/vnd.databricks.v1+cell": {
     "cellMetadata": {
      "byteLimit": 2048000,
      "rowLimit": 10000
     },
     "inputWidgets": {},
     "nuid": "c9deaae4-87ac-4f64-afcb-f7bb38f0f29f",
     "showTitle": false,
     "tableResultSettingsMap": {},
     "title": ""
    }
   },
   "outputs": [],
   "source": [
    "df.write.mode(\"overwrite\").option(\"header\",'true').parquet(\"/mnt/olympic/transformed/paris/athlets_all\")"
   ]
  },
  {
   "cell_type": "code",
   "execution_count": 0,
   "metadata": {
    "application/vnd.databricks.v1+cell": {
     "cellMetadata": {
      "byteLimit": 2048000,
      "rowLimit": 10000
     },
     "inputWidgets": {},
     "nuid": "4c874d61-abb1-4c81-859e-e2c7c05e83bc",
     "showTitle": false,
     "tableResultSettingsMap": {},
     "title": ""
    }
   },
   "outputs": [],
   "source": [
    "athlete_location = df.select(\"code\",\"name\",\"country\",\"nationality\",\"birth_country\",\"residence_country\")"
   ]
  },
  {
   "cell_type": "code",
   "execution_count": 0,
   "metadata": {
    "application/vnd.databricks.v1+cell": {
     "cellMetadata": {
      "byteLimit": 2048000,
      "rowLimit": 10000
     },
     "inputWidgets": {},
     "nuid": "1e5ae97b-ce8e-41d7-b8f3-43adf209661a",
     "showTitle": false,
     "tableResultSettingsMap": {},
     "title": ""
    }
   },
   "outputs": [],
   "source": [
    "athlete_location.write.mode(\"overwrite\").option(\"header\",'true').parquet(\"/mnt/olympic/transformed/paris/athlete_location\")"
   ]
  },
  {
   "cell_type": "code",
   "execution_count": 0,
   "metadata": {
    "application/vnd.databricks.v1+cell": {
     "cellMetadata": {
      "byteLimit": 2048000,
      "rowLimit": 10000
     },
     "inputWidgets": {},
     "nuid": "8f9c1a4a-188a-4424-8901-7cef4d6de47a",
     "showTitle": false,
     "tableResultSettingsMap": {},
     "title": ""
    }
   },
   "outputs": [
    {
     "name": "stdout",
     "output_type": "stream",
     "text": [
      "root\n",
      " |-- code: integer (nullable = true)\n",
      " |-- name: string (nullable = true)\n",
      " |-- country: string (nullable = true)\n",
      " |-- nationality: string (nullable = true)\n",
      " |-- birth_country: string (nullable = true)\n",
      " |-- residence_country: string (nullable = true)\n",
      "\n"
     ]
    }
   ],
   "source": [
    "athlete_location.printSchema()"
   ]
  },
  {
   "cell_type": "markdown",
   "metadata": {
    "application/vnd.databricks.v1+cell": {
     "cellMetadata": {},
     "inputWidgets": {},
     "nuid": "c7bfebce-34bc-4afe-b1dc-994ff3d190c5",
     "showTitle": false,
     "tableResultSettingsMap": {},
     "title": ""
    }
   },
   "source": [
    "Count of Athletes per Country"
   ]
  },
  {
   "cell_type": "code",
   "execution_count": 0,
   "metadata": {
    "application/vnd.databricks.v1+cell": {
     "cellMetadata": {
      "byteLimit": 2048000,
      "rowLimit": 10000
     },
     "inputWidgets": {},
     "nuid": "f408aff3-2d42-42c1-b102-b68828026bcc",
     "showTitle": false,
     "tableResultSettingsMap": {},
     "title": ""
    }
   },
   "outputs": [],
   "source": [
    "df_gold = athlete_location.groupBy(\"country\").agg(count(\"code\").alias(\"num_athletes\")).orderBy(desc(\"num_athletes\"))"
   ]
  },
  {
   "cell_type": "code",
   "execution_count": 0,
   "metadata": {
    "application/vnd.databricks.v1+cell": {
     "cellMetadata": {
      "byteLimit": 2048000,
      "rowLimit": 10000
     },
     "inputWidgets": {},
     "nuid": "f7f94246-1f29-42aa-b716-1da9dbcc7653",
     "showTitle": false,
     "tableResultSettingsMap": {},
     "title": ""
    }
   },
   "outputs": [
    {
     "name": "stdout",
     "output_type": "stream",
     "text": [
      "+-------------+------------+\n",
      "|      country|num_athletes|\n",
      "+-------------+------------+\n",
      "|United States|         619|\n",
      "|       France|         601|\n",
      "|    Australia|         475|\n",
      "|      Germany|         457|\n",
      "|        Japan|         431|\n",
      "|        Spain|         401|\n",
      "|        China|         398|\n",
      "|        Italy|         397|\n",
      "|Great Britain|         343|\n",
      "|       Canada|         332|\n",
      "|  Netherlands|         290|\n",
      "|       Brazil|         290|\n",
      "|       Poland|         226|\n",
      "|  New Zealand|         208|\n",
      "|      Hungary|         177|\n",
      "|      Belgium|         177|\n",
      "|        Egypt|         157|\n",
      "|        Korea|         147|\n",
      "|    Argentina|         143|\n",
      "|      Ireland|         143|\n",
      "+-------------+------------+\n",
      "only showing top 20 rows\n",
      "\n"
     ]
    }
   ],
   "source": [
    "df_gold.show()"
   ]
  },
  {
   "cell_type": "markdown",
   "metadata": {
    "application/vnd.databricks.v1+cell": {
     "cellMetadata": {},
     "inputWidgets": {},
     "nuid": "84c83a8d-d82c-415b-8b37-f551257acf1b",
     "showTitle": false,
     "tableResultSettingsMap": {},
     "title": ""
    }
   },
   "source": [
    "Count of Athletes per Birth country"
   ]
  },
  {
   "cell_type": "code",
   "execution_count": 0,
   "metadata": {
    "application/vnd.databricks.v1+cell": {
     "cellMetadata": {
      "byteLimit": 2048000,
      "rowLimit": 10000
     },
     "inputWidgets": {},
     "nuid": "7f4edcd0-834b-4a2e-9de3-b49ae2e46355",
     "showTitle": false,
     "tableResultSettingsMap": {},
     "title": ""
    }
   },
   "outputs": [
    {
     "name": "stdout",
     "output_type": "stream",
     "text": [
      "+-------------+------------+\n",
      "|birth_country|num_athletes|\n",
      "+-------------+------------+\n",
      "|         NULL|        1638|\n",
      "|United States|         705|\n",
      "|       France|         552|\n",
      "|      Germany|         396|\n",
      "|        Japan|         393|\n",
      "|    Australia|         391|\n",
      "|        China|         367|\n",
      "|        Italy|         353|\n",
      "|        Spain|         341|\n",
      "|Great Britain|         338|\n",
      "|       Canada|         290|\n",
      "|       Brazil|         267|\n",
      "|  Netherlands|         235|\n",
      "|  New Zealand|         186|\n",
      "|       Poland|         164|\n",
      "|      Hungary|         148|\n",
      "|      Belgium|         139|\n",
      "|    Argentina|         137|\n",
      "|      Ukraine|         136|\n",
      "| South Africa|         123|\n",
      "+-------------+------------+\n",
      "only showing top 20 rows\n",
      "\n"
     ]
    }
   ],
   "source": [
    "df_gold = athlete_location.groupBy(\"birth_country\").agg(count(\"code\").alias(\"num_athletes\")).orderBy(desc(\"num_athletes\"))\n",
    "df_gold.show()\n",
    "df_gold.write.mode(\"overwrite\").option(\"header\",'true').parquet(\"/mnt/olympic/gold/paris/athletes_per_birth_country\")"
   ]
  },
  {
   "cell_type": "markdown",
   "metadata": {
    "application/vnd.databricks.v1+cell": {
     "cellMetadata": {},
     "inputWidgets": {},
     "nuid": "deeaed3b-27bf-4872-b455-400b7c2c434a",
     "showTitle": false,
     "tableResultSettingsMap": {},
     "title": ""
    }
   },
   "source": [
    "There are athletes whose birth country is different and they are playing for different country. "
   ]
  },
  {
   "cell_type": "code",
   "execution_count": 0,
   "metadata": {
    "application/vnd.databricks.v1+cell": {
     "cellMetadata": {
      "byteLimit": 2048000,
      "rowLimit": 10000
     },
     "inputWidgets": {},
     "nuid": "e9c91525-218a-4c0b-acec-73d4710496d2",
     "showTitle": false,
     "tableResultSettingsMap": {},
     "title": ""
    }
   },
   "outputs": [
    {
     "name": "stdout",
     "output_type": "stream",
     "text": [
      "+-----------------------+-----------------+\n",
      "|now_playing_for_country|migrated_athletes|\n",
      "+-----------------------+-----------------+\n",
      "|              Australia|               61|\n",
      "|                 France|               43|\n",
      "|                 Canada|               39|\n",
      "|                  Italy|               37|\n",
      "|                Ireland|               36|\n",
      "|                    EOR|               36|\n",
      "|                  Spain|               34|\n",
      "|                 Serbia|               29|\n",
      "|                Germany|               28|\n",
      "|            Puerto Rico|               27|\n",
      "|          United States|               26|\n",
      "|                    AIN|               24|\n",
      "|            New Zealand|               22|\n",
      "|          Great Britain|               20|\n",
      "|                Nigeria|               20|\n",
      "|             Azerbaijan|               19|\n",
      "|                 Israel|               15|\n",
      "|                Hungary|               15|\n",
      "|                Morocco|               15|\n",
      "|            Netherlands|               15|\n",
      "+-----------------------+-----------------+\n",
      "only showing top 20 rows\n",
      "\n"
     ]
    }
   ],
   "source": [
    "from pyspark.sql.functions import when, sum\n",
    "\n",
    "df_gold = athlete_location.withColumn(\n",
    "    \"migrated\",\n",
    "    when(df[\"birth_country\"] != df[\"country\"], 1).otherwise(0)\n",
    ").groupBy(\"country\").agg(\n",
    "    sum(\"migrated\").alias(\"migrated_athletes\")\n",
    ").withColumnRenamed(\"country\", \"now_playing_for_country\").orderBy(desc(\"migrated_athletes\"))\n",
    "df_gold.show()\n",
    "df_gold.write.mode(\"overwrite\").option(\"header\",'true').parquet(\"/mnt/olympic/gold/paris/athletes_playing_for_country\")\n"
   ]
  },
  {
   "cell_type": "code",
   "execution_count": 0,
   "metadata": {
    "application/vnd.databricks.v1+cell": {
     "cellMetadata": {
      "byteLimit": 2048000,
      "rowLimit": 10000
     },
     "inputWidgets": {},
     "nuid": "3cef30ea-4c02-4805-94fa-621ab315b2e4",
     "showTitle": false,
     "tableResultSettingsMap": {},
     "title": ""
    }
   },
   "outputs": [
    {
     "name": "stdout",
     "output_type": "stream",
     "text": [
      "+------------------+-----------------+\n",
      "|     migrated_from|migrated_athletes|\n",
      "+------------------+-----------------+\n",
      "|     United States|              179|\n",
      "|Russian Federation|               79|\n",
      "|     Great Britain|               63|\n",
      "|            France|               61|\n",
      "|           Germany|               33|\n",
      "|           IR Iran|               20|\n",
      "|           Ukraine|               20|\n",
      "|              Cuba|               20|\n",
      "|         Australia|               19|\n",
      "|             China|               19|\n",
      "|             Kenya|               17|\n",
      "|          Ethiopia|               16|\n",
      "|      South Africa|               16|\n",
      "|             Spain|               16|\n",
      "|           Belarus|               15|\n",
      "|            Canada|               12|\n",
      "|             Italy|               12|\n",
      "|       Switzerland|               12|\n",
      "|           Belgium|               11|\n",
      "|       New Zealand|               11|\n",
      "+------------------+-----------------+\n",
      "only showing top 20 rows\n",
      "\n"
     ]
    }
   ],
   "source": [
    "\n",
    "df_gold = athlete_location.withColumn(\n",
    "    \"migrated\",\n",
    "    when(df[\"birth_country\"] != df[\"country\"], 1).otherwise(0)\n",
    ").groupBy(\"birth_country\").agg(\n",
    "    sum(\"migrated\").alias(\"migrated_athletes\")\n",
    ").withColumnRenamed(\"birth_country\", \"migrated_from\").orderBy(desc(\"migrated_athletes\"))\n",
    "df_gold.show()\n",
    "df_gold.write.mode(\"overwrite\").option(\"header\",'true').parquet(\"/mnt/olympic/gold/paris/athletes_migrated_from_country\")"
   ]
  },
  {
   "cell_type": "code",
   "execution_count": 0,
   "metadata": {
    "application/vnd.databricks.v1+cell": {
     "cellMetadata": {
      "byteLimit": 2048000,
      "rowLimit": 10000
     },
     "inputWidgets": {},
     "nuid": "6c65495e-98fc-4aa6-9047-71bf6b5be64d",
     "showTitle": false,
     "tableResultSettingsMap": {},
     "title": ""
    }
   },
   "outputs": [
    {
     "name": "stdout",
     "output_type": "stream",
     "text": [
      "+--------------+--------------+-----------------+--------------+\n",
      "|       country|total_athletes|migrated_athletes|migration_rate|\n",
      "+--------------+--------------+-----------------+--------------+\n",
      "|           EOR|            37|               36|          97.3|\n",
      "|         Haiti|             7|                6|         85.71|\n",
      "|       Bahrain|            14|               12|         85.71|\n",
      "|Cayman Islands|             4|                3|          75.0|\n",
      "|           AIN|            32|               24|          75.0|\n",
      "|   South Sudan|            14|                9|         64.29|\n",
      "|     Palestine|             8|                5|          62.5|\n",
      "|   Puerto Rico|            51|               27|         52.94|\n",
      "|      Honduras|             4|                2|          50.0|\n",
      "|       Comoros|             4|                2|          50.0|\n",
      "|       Andorra|             2|                1|          50.0|\n",
      "|    Mauritania|             2|                1|          50.0|\n",
      "|American Samoa|             2|                1|          50.0|\n",
      "|  Cook Islands|             2|                1|          50.0|\n",
      "|         Qatar|            13|                6|         46.15|\n",
      "|   UA Emirates|            13|                6|         46.15|\n",
      "|       Lebanon|             9|                4|         44.44|\n",
      "|        Gambia|             7|                3|         42.86|\n",
      "|        Cyprus|            15|                6|          40.0|\n",
      "|        Guyana|             5|                2|          40.0|\n",
      "+--------------+--------------+-----------------+--------------+\n",
      "only showing top 20 rows\n",
      "\n"
     ]
    }
   ],
   "source": [
    "df_migrated = athlete_location.withColumn(\n",
    "    \"migrated\",\n",
    "    when(df[\"birth_country\"] != df[\"country\"], 1).otherwise(0)\n",
    ")\n",
    "\n",
    "df_gold = df_migrated.groupBy(\"country\").agg(\n",
    "    count(\"code\").alias(\"total_athletes\"),\n",
    "    sum(\"migrated\").alias(\"migrated_athletes\")\n",
    ").withColumn(\"migration_rate\", round((col(\"migrated_athletes\") / col(\"total_athletes\")) * 100,2)).orderBy(desc(\"migration_rate\"))\n",
    "df_gold.show()\n",
    "df_gold.write.mode(\"overwrite\").option(\"header\",'true').parquet(\"/mnt/olympic/gold/paris/athletes_migration_rate\")\n"
   ]
  },
  {
   "cell_type": "code",
   "execution_count": 0,
   "metadata": {
    "application/vnd.databricks.v1+cell": {
     "cellMetadata": {
      "byteLimit": 2048000,
      "rowLimit": 10000
     },
     "inputWidgets": {},
     "nuid": "fc3ce0fb-5648-432a-98df-eda523a9f268",
     "showTitle": false,
     "tableResultSettingsMap": {},
     "title": ""
    }
   },
   "outputs": [],
   "source": [
    "tokyo_coaches = spark.read.parquet(\"/mnt/olympic/transformed/tokyo/coaches\")"
   ]
  },
  {
   "cell_type": "code",
   "execution_count": 0,
   "metadata": {
    "application/vnd.databricks.v1+cell": {
     "cellMetadata": {
      "byteLimit": 2048000,
      "rowLimit": 10000
     },
     "inputWidgets": {},
     "nuid": "9430ee74-fa7a-4835-966c-baeac18af37b",
     "showTitle": false,
     "tableResultSettingsMap": {},
     "title": ""
    }
   },
   "outputs": [
    {
     "name": "stdout",
     "output_type": "stream",
     "text": [
      "+----+------------+----------+\n",
      "|name|country_code|discipline|\n",
      "+----+------------+----------+\n",
      "+----+------------+----------+\n",
      "\n"
     ]
    }
   ],
   "source": [
    "tokyo_coaches.where(col(\"country_code\").isNull()).show()"
   ]
  },
  {
   "cell_type": "code",
   "execution_count": 0,
   "metadata": {
    "application/vnd.databricks.v1+cell": {
     "cellMetadata": {
      "byteLimit": 2048000,
      "rowLimit": 10000
     },
     "inputWidgets": {},
     "nuid": "509e0dcb-ab71-4e4d-900e-55ba80af7922",
     "showTitle": false,
     "tableResultSettingsMap": {},
     "title": ""
    }
   },
   "outputs": [
    {
     "name": "stdout",
     "output_type": "stream",
     "text": [
      "root\n",
      " |-- name: string (nullable = true)\n",
      " |-- country_code: string (nullable = true)\n",
      " |-- discipline: string (nullable = true)\n",
      "\n"
     ]
    }
   ],
   "source": [
    "tokyo_coaches.printSchema()"
   ]
  },
  {
   "cell_type": "code",
   "execution_count": 0,
   "metadata": {
    "application/vnd.databricks.v1+cell": {
     "cellMetadata": {
      "byteLimit": 2048000,
      "rowLimit": 10000
     },
     "inputWidgets": {},
     "nuid": "c46043f9-6fbc-4624-8df2-0a5a7e9ae393",
     "showTitle": false,
     "tableResultSettingsMap": {},
     "title": ""
    }
   },
   "outputs": [],
   "source": [
    "tokyo_gender = spark.read.parquet(\"/mnt/olympic/transformed/tokyo/entriesgender\")"
   ]
  },
  {
   "cell_type": "code",
   "execution_count": 0,
   "metadata": {
    "application/vnd.databricks.v1+cell": {
     "cellMetadata": {
      "byteLimit": 2048000,
      "rowLimit": 10000
     },
     "inputWidgets": {},
     "nuid": "8d543a10-233b-4363-9bdc-eb9075d3536a",
     "showTitle": false,
     "tableResultSettingsMap": {},
     "title": ""
    }
   },
   "outputs": [
    {
     "name": "stdout",
     "output_type": "stream",
     "text": [
      "+--------------------+------+----+-----+-----------------+---------------+\n",
      "|          discipline|female|male|total|Female_Percentage|Male_Percentage|\n",
      "+--------------------+------+----+-----+-----------------+---------------+\n",
      "|      3x3 Basketball|    32|  32|   64|             50.0|           50.0|\n",
      "|             Archery|    64|  64|  128|             50.0|           50.0|\n",
      "| Artistic Gymnastics|    98|  98|  196|             50.0|           50.0|\n",
      "|   Artistic Swimming|   105|   0|  105|            100.0|            0.0|\n",
      "|           Athletics|   969|1072| 2041|            47.48|          52.52|\n",
      "|           Badminton|    86|  87|  173|            49.71|          50.29|\n",
      "|   Baseball/Softball|    90| 144|  234|            38.46|          61.54|\n",
      "|          Basketball|   144| 144|  288|             50.0|           50.0|\n",
      "|    Beach Volleyball|    48|  48|   96|             50.0|           50.0|\n",
      "|              Boxing|   102| 187|  289|            35.29|          64.71|\n",
      "|        Canoe Slalom|    41|  41|   82|             50.0|           50.0|\n",
      "|        Canoe Sprint|   123| 126|  249|             49.4|           50.6|\n",
      "|Cycling BMX Frees...|    10|   9|   19|            52.63|          47.37|\n",
      "|  Cycling BMX Racing|    24|  24|   48|             50.0|           50.0|\n",
      "|Cycling Mountain ...|    38|  38|   76|             50.0|           50.0|\n",
      "|        Cycling Road|    70| 131|  201|            34.83|          65.17|\n",
      "|       Cycling Track|    90|  99|  189|            47.62|          52.38|\n",
      "|              Diving|    72|  71|  143|            50.35|          49.65|\n",
      "|          Equestrian|    73| 125|  198|            36.87|          63.13|\n",
      "|             Fencing|   107| 108|  215|            49.77|          50.23|\n",
      "+--------------------+------+----+-----+-----------------+---------------+\n",
      "only showing top 20 rows\n",
      "\n"
     ]
    }
   ],
   "source": [
    "df_gold = tokyo_gender.withColumn(\n",
    "    \"Female_Percentage\", \n",
    "    round((col(\"Female\") / col(\"Total\")) * 100, 2)\n",
    ").withColumn(\n",
    "    \"Male_Percentage\", \n",
    "    round((col(\"Male\") / col(\"Total\")) * 100, 2)\n",
    ")\n",
    "\n",
    "df_gold.show()\n",
    "\n",
    "df_gold.write.mode(\"overwrite\").option(\"header\",'true').parquet(\"/mnt/olympic/gold/tokyo/gender_percentage\")\n"
   ]
  },
  {
   "cell_type": "code",
   "execution_count": 0,
   "metadata": {
    "application/vnd.databricks.v1+cell": {
     "cellMetadata": {
      "byteLimit": 2048000,
      "rowLimit": 10000
     },
     "inputWidgets": {},
     "nuid": "bc9c9c99-999e-427f-9589-6b844519e61e",
     "showTitle": false,
     "tableResultSettingsMap": {},
     "title": ""
    }
   },
   "outputs": [],
   "source": [
    "paris_gender = spark.read.parquet(\"/mnt/olympic/transformed/paris/entriesgender\")"
   ]
  },
  {
   "cell_type": "code",
   "execution_count": 0,
   "metadata": {
    "application/vnd.databricks.v1+cell": {
     "cellMetadata": {
      "byteLimit": 2048000,
      "rowLimit": 10000
     },
     "inputWidgets": {},
     "nuid": "99ad6c0e-d1cc-4372-b040-de732f2e76bd",
     "showTitle": false,
     "tableResultSettingsMap": {},
     "title": ""
    }
   },
   "outputs": [
    {
     "name": "stdout",
     "output_type": "stream",
     "text": [
      "+--------------------+------+----+-----+-----------------+---------------+\n",
      "|          discipline|female|male|total|Female_Percentage|Male_Percentage|\n",
      "+--------------------+------+----+-----+-----------------+---------------+\n",
      "|              Tennis|    87|  89|  176|            49.43|          50.57|\n",
      "|              Boxing|   124| 124|  248|             50.0|           50.0|\n",
      "|   Marathon Swimming|    20|  18|   38|            52.63|          47.37|\n",
      "|                Golf|    60|  60|  120|             50.0|           50.0|\n",
      "|              Rowing|   244| 249|  493|            49.49|          50.51|\n",
      "|                Judo|   186| 192|  378|            49.21|          50.79|\n",
      "|             Sailing|   165| 165|  330|             50.0|           50.0|\n",
      "|            Swimming|   386| 450|  836|            46.17|          53.83|\n",
      "|Cycling BMX Frees...|    12|  12|   24|             50.0|           50.0|\n",
      "|          Basketball|   143| 144|  287|            49.83|          50.17|\n",
      "|            Handball|   202| 184|  386|            52.33|          47.67|\n",
      "| Rhythmic Gymnastics|    94|   0|   94|            100.0|            0.0|\n",
      "|Marathon Swimming...|     4|  13|   17|            23.53|          76.47|\n",
      "|           Triathlon|    54|  57|  111|            48.65|          51.35|\n",
      "|           Badminton|    87|  88|  175|            49.71|          50.29|\n",
      "|        Canoe Sprint|   120| 119|  239|            50.21|          49.79|\n",
      "|           Athletics|   982|1038| 2020|            48.61|          51.39|\n",
      "|       Cycling Track|   110| 114|  224|            49.11|          50.89|\n",
      "|Cycling Road, Tri...|     1|   0|    1|            100.0|            0.0|\n",
      "|    Beach Volleyball|    48|  48|   96|             50.0|           50.0|\n",
      "+--------------------+------+----+-----+-----------------+---------------+\n",
      "only showing top 20 rows\n",
      "\n"
     ]
    }
   ],
   "source": [
    "df_gold = paris_gender.withColumn(\n",
    "    \"Female_Percentage\", \n",
    "    round((col(\"Female\") / col(\"Total\")) * 100, 2)\n",
    ").withColumn(\n",
    "    \"Male_Percentage\", \n",
    "    round((col(\"Male\") / col(\"Total\")) * 100, 2)\n",
    ")\n",
    "\n",
    "df_gold.show()\n",
    "\n",
    "df_gold.write.mode(\"overwrite\").option(\"header\",'true').parquet(\"/mnt/olympic/gold/paris/gender_percentage\")\n"
   ]
  },
  {
   "cell_type": "code",
   "execution_count": 0,
   "metadata": {
    "application/vnd.databricks.v1+cell": {
     "cellMetadata": {
      "byteLimit": 2048000,
      "rowLimit": 10000
     },
     "inputWidgets": {},
     "nuid": "bb80f81c-0993-4ffc-8825-a3dfa692b6b9",
     "showTitle": false,
     "tableResultSettingsMap": {},
     "title": ""
    }
   },
   "outputs": [
    {
     "name": "stdout",
     "output_type": "stream",
     "text": [
      "root\n",
      " |-- name: string (nullable = true)\n",
      " |-- country_code: string (nullable = true)\n",
      " |-- discipline: string (nullable = true)\n",
      "\n"
     ]
    }
   ],
   "source": [
    "paris_athletes = spark.read.parquet(\"/mnt/olympic/transformed/paris/athletes\")\n",
    "paris_athletes.printSchema()"
   ]
  },
  {
   "cell_type": "code",
   "execution_count": 0,
   "metadata": {
    "application/vnd.databricks.v1+cell": {
     "cellMetadata": {
      "byteLimit": 2048000,
      "rowLimit": 10000
     },
     "inputWidgets": {},
     "nuid": "1f6a21a5-560b-4548-b018-b81b4602dbd5",
     "showTitle": false,
     "tableResultSettingsMap": {},
     "title": ""
    }
   },
   "outputs": [
    {
     "name": "stdout",
     "output_type": "stream",
     "text": [
      "root\n",
      " |-- name: string (nullable = true)\n",
      " |-- country_code: string (nullable = true)\n",
      " |-- discipline: string (nullable = true)\n",
      "\n"
     ]
    }
   ],
   "source": [
    "tokyo_athletes.printSchema()"
   ]
  },
  {
   "cell_type": "code",
   "execution_count": 0,
   "metadata": {
    "application/vnd.databricks.v1+cell": {
     "cellMetadata": {
      "byteLimit": 2048000,
      "rowLimit": 10000
     },
     "inputWidgets": {},
     "nuid": "203d7a4c-1366-4b24-accd-70dab1db3f4c",
     "showTitle": false,
     "tableResultSettingsMap": {},
     "title": ""
    }
   },
   "outputs": [
    {
     "name": "stdout",
     "output_type": "stream",
     "text": [
      "+--------------------+------------+-------------------+--------------------+------------+-------------------+\n",
      "|                name|country_code|         discipline|                name|country_code|         discipline|\n",
      "+--------------------+------------+-------------------+--------------------+------------+-------------------+\n",
      "|         ABAD Nestor|         ESP|Artistic Gymnastics|         ABAD Nestor|         ESP|Artistic Gymnastics|\n",
      "|   ABAGNALE Giovanni|         ITA|             Rowing|   ABAGNALE Giovanni|         ITA|             Rowing|\n",
      "|        ABAROA Cesar|         CHI|             Rowing|        ABAROA Cesar|         CHI|             Rowing|\n",
      "|        ABBINGH Lois|         NED|           Handball|        ABBINGH Lois|         NED|           Handball|\n",
      "|ABDALLA Abubaker ...|         QAT|          Athletics|ABDALLA Abubaker ...|         QAT|          Athletics|\n",
      "|    ABDELRAHMAN Ihab|         EGY|          Athletics|    ABDELRAHMAN Ihab|         EGY|          Athletics|\n",
      "|         ABDI Bashir|         BEL|          Athletics|         ABDI Bashir|         BEL|          Athletics|\n",
      "|ABDUL RAHMAN Kiri...|         SGP|            Fencing|ABDUL RAHMAN Kiri...|         SGP|            Fencing|\n",
      "|ABDUL RAZZAQ Fath...|         MDV|          Badminton|ABDUL RAZZAQ Fath...|         MDV|          Badminton|\n",
      "|  ABDULLAEV Gulomjon|         UZB|          Wrestling|  ABDULLAEV Gulomjon|         UZB|          Wrestling|\n",
      "|      ABDULLIN Ilfat|         KAZ|            Archery|      ABDULLIN Ilfat|         KAZ|            Archery|\n",
      "|ABDURAKHIMOV Rasu...|         UZB|Artistic Gymnastics|ABDURAKHIMOV Rasu...|         UZB|Artistic Gymnastics|\n",
      "|          ABE Hifumi|         JPN|               Judo|          ABE Hifumi|         JPN|               Judo|\n",
      "|             ABE Uta|         JPN|               Judo|             ABE Uta|         JPN|               Judo|\n",
      "|         ABIAN Pablo|         ESP|          Badminton|         ABIAN Pablo|         ESP|          Badminton|\n",
      "|     ABICHA Mohammed|         MAR|   Beach Volleyball|     ABICHA Mohammed|         MAR|   Beach Volleyball|\n",
      "|       ABICHT Lorena|         AUT|            Sailing|       ABICHT Lorena|         AUT|            Sailing|\n",
      "|ABOUELKASSEM Alaa...|         EGY|            Fencing|ABOUELKASSEM Alaa...|         EGY|            Fencing|\n",
      "|     ABRAHAM Tadesse|         SUI|          Athletics|     ABRAHAM Tadesse|         SUI|          Athletics|\n",
      "|       ABRAMS Aliyah|         GUY|          Athletics|       ABRAMS Aliyah|         GUY|          Athletics|\n",
      "+--------------------+------------+-------------------+--------------------+------------+-------------------+\n",
      "only showing top 20 rows\n",
      "\n"
     ]
    }
   ],
   "source": [
    "df_joined = paris_athletes.alias(\"df1\").join(tokyo_athletes.alias(\"df2\"), (paris_athletes[\"name\"] == tokyo_athletes[\"name\"]) & (paris_athletes[\"country_code\"] == tokyo_athletes[\"country_code\"]), \"inner\").select(\"df1.name\", \"df1.country_code\",\"df1.Discipline\", \"df2.Discipline\")\n",
    "\n",
    "df_joined.show()\n",
    "\n",
    "df.joined.write.mode(\"overwrite\").option(\"header\",'true').parquet(\"/mnt/olympic/gold/paris/repeating_athletes\")"
   ]
  },
  {
   "cell_type": "code",
   "execution_count": 0,
   "metadata": {
    "application/vnd.databricks.v1+cell": {
     "cellMetadata": {
      "byteLimit": 2048000,
      "rowLimit": 10000
     },
     "inputWidgets": {},
     "nuid": "e3f162ca-b1ae-4b69-934d-419876f44021",
     "showTitle": false,
     "tableResultSettingsMap": {},
     "title": ""
    }
   },
   "outputs": [],
   "source": [
    "tokyo_teams = spark.read.parquet(\"/mnt/olympic/transformed/tokyo/teams\")"
   ]
  },
  {
   "cell_type": "code",
   "execution_count": 0,
   "metadata": {
    "application/vnd.databricks.v1+cell": {
     "cellMetadata": {
      "byteLimit": 2048000,
      "rowLimit": 10000
     },
     "inputWidgets": {},
     "nuid": "a21be636-6252-43ae-b9fd-7d344a2d1df6",
     "showTitle": false,
     "tableResultSettingsMap": {},
     "title": ""
    }
   },
   "outputs": [
    {
     "name": "stdout",
     "output_type": "stream",
     "text": [
      "root\n",
      " |-- name: string (nullable = true)\n",
      " |-- discipline: string (nullable = true)\n",
      " |-- noc: string (nullable = true)\n",
      " |-- event: string (nullable = true)\n",
      "\n"
     ]
    }
   ],
   "source": [
    "tokyo_teams.printSchema()"
   ]
  },
  {
   "cell_type": "code",
   "execution_count": 0,
   "metadata": {
    "application/vnd.databricks.v1+cell": {
     "cellMetadata": {},
     "inputWidgets": {},
     "nuid": "a14f393d-6eac-4e0e-8c95-276a5ce47d59",
     "showTitle": false,
     "tableResultSettingsMap": {},
     "title": ""
    }
   },
   "outputs": [],
   "source": []
  }
 ],
 "metadata": {
  "application/vnd.databricks.v1+notebook": {
   "computePreferences": null,
   "dashboards": [],
   "environmentMetadata": {
    "base_environment": "",
    "environment_version": "2"
   },
   "language": "python",
   "notebookMetadata": {
    "mostRecentlyExecutedCommandWithImplicitDF": {
     "commandId": 5088050771092178,
     "dataframes": [
      "_sqldf"
     ]
    },
    "pythonIndentUnit": 4
   },
   "notebookName": "Gold Layer Transformations",
   "widgets": {}
  },
  "language_info": {
   "name": "python"
  }
 },
 "nbformat": 4,
 "nbformat_minor": 0
}
